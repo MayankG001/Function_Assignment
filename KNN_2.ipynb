{
 "cells": [
  {
   "cell_type": "markdown",
   "id": "aed9d34e-727e-4cfa-9c9e-0e774e7e3e60",
   "metadata": {},
   "source": [
    "**Q1. What is the main difference between the Euclidean distance metric and the Manhattan distance\n",
    "metric in KNN? How might this difference affect the performance of a KNN classifier or regressor?**"
   ]
  },
  {
   "attachments": {
    "4ecf2af7-a898-4337-babb-adbbe96c28ba.png": {
     "image/png": "[encoded data removed]"
    },
    "d7f3794a-cafd-41d1-80f0-f845abe122f0.png": {
     "image/png": "[encoded data removed]"
    }
   },
   "cell_type": "markdown",
   "id": "4638e8f9-ac25-4118-b952-84d8fb0d3c4c",
   "metadata": {},
   "source": [
    "The main difference between the Euclidean distance and the Manhattan distance metrics in KNN is how they measure distance:\n",
    "\n",
    "* Euclidean Distance: This is the straight-line distance between two points in Euclidean space. It is calculated using the formula:\n",
    "\n",
    "![Screenshot 2024-08-04 182538.png](attachment:d7f3794a-cafd-41d1-80f0-f845abe122f0.png)\n",
    "\n",
    "It is sensitive to the scale of the data and can be affected by outliers.\n",
    "\n",
    "* Manhattan Distance: Also known as L1 distance or taxicab distance, it measures the distance between two points by summing the absolute differences of their coordinates:\n",
    "\n",
    "![Screenshot 2024-08-04 182542.png](attachment:4ecf2af7-a898-4337-babb-adbbe96c28ba.png)\n",
    "\n",
    "It is less sensitive to outliers compared to Euclidean distance"
   ]
  },
  {
   "cell_type": "markdown",
   "id": "ad1554d4-09a4-4c27-befc-ade6d72dc396",
   "metadata": {},
   "source": [
    "**Q2. How do you choose the optimal value of k for a KNN classifier or regressor? What techniques can be\n",
    "used to determine the optimal k value?**"
   ]
  },
  {
   "cell_type": "markdown",
   "id": "971b65c7-1a75-421a-a073-8008bc9c4c62",
   "metadata": {},
   "source": [
    "To determine the optimal value of k for a KNN classifier or regressor, techniques such as cross-validation can be used. The process involves:\n",
    "\n",
    "1. Splitting the dataset into training and validation sets.\n",
    "2. Testing various values of k (e.g., 1, 3, 5, 7, etc.) and evaluating the model's performance on the validation set.\n",
    "3. Selecting the k that yields the best performance metric (e.g., accuracy for classification, mean squared error for regression)."
   ]
  },
  {
   "cell_type": "markdown",
   "id": "2c5f96d4-d371-4427-ab97-bf785fdbcf76",
   "metadata": {},
   "source": [
    "**Q3. How does the choice of distance metric affect the performance of a KNN classifier or regressor? In\n",
    "what situations might you choose one distance metric over the other?**"
   ]
  },
  {
   "cell_type": "markdown",
   "id": "7668952d-9f71-49b8-ba1b-04280c7ece87",
   "metadata": {},
   "source": [
    "The choice of distance metric can significantly affect the performance of a KNN classifier or regressor. For example:\n",
    "\n",
    "* Euclidean Distance: Works well with continuous data and when the data is normally distributed. However, it may perform poorly with high-dimensional data due to the curse of dimensionality.\n",
    "\n",
    "* Manhattan Distance: Can be more effective in high-dimensional spaces and with categorical data. It may also be more robust to outliers.\n",
    "\n",
    "In situations where the data has different scales or distributions, the choice of distance metric can lead to different model performances.\n",
    "\n"
   ]
  },
  {
   "cell_type": "markdown",
   "id": "1a117bdd-4fed-47df-9a1a-7c177c34bdaf",
   "metadata": {},
   "source": [
    "**Q4. What are some common hyperparameters in KNN classifiers and regressors, and how do they affect\n",
    "the performance of the model? How might you go about tuning these hyperparameters to improve\n",
    "model performance?**"
   ]
  },
  {
   "cell_type": "markdown",
   "id": "cd9f420b-192c-424c-84f8-1ad4dac938ea",
   "metadata": {},
   "source": [
    "Common hyperparameters in KNN classifiers and regressors include:\n",
    "\n",
    "* Number of neighbors (k): The most critical hyperparameter that determines how many neighbors to consider.\n",
    "* Distance metric: The method used to calculate distance (e.g., Euclidean, Manhattan).\n",
    "* Weighting function: Whether to weight neighbors equally or give more weight to closer neighbors.\n",
    "To tune these hyperparameters, techniques such as grid search or random search can be employed, often in conjunction with cross-validation to find the best combination that improves model performance."
   ]
  },
  {
   "cell_type": "markdown",
   "id": "5af3550e-a2cb-4292-81b6-5a2cf9af164f",
   "metadata": {},
   "source": [
    "**Q5. How does the size of the training set affect the performance of a KNN classifier or regressor? What\n",
    "techniques can be used to optimize the size of the training set?**"
   ]
  },
  {
   "cell_type": "markdown",
   "id": "b29ffe78-5764-438a-a66f-9c63dfbdf0e3",
   "metadata": {},
   "source": [
    "The size of the training set can significantly impact the performance of a KNN classifier or regressor. A larger training set generally provides more information, leading to better generalization. However, if the training set is too small, the model may overfit to the noise in the data.\n",
    "\n",
    "Techniques to estimate the optimal size include:\n",
    "\n",
    "* Learning curves: Plotting training and validation performance against the size of the training set to identify when additional data stops improving performance.\n",
    "* Cross-validation: To assess how the model performs with different training set sizes.\n"
   ]
  },
  {
   "cell_type": "markdown",
   "id": "f45cee22-036d-4077-bf27-821916c35ef6",
   "metadata": {},
   "source": [
    "**Q6. What are some potential drawbacks of using KNN as a classifier or regressor? How might you\n",
    "overcome these drawbacks to improve the performance of the model?**"
   ]
  },
  {
   "cell_type": "markdown",
   "id": "17896e9a-d379-42cf-afeb-35cec2005453",
   "metadata": {},
   "source": [
    "Potential drawbacks of using KNN as a classifier or regressor include:\n",
    "\n",
    "* Computationally expensive: KNN requires calculating the distance to all training samples for each prediction, which can be slow for large datasets.\n",
    "* Sensitive to irrelevant features: The presence of irrelevant features can distort distance calculations, leading to poor performance.\n",
    "* Curse of dimensionality: As the number of dimensions increases, the distance between points becomes less meaningful, which can degrade model performance.\n",
    "To mitigate these drawbacks, techniques such as feature selection, dimensionality reduction (e.g., PCA), and using more efficient data structures (e.g., KD-trees) can be employed to improve performance."
   ]
  }
 ],
 "metadata": {
  "kernelspec": {
   "display_name": "Python 3 (ipykernel)",
   "language": "python",
   "name": "python3"
  },
  "language_info": {
   "codemirror_mode": {
    "name": "ipython",
    "version": 3
   },
   "file_extension": ".py",
   "mimetype": "text/x-python",
   "name": "python",
   "nbconvert_exporter": "python",
   "pygments_lexer": "ipython3",
   "version": "3.10.8"
  }
 },
 "nbformat": 4,
 "nbformat_minor": 5
}
