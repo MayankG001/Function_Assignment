{
 "cells": [
  {
   "cell_type": "markdown",
   "id": "70aa87f9-3ad0-46b4-a45a-53e0988cdccc",
   "metadata": {},
   "source": [
    "Q1. What is the difference between Ordinal Encoding and Label Encoding? Provide an example of when you might choose one over the other."
   ]
  },
  {
   "cell_type": "markdown",
   "id": "0e069b5d-5ef6-4300-ac06-f5c0dbe37e6c",
   "metadata": {},
   "source": [
    "**Ordinal Encoding** assigns integer values to categories based on a defined order. It is used when the categorical variable has a meaningful order (e.g., ratings like \"low,\" \"medium,\" \"high\").\n",
    "\n",
    "**Label Encoding** assigns unique integer values to each category without any inherent order. It is suitable for nominal data where categories do not have a ranking (e.g., colors like \"red,\" \"blue,\" \"green\").\n",
    "\n",
    "`Example:`\n",
    "\n",
    "* Use Ordinal Encoding for a feature like \"Education Level\" (e.g., High School = 1, Bachelor's = 2, Master's = 3).\n",
    "* Use Label Encoding for a feature like \"Fruit\" (e.g., Apple = 0, Banana = 1, Cherry = 2) since there is no order among the fruits.\n"
   ]
  },
  {
   "cell_type": "markdown",
   "id": "c3ab1ea5-4d9d-4baf-8c5f-2c272d4eac94",
   "metadata": {},
   "source": [
    "Q2. Explain how Target Guided Ordinal Encoding works and provide an example of when you might use it in a machine learning project.\n"
   ]
  },
  {
   "cell_type": "markdown",
   "id": "d11af579-8e9c-4434-80ae-7f0afb3619fa",
   "metadata": {},
   "source": [
    "**Target Guided Ordinal Encoding** involves encoding categorical variables based on the target variable's mean or median for each category. This method helps to capture the relationship between the categorical feature and the target variable.\n",
    "\n",
    "**Example:** In a project predicting house prices, you might have a categorical feature \"Neighborhood.\" You could calculate the average house price for each neighborhood and use these averages to encode the neighborhoods. This encoding can improve model performance by providing a more informative representation of the categorical variable."
   ]
  },
  {
   "cell_type": "markdown",
   "id": "021623b2-4e86-4fb4-a8cc-71b9500da696",
   "metadata": {},
   "source": [
    "Q3. Define covariance and explain why it is important in statistical analysis. How is covariance calculated?\n"
   ]
  },
  {
   "cell_type": "markdown",
   "id": "d7a20325-3e70-4b5b-ac78-878612f3191f",
   "metadata": {},
   "source": [
    "**Covariance** is a measure of the degree to which two variables change together. It indicates the direction of the linear relationship between the variables.\n",
    "\n",
    "* Positive Covariance: Both variables increase together.\n",
    "* Negative Covariance: One variable increases while the other decreases.\n",
    "* *Zero Covariance: No linear relationship exists.\n",
    "\n",
    "**Importance:** Covariance is crucial in understanding relationships between variables, which is essential for regression analysis, portfolio theory in finance, and feature selection in machine learning."
   ]
  },
  {
   "cell_type": "markdown",
   "id": "82b34281-35f0-4d6d-92b3-df423dd8662c",
   "metadata": {},
   "source": [
    "Q4. For a dataset with the following categorical variables: Color (red, green, blue), Size (small, medium, large), and Material (wood, metal, plastic), perform label encoding using Python's scikit-learn library. Show your code and output.\n"
   ]
  },
  {
   "cell_type": "code",
   "execution_count": 1,
   "id": "23407d8f-3e52-4548-888f-8f583d311498",
   "metadata": {},
   "outputs": [
    {
     "name": "stdout",
     "output_type": "stream",
     "text": [
      "   Color  Size  Material\n",
      "0      2     2         2\n",
      "1      1     1         0\n",
      "2      0     0         1\n",
      "3      2     1         2\n",
      "4      0     2         0\n"
     ]
    }
   ],
   "source": [
    "import pandas as pd  \n",
    "from sklearn.preprocessing import LabelEncoder  \n",
    "\n",
    "# Sample dataset  \n",
    "data = {  \n",
    "    'Color': ['red', 'green', 'blue', 'red', 'blue'],  \n",
    "    'Size': ['small', 'medium', 'large', 'medium', 'small'],  \n",
    "    'Material': ['wood', 'metal', 'plastic', 'wood', 'metal']  \n",
    "}  \n",
    "\n",
    "df = pd.DataFrame(data)  \n",
    "\n",
    "# Initialize LabelEncoder  \n",
    "label_encoder = LabelEncoder()  \n",
    "\n",
    "# Apply Label Encoding  \n",
    "df['Color'] = label_encoder.fit_transform(df['Color'])  \n",
    "df['Size'] = label_encoder.fit_transform(df['Size'])  \n",
    "df['Material'] = label_encoder.fit_transform(df['Material'])  \n",
    "\n",
    "print(df)"
   ]
  },
  {
   "cell_type": "markdown",
   "id": "70e830ee-a545-434a-beae-e79ee9a6a154",
   "metadata": {},
   "source": [
    "Q5. Calculate the covariance matrix for the following variables in a dataset: Age, Income, and Spending Score.\n"
   ]
  },
  {
   "cell_type": "markdown",
   "id": "b0d41fcd-4c4d-4645-9364-6fd6d1dfe675",
   "metadata": {},
   "source": [
    "|Age\t|Income|\tSpending Score|\n",
    "|-------|------|-----------------|\n",
    "|25\t|50000|\t60|\n",
    "|30\t|60000|\t70|\n",
    "|35\t|70000|\t80|\n",
    "|40\t|80000|\t90|\n",
    "|45\t|90000|\t100|"
   ]
  },
  {
   "cell_type": "code",
   "execution_count": 3,
   "id": "40db7a70-c55a-44f1-89e5-d2d78de6e057",
   "metadata": {},
   "outputs": [
    {
     "name": "stdout",
     "output_type": "stream",
     "text": [
      "                     Age       Income  Spending Score\n",
      "Age                 62.5     125000.0           125.0\n",
      "Income          125000.0  250000000.0        250000.0\n",
      "Spending Score     125.0     250000.0           250.0\n"
     ]
    }
   ],
   "source": [
    "import numpy as np  \n",
    "import pandas as pd  \n",
    "\n",
    "# Sample data  \n",
    "data = {  \n",
    "    'Age': [25, 30, 35, 40, 45],  \n",
    "    'Income': [50000, 60000, 70000, 80000, 90000],  \n",
    "    'Spending Score': [60, 70, 80, 90, 100]  \n",
    "}  \n",
    "\n",
    "df = pd.DataFrame(data)  \n",
    "\n",
    "# Calculate covariance matrix  \n",
    "cov_matrix = df.cov()  \n",
    "print(cov_matrix)"
   ]
  },
  {
   "cell_type": "markdown",
   "id": "dfeb6931-1047-409e-a9dd-4bbf1f193b72",
   "metadata": {},
   "source": [
    "Q6. You are working on a machine learning project involving several categorical variables, including \"Gender\" (Male/Female), \"Education Level\" (High School/Bachelor's/Master's/PhD), and \"Employment Status\" (Unemployed/Part-Time/Full-Time). Which encoding method would you choose for each variable, and why?\n"
   ]
  },
  {
   "cell_type": "markdown",
   "id": "d1d52da7-c0f8-4cdd-9d92-86325c5ee443",
   "metadata": {},
   "source": [
    "* Gender: Use Binary Encoding since it has only two categories (Male = 0, Female = 1).\n",
    "* Education Level: Use Ordinal Encoding because there is a natural order (e.g., High School = 1, Bachelor's = 2, Master's = 3, PhD = 4).\n",
    "* Employment Status: Use One-Hot Encoding since it has multiple categories without a natural order, creating separate binary columns for each status."
   ]
  },
  {
   "cell_type": "markdown",
   "id": "bd9c501a-dd39-44b4-8c36-6a95b798c0e6",
   "metadata": {},
   "source": [
    "Q7. You are analyzing a dataset with two continuous variables, \"Temperature\" and \"Humidity,\" and two categorical variables, \"Weather Condition\" (Sunny/Cloudy/Rainy) and \"Wind Direction\" (North/South/East/West). Calculate the covariance between each pair of variables and interpret the results.\n"
   ]
  },
  {
   "cell_type": "markdown",
   "id": "9e040cb6-73d1-49c4-a481-64ae59ec774d",
   "metadata": {},
   "source": [
    "|Temperature|\tHumidity|\tWeather Condition|\tWind Direction|\n",
    "|-----------|-----------|--------------------|----------------|\n",
    "|30|\t              70|\t            Sunny|\t         North|\n",
    "|25|                  80|          \t   Cloudy|\t         South|\n",
    "|20|\t              90|\t            Rainy|\t          East|\n",
    "|35|                  60|\t            Sunny|\t          West|\n",
    "|28|\t              75|\t           Cloudy|"
   ]
  },
  {
   "cell_type": "code",
   "execution_count": 4,
   "id": "9f70e61c-1a15-4487-a81d-d766c7bcbdc1",
   "metadata": {},
   "outputs": [
    {
     "name": "stdout",
     "output_type": "stream",
     "text": [
      "             Temperature  Humidity\n",
      "Temperature         31.3     -62.5\n",
      "Humidity           -62.5     125.0\n"
     ]
    }
   ],
   "source": [
    "# Sample data  \n",
    "data = {  \n",
    "    'Temperature': [30, 25, 20, 35, 28],  \n",
    "    'Humidity': [70, 80, 90, 60, 75],  \n",
    "}  \n",
    "\n",
    "df = pd.DataFrame(data)  \n",
    "\n",
    "# Calculate covariance matrix  \n",
    "cov_matrix = df.cov()  \n",
    "print(cov_matrix)"
   ]
  }
 ],
 "metadata": {
  "kernelspec": {
   "display_name": "Python 3 (ipykernel)",
   "language": "python",
   "name": "python3"
  },
  "language_info": {
   "codemirror_mode": {
    "name": "ipython",
    "version": 3
   },
   "file_extension": ".py",
   "mimetype": "text/x-python",
   "name": "python",
   "nbconvert_exporter": "python",
   "pygments_lexer": "ipython3",
   "version": "3.10.8"
  }
 },
 "nbformat": 4,
 "nbformat_minor": 5
}
