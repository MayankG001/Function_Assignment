{
 "cells": [
  {
   "cell_type": "markdown",
   "id": "80379806-c6d1-4e59-8287-35103b8143a2",
   "metadata": {},
   "source": [
    "Q1: Create a function to flatten a list and return the product of all numbers"
   ]
  },
  {
   "cell_type": "code",
   "execution_count": 1,
   "id": "3b77c871-c580-4ac4-8c3e-2e6b7a32121e",
   "metadata": {},
   "outputs": [
    {
     "name": "stdout",
     "output_type": "stream",
     "text": [
      "0\n"
     ]
    }
   ],
   "source": [
    "def flatten_and_product(lst):\n",
    "    def flatten(lst):\n",
    "        for item in lst:\n",
    "            if isinstance(item, list):\n",
    "                yield from flatten(item)\n",
    "            elif isinstance(item, dict):\n",
    "                for k, v in item.items():\n",
    "                    if isinstance(k, (int, float)):\n",
    "                        yield k\n",
    "                    if isinstance(v, (int, float)):\n",
    "                        yield v\n",
    "                    elif isinstance(v, list):\n",
    "                        yield from flatten(v)\n",
    "            elif isinstance(item, (int, float)):\n",
    "                yield item\n",
    "\n",
    "    flat_list = list(flatten(lst))\n",
    "    product = 1\n",
    "    for num in flat_list:\n",
    "        product *= num\n",
    "    return product\n",
    "\n",
    "list1 = [1, 2, 3, 4, [44, 55, 66, True], False, (34, 56, 78, 89, 34), {1: 2, 3: 3, 2: 1}, {1: 34, \"key2\": [55, 67, 78, 89], 4: (45, 22, 61, 34)}, [56, 'data science'], 'Machine Learning']\n",
    "result = flatten_and_product(list1)\n",
    "print(result)\n"
   ]
  },
  {
   "cell_type": "markdown",
   "id": "ec0befea-fa0a-4822-a25a-71a4f7f7c61a",
   "metadata": {},
   "source": [
    "Q2: Encrypt a message using specific rules"
   ]
  },
  {
   "cell_type": "raw",
   "id": "7526d263-829b-4839-aa47-2d394362c7f3",
   "metadata": {},
   "source": [
    "The rules for encryption are as follows:\n",
    "\n",
    "'a' -> 'z'\n",
    "'b' -> 'y'\n",
    "'c' -> 'x'\n",
    "Replace spaces with '$'\n",
    "Convert the input sentence to lowercase before encryption\n"
   ]
  },
  {
   "cell_type": "code",
   "execution_count": 2,
   "id": "b2abd491-3f98-4135-8fe4-2b3523183115",
   "metadata": {},
   "outputs": [
    {
     "name": "stdout",
     "output_type": "stream",
     "text": [
      "i$wznt$to$yexome$z$dztz$sxientist.\n"
     ]
    }
   ],
   "source": [
    "def encrypt_message(message):\n",
    "    encryption_dict = {'a': 'z', 'b': 'y', 'c': 'x'}\n",
    "    encrypted_message = []\n",
    "    \n",
    "    for char in message.lower():\n",
    "        if char in encryption_dict:\n",
    "            encrypted_message.append(encryption_dict[char])\n",
    "        elif char == ' ':\n",
    "            encrypted_message.append('$')\n",
    "        else:\n",
    "            encrypted_message.append(char)\n",
    "    \n",
    "    return ''.join(encrypted_message)\n",
    "\n",
    "input_sentence = \"I want to become a Data Scientist.\"\n",
    "encrypted_sentence = encrypt_message(input_sentence)\n",
    "print(encrypted_sentence)\n"
   ]
  }
 ],
 "metadata": {
  "kernelspec": {
   "display_name": "Python 3 (ipykernel)",
   "language": "python",
   "name": "python3"
  },
  "language_info": {
   "codemirror_mode": {
    "name": "ipython",
    "version": 3
   },
   "file_extension": ".py",
   "mimetype": "text/x-python",
   "name": "python",
   "nbconvert_exporter": "python",
   "pygments_lexer": "ipython3",
   "version": "3.10.8"
  }
 },
 "nbformat": 4,
 "nbformat_minor": 5
}
