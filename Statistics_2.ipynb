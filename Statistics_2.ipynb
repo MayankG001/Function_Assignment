{
 "cells": [
  {
   "cell_type": "markdown",
   "id": "f660987a-1e74-4e9b-b96d-75761301f5ea",
   "metadata": {},
   "source": [
    "Q1. What are the three measures of central tendency?"
   ]
  },
  {
   "cell_type": "markdown",
   "id": "75cd726d-7afa-45c2-8613-658545ca68fa",
   "metadata": {},
   "source": [
    "* Mean: The average of a dataset, calculated by summing all values and dividing by the number of values.\n",
    "* Median: The middle value when the data is ordered from least to greatest. If there is an even number of observations, the * median is the average of the two middle values.\n",
    "* Mode: The value that appears most frequently in a dataset."
   ]
  },
  {
   "cell_type": "markdown",
   "id": "b8ad5c04-6d2f-4443-ab5b-4ac27b3ec3e5",
   "metadata": {},
   "source": [
    "Q2. What is the difference between the mean, median, and mode? How are they used to measure the central tendency of a dataset?"
   ]
  },
  {
   "cell_type": "markdown",
   "id": "ba9a3935-6dd7-48a5-93ca-b0d8fbc2470c",
   "metadata": {},
   "source": [
    "* Mean: Sensitive to outliers; used for normally distributed data.\n",
    "* Median: Not affected by outliers; used for skewed distributions.\n",
    "* Mode: Useful for categorical data; indicates the most common value."
   ]
  },
  {
   "cell_type": "markdown",
   "id": "1329bcc1-c22f-4e9a-9771-1ee12260bde5",
   "metadata": {},
   "source": [
    "Q3. Measure the three measures of central tendency for the given height data:"
   ]
  },
  {
   "cell_type": "code",
   "execution_count": 13,
   "id": "3656d644-a7b1-4b7e-ba39-3dc6fe909919",
   "metadata": {},
   "outputs": [
    {
     "name": "stdout",
     "output_type": "stream",
     "text": [
      "Mean: 177.01875\n",
      "Median: 177.0\n",
      "Mode: 177.0 (occurs 3 times)\n"
     ]
    },
    {
     "name": "stderr",
     "output_type": "stream",
     "text": [
      "/tmp/ipykernel_1562/504381036.py:10: FutureWarning: Unlike other reduction functions (e.g. `skew`, `kurtosis`), the default behavior of `mode` typically preserves the axis it acts along. In SciPy 1.11.0, this behavior will change: the default value of `keepdims` will become False, the `axis` over which the statistic is taken will be eliminated, and the value None will no longer be accepted. Set `keepdims` to True or False to avoid this warning.\n",
      "  mode = stats.mode(heights)\n"
     ]
    }
   ],
   "source": [
    "import numpy as np\n",
    "from scipy import stats\n",
    "\n",
    "# Given height data\n",
    "heights = [178, 177, 176, 177, 178.2, 178, 175, 179, 180, 175, 178.9, 176.2, 177, 172.5, 178, 176.5]\n",
    "\n",
    "# Calculating measures of central tendency`\n",
    "mean = np.mean(heights)\n",
    "median = np.median(heights)\n",
    "mode = stats.mode(heights)\n",
    "\n",
    "print(\"Mean:\", mean)\n",
    "print(\"Median:\", median)\n",
    "print(\"Mode:\", mode.mode[0], \"(occurs\", mode.count[0], \"times)\")\n"
   ]
  },
  {
   "cell_type": "markdown",
   "id": "80bf758d-89fb-4502-8336-aa242af597a2",
   "metadata": {},
   "source": [
    "Q4. Find the standard deviation for the given data:\n",
    "\n",
    "[178,177,176,177,178.2,178,175,179,180,175,178.9,176.2,177,172.5,178,176.5]"
   ]
  },
  {
   "cell_type": "code",
   "execution_count": null,
   "id": "6db20cf0-14ab-4604-9876-0ad9d526786b",
   "metadata": {},
   "outputs": [],
   "source": [
    "import numpy as np\n",
    "\n",
    "# Given height data\n",
    "heights = [178, 177, 176, 177, 178.2, 178, 175, 179, 180, 175, 178.9, 176.2, 177, 172.5, 178, 176.5]\n",
    "\n",
    "# Calculating standard deviation\n",
    "std_dev = np.std(heights)\n",
    "\n",
    "print(\"Standard Deviation:\", std_dev)\n"
   ]
  },
  {
   "cell_type": "markdown",
   "id": "8a678a45-1536-4697-8cf1-7e89646efcd5",
   "metadata": {},
   "source": [
    "Q6. What is a Venn diagram?\n"
   ]
  },
  {
   "cell_type": "markdown",
   "id": "da7b56c8-fc21-4113-82ef-434cf405a620",
   "metadata": {},
   "source": [
    "A Venn diagram is a visual representation of the relationships between different sets. It uses overlapping circles to show how the sets intersect and their unique elements"
   ]
  },
  {
   "cell_type": "markdown",
   "id": "729160fe-b5a6-48d6-a507-2af06c750749",
   "metadata": {},
   "source": [
    "Q7. For the two given sets A = (2,3,4,5,6,7) & B = (0,2,6,8,10). Find:\n",
    "(i) A B\n",
    "(ii) A ⋃ B"
   ]
  },
  {
   "cell_type": "code",
   "execution_count": 6,
   "id": "73c9f524-d0ec-41c9-ac9f-4fc0c65f245e",
   "metadata": {},
   "outputs": [
    {
     "name": "stdout",
     "output_type": "stream",
     "text": [
      "Intersection (A ∩ B): {2, 6}\n",
      "Union (A ⋃ B): {0, 2, 3, 4, 5, 6, 7, 8, 10}\n"
     ]
    }
   ],
   "source": [
    "# Define the sets\n",
    "A = {2, 3, 4, 5, 6, 7}\n",
    "B = {0, 2, 6, 8, 10}\n",
    "\n",
    "# (i) Intersection of A and B (A ∩ B)\n",
    "intersection = A.intersection(B)\n",
    "print(f\"Intersection (A ∩ B): {intersection}\")\n",
    "\n",
    "# (ii) Union of A and B (A ⋃ B)\n",
    "union = A.union(B)\n",
    "print(f\"Union (A ⋃ B): {union}\")\n"
   ]
  },
  {
   "cell_type": "markdown",
   "id": "059e5a20-2787-44a9-9151-9d7749770b78",
   "metadata": {},
   "source": [
    "Q8. What do you understand about skewness in data?"
   ]
  },
  {
   "cell_type": "markdown",
   "id": "2e2e1b18-1b0f-4ece-a815-4cedbd25a7ca",
   "metadata": {},
   "source": [
    "Skewness measures the asymmetry of the distribution of data.\n",
    "\n",
    "* Positive Skew: Tail on the right side; mean > median.\n",
    "* Negative Skew: Tail on the left side; mean < median.\n"
   ]
  },
  {
   "cell_type": "markdown",
   "id": "286de71f-c0bd-4b8f-a31f-444c1c89da8c",
   "metadata": {},
   "source": [
    "Q9. If a data is right skewed then what will be the position of median with respect to mean?"
   ]
  },
  {
   "cell_type": "markdown",
   "id": "c17528d1-1668-4af4-81ee-2013dad8eca3",
   "metadata": {},
   "source": [
    "When a dataset is right-skewed (positively skewed), the mean is typically greater than the median. This is because the longer tail on the right pulls the mean higher than the median.\n",
    "\n",
    "Here's a simple Python example to demonstrate this:\n",
    "\n",
    "* Generate a right-skewed dataset.\n",
    "* Calculate the mean and median.\n",
    "* Compare the positions of the mean and median."
   ]
  },
  {
   "cell_type": "code",
   "execution_count": 7,
   "id": "bc158302-d35f-47a5-b0a3-55db4ec7887e",
   "metadata": {},
   "outputs": [
    {
     "name": "stdout",
     "output_type": "stream",
     "text": [
      "Mean: 1.9792238327156297\n",
      "Median: 1.3599913754961963\n"
     ]
    },
    {
     "data": {
      "image/png": "[encoded data removed]",
      "text/plain": [
       "<Figure size 640x480 with 1 Axes>"
      ]
     },
     "metadata": {},
     "output_type": "display_data"
    }
   ],
   "source": [
    "import numpy as np\n",
    "import matplotlib.pyplot as plt\n",
    "\n",
    "# Generate a right-skewed dataset using exponential distribution\n",
    "data = np.random.exponential(scale=2, size=1000)\n",
    "\n",
    "# Calculate the mean and median\n",
    "mean = np.mean(data)\n",
    "median = np.median(data)\n",
    "\n",
    "# Print the mean and median\n",
    "print(f\"Mean: {mean}\")\n",
    "print(f\"Median: {median}\")\n",
    "\n",
    "# Visualize the data with a histogram\n",
    "plt.hist(data, bins=30, edgecolor='k', alpha=0.7)\n",
    "plt.axvline(mean, color='r', linestyle='dashed', linewidth=1, label='Mean')\n",
    "plt.axvline(median, color='b', linestyle='dashed', linewidth=1, label='Median')\n",
    "plt.legend()\n",
    "plt.title('Right-Skewed Data Distribution')\n",
    "plt.show()\n"
   ]
  },
  {
   "cell_type": "markdown",
   "id": "36a4bc34-c4b0-4f0a-8ba7-0b679f8674b9",
   "metadata": {},
   "source": [
    "Q10. Explain the difference between covariance and correlation. How are these measures used in\n",
    "statistical analysis?"
   ]
  },
  {
   "cell_type": "markdown",
   "id": "f0259d9c-a160-4cf8-9a7b-f9dfcb6d32a3",
   "metadata": {},
   "source": [
    "* Covariance: Measures the degree to which two variables change together. It can take any value and does not indicate the strength of the relationship.\n",
    "\n",
    "* Correlation: Standardized measure of the relationship between two variables, ranging from -1 to 1. It indicates both the strength and direction of the relationship."
   ]
  },
  {
   "cell_type": "markdown",
   "id": "e7d74639-9a22-4ae8-a12b-96fae87f559d",
   "metadata": {},
   "source": [
    "Q11. What is the formula for calculating the sample mean? Provide an example calculation for a\n",
    "dataset."
   ]
  },
  {
   "cell_type": "markdown",
   "id": "f01029df-221f-40d2-804b-b7628ceb05a7",
   "metadata": {},
   "source": [
    "The sample mean ( \n",
    "𝑥\n",
    "ˉ\n",
    "x\n",
    "ˉ\n",
    "  ) is the average of a set of numerical values, calculated by summing all the values and then dividing by the number of values. The formula is:\n",
    "\n",
    "𝑥\n",
    "ˉ\n",
    "=\n",
    "1\n",
    "𝑛\n",
    "∑\n",
    "𝑖\n",
    "=\n",
    "1\n",
    "𝑛\n",
    "𝑥\n",
    "𝑖\n",
    "x\n",
    "ˉ\n",
    " = \n",
    "n\n",
    "1\n",
    "​\n",
    " ∑ \n",
    "i=1\n",
    "n\n",
    "​\n",
    " x \n",
    "i\n",
    "​\n",
    " \n",
    "\n",
    "where:\n",
    "\n",
    "𝑥\n",
    "ˉ\n",
    "x\n",
    "ˉ\n",
    "  = sample mean\n",
    "𝑛\n",
    "n = number of observations in the sample\n",
    "𝑥\n",
    "𝑖\n",
    "x \n",
    "i\n",
    "​\n",
    "  = each individual observation"
   ]
  },
  {
   "cell_type": "code",
   "execution_count": 8,
   "id": "ec562604-8f66-4802-97ba-f9a97a8613c6",
   "metadata": {},
   "outputs": [
    {
     "name": "stdout",
     "output_type": "stream",
     "text": [
      "The sample mean of the dataset [10, 20, 30, 40, 50] is 30.0\n"
     ]
    }
   ],
   "source": [
    "# Example dataset\n",
    "data = [10, 20, 30, 40, 50]\n",
    "\n",
    "# Calculate the sample mean\n",
    "sample_mean = sum(data) / len(data)\n",
    "\n",
    "# Print the sample mean\n",
    "print(f\"The sample mean of the dataset {data} is {sample_mean}\")\n"
   ]
  },
  {
   "cell_type": "markdown",
   "id": "69f50cb9-eb39-4f06-9d32-355d3b2bcafc",
   "metadata": {},
   "source": [
    "Q12. For a normal distribution data what is the relationship between its measure of central tendency?"
   ]
  },
  {
   "cell_type": "markdown",
   "id": "d985b0e9-0106-4303-b8e0-696da259223b",
   "metadata": {},
   "source": [
    "In a normal distribution, the measures of central tendency—mean, median, and mode—are all equal. This means:\n",
    "\n",
    "Mean\n",
    "\n",
    "Median\n",
    "\n",
    "Mode\n",
    "Mean=Median=Mode\n",
    "\n",
    "The normal distribution is symmetric about its mean, so the mean, median, and mode all lie at the center."
   ]
  },
  {
   "cell_type": "code",
   "execution_count": 9,
   "id": "f4ccbafc-d7fa-48da-a7e9-f7b3e6c6a4b2",
   "metadata": {},
   "outputs": [
    {
     "data": {
      "image/png": "[encoded data removed]",
      "text/plain": [
       "<Figure size 1000x600 with 1 Axes>"
      ]
     },
     "metadata": {},
     "output_type": "display_data"
    }
   ],
   "source": [
    "import numpy as np\n",
    "import matplotlib.pyplot as plt\n",
    "import seaborn as sns\n",
    "\n",
    "# Generate a normal distribution dataset\n",
    "data = np.random.normal(loc=0, scale=1, size=1000)\n",
    "\n",
    "# Calculate mean, median, and mode\n",
    "mean = np.mean(data)\n",
    "median = np.median(data)\n",
    "mode = mean  # For normal distribution, mode is equal to mean\n",
    "\n",
    "# Plot the normal distribution\n",
    "plt.figure(figsize=(10, 6))\n",
    "sns.histplot(data, kde=True, stat=\"density\")\n",
    "plt.axvline(mean, color='red', linestyle='dashed', linewidth=1, label='Mean/Median/Mode')\n",
    "plt.legend()\n",
    "plt.title('Normal Distribution with Mean, Median, and Mode')\n",
    "plt.show()\n"
   ]
  },
  {
   "cell_type": "markdown",
   "id": "0917d055-64b3-40b8-a3e7-e67eb3c721de",
   "metadata": {},
   "source": [
    "Q13. How is covariance different from correlation?"
   ]
  },
  {
   "cell_type": "markdown",
   "id": "2d990575-f54e-443f-9e30-2d77462fda97",
   "metadata": {},
   "source": [
    "Covariance:\n",
    "\n",
    "Measures: How two variables change together.\n",
    "Formula:\n",
    "Cov\n",
    "(\n",
    "𝑋\n",
    ",\n",
    "𝑌\n",
    ")\n",
    "=\n",
    "1\n",
    "𝑛\n",
    "−\n",
    "1\n",
    "∑\n",
    "𝑖\n",
    "=\n",
    "1\n",
    "𝑛\n",
    "(\n",
    "𝑋\n",
    "𝑖\n",
    "−\n",
    "𝑋\n",
    "ˉ\n",
    ")\n",
    "(\n",
    "𝑌\n",
    "𝑖\n",
    "−\n",
    "𝑌\n",
    "ˉ\n",
    ")\n",
    "Cov(X,Y)= \n",
    "n−1\n",
    "1\n",
    "​\n",
    "  \n",
    "i=1\n",
    "∑\n",
    "n\n",
    "​\n",
    " (X \n",
    "i\n",
    "​\n",
    " − \n",
    "X\n",
    "ˉ\n",
    " )(Y \n",
    "i\n",
    "​\n",
    " − \n",
    "Y\n",
    "ˉ\n",
    " )\n",
    " \n",
    "Range: \n",
    "−\n",
    "∞\n",
    "−∞ to \n",
    "+\n",
    "∞\n",
    "+∞.\n",
    "\n",
    "Interpretation:\n",
    "\n",
    "Positive: Variables move in the same direction.\n",
    "Negative: Variables move in opposite directions.\n",
    "Zero: No linear relationship.\n",
    "Units: Product of the units of \n",
    "𝑋\n",
    "X and \n",
    "𝑌\n",
    "Y.\n",
    "\n",
    "Correlation:\n",
    "\n",
    "Measures: Strength and direction of the linear relationship between two variables.\n",
    "Formula:\n",
    "𝑟\n",
    "𝑥\n",
    "𝑦\n",
    "=\n",
    "Cov\n",
    "(\n",
    "𝑋\n",
    ",\n",
    "𝑌\n",
    ")\n",
    "𝜎\n",
    "𝑋\n",
    "𝜎\n",
    "𝑌\n",
    "r \n",
    "xy\n",
    "​\n",
    " = \n",
    "σ \n",
    "X\n",
    "​\n",
    " σ \n",
    "Y\n",
    "​\n",
    " \n",
    "Cov(X,Y)\n",
    "​\n",
    " \n",
    "Range: \n",
    "−\n",
    "1\n",
    "−1 to \n",
    "+\n",
    "1\n",
    "+1.\n",
    "\n",
    "Interpretation:\n",
    "+\n",
    "1\n",
    "+1: Perfect positive linear relationship.\n",
    "−\n",
    "1\n",
    "−1: Perfect negative linear relationship.\n",
    "0\n",
    "0: No linear relationship.\n",
    "Units: Dimensionless.\n",
    "Key Differences\n",
    "Scale: Covariance is not standardized; correlation is standardized.\n",
    "Interpretability: Correlation is easier to interpret due to its fixed range.\n",
    "Units: Covariance has units; correlation does not."
   ]
  },
  {
   "cell_type": "code",
   "execution_count": 10,
   "id": "f746456f-1a84-46c0-a163-b3a3ea3784b8",
   "metadata": {},
   "outputs": [
    {
     "name": "stdout",
     "output_type": "stream",
     "text": [
      "Covariance: 4.0\n",
      "Correlation: 0.9999999999999999\n"
     ]
    }
   ],
   "source": [
    "import numpy as np\n",
    "\n",
    "# Example data\n",
    "X = np.array([1, 2, 3, 4, 5])\n",
    "Y = np.array([2, 4, 6, 8, 10])\n",
    "\n",
    "# Calculate covariance\n",
    "covariance = np.cov(X, Y, bias=True)[0][1]\n",
    "print(f\"Covariance: {covariance}\")\n",
    "\n",
    "# Calculate correlation\n",
    "correlation = np.corrcoef(X, Y)[0][1]\n",
    "print(f\"Correlation: {correlation}\")\n"
   ]
  },
  {
   "cell_type": "markdown",
   "id": "49b56df0-78f9-43d7-9b8c-97861c276cc7",
   "metadata": {},
   "source": [
    "Q14. How do outliers affect measures of central tendency and dispersion? Provide an example."
   ]
  },
  {
   "cell_type": "markdown",
   "id": "0491e5c0-6ca8-49db-818f-909bbb4d215f",
   "metadata": {},
   "source": [
    "`Central Tendency:`\n",
    "\n",
    "* Mean: Highly sensitive to outliers. Outliers can significantly increase or decrease the mean.\n",
    "* Median: Less sensitive to outliers. The median is more robust and not heavily influenced by extreme values.\n",
    "* Mode: Generally unaffected by outliers, as it depends on the most frequent value.\n",
    "\n",
    "`Dispersion:`\n",
    "\n",
    "* Range: Greatly affected by outliers, as it is the difference between the maximum and minimum values.\n",
    "* Variance and Standard Deviation: Both are highly sensitive to outliers because they involve squaring the deviations from the mean, amplifying the effect of extreme values."
   ]
  },
  {
   "cell_type": "code",
   "execution_count": 11,
   "id": "15a87621-d345-48a5-adab-a2e60228abc7",
   "metadata": {},
   "outputs": [
    {
     "name": "stdout",
     "output_type": "stream",
     "text": [
      "Mean without outlier: 15.444444444444445\n",
      "Median without outlier: 15.0\n",
      "Mean with outlier: 24.333333333333332\n",
      "Median with outlier: 15.0\n",
      "Standard Deviation without outlier: 3.0590888662080453\n",
      "Standard Deviation with outlier: 26.878326667492612\n"
     ]
    }
   ],
   "source": [
    "import numpy as np\n",
    "\n",
    "# Dataset without outlier\n",
    "data = [10, 12, 14, 15, 15, 16, 18, 19, 20]\n",
    "\n",
    "# Dataset with an outlier\n",
    "data_with_outlier = [10, 12, 14, 15, 15, 16, 18, 19, 100]\n",
    "\n",
    "# Calculate mean and median\n",
    "mean_without_outlier = np.mean(data)\n",
    "median_without_outlier = np.median(data)\n",
    "mean_with_outlier = np.mean(data_with_outlier)\n",
    "median_with_outlier = np.median(data_with_outlier)\n",
    "\n",
    "# Calculate standard deviation\n",
    "std_without_outlier = np.std(data)\n",
    "std_with_outlier = np.std(data_with_outlier)\n",
    "\n",
    "# Print results\n",
    "print(f\"Mean without outlier: {mean_without_outlier}\")\n",
    "print(f\"Median without outlier: {median_without_outlier}\")\n",
    "print(f\"Mean with outlier: {mean_with_outlier}\")\n",
    "print(f\"Median with outlier: {median_with_outlier}\")\n",
    "print(f\"Standard Deviation without outlier: {std_without_outlier}\")\n",
    "print(f\"Standard Deviation with outlier: {std_with_outlier}\")\n"
   ]
  }
 ],
 "metadata": {
  "kernelspec": {
   "display_name": "Python 3 (ipykernel)",
   "language": "python",
   "name": "python3"
  },
  "language_info": {
   "codemirror_mode": {
    "name": "ipython",
    "version": 3
   },
   "file_extension": ".py",
   "mimetype": "text/x-python",
   "name": "python",
   "nbconvert_exporter": "python",
   "pygments_lexer": "ipython3",
   "version": "3.10.8"
  }
 },
 "nbformat": 4,
 "nbformat_minor": 5
}
