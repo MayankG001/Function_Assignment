{
 "cells": [
  {
   "cell_type": "markdown",
   "id": "a61478bd-6a80-42c7-938f-244b2b8e934a",
   "metadata": {},
   "source": [
    "**Q1. Write a Python code to implement the KNN classifier algorithm on load_iris dataset in\n",
    "sklearn.datasets.**"
   ]
  },
  {
   "cell_type": "code",
   "execution_count": 1,
   "id": "50b0bc06-8255-4f3d-bb61-0788ddf567d1",
   "metadata": {},
   "outputs": [
    {
     "name": "stdout",
     "output_type": "stream",
     "text": [
      "Accuracy of KNN Classifier: 1.00\n"
     ]
    }
   ],
   "source": [
    "from sklearn.datasets import load_iris  \n",
    "from sklearn.model_selection import train_test_split  \n",
    "from sklearn.neighbors import KNeighborsClassifier  \n",
    "from sklearn.metrics import accuracy_score  \n",
    "\n",
    "# Load the iris dataset  \n",
    "iris = load_iris()  \n",
    "X = iris.data  \n",
    "y = iris.target  \n",
    "\n",
    "# Split the dataset into training and testing sets  \n",
    "X_train, X_test, y_train, y_test = train_test_split(X, y, test_size=0.2, random_state=42)  \n",
    "\n",
    "# Create KNN classifier  \n",
    "knn_classifier = KNeighborsClassifier(n_neighbors=3)  \n",
    "\n",
    "# Fit the model  \n",
    "knn_classifier.fit(X_train, y_train)  \n",
    "\n",
    "# Make predictions  \n",
    "y_pred = knn_classifier.predict(X_test)  \n",
    "\n",
    "# Calculate accuracy  \n",
    "accuracy = accuracy_score(y_test, y_pred)  \n",
    "print(f'Accuracy of KNN Classifier: {accuracy:.2f}')"
   ]
  },
  {
   "cell_type": "markdown",
   "id": "07bef90f-f51c-457e-ba3b-062597c12eee",
   "metadata": {},
   "source": [
    "**Q2. Write a Python code to implement the KNN regressor algorithm on load_boston dataset in\n",
    "sklearn.datasets.**"
   ]
  },
  {
   "cell_type": "code",
   "execution_count": null,
   "id": "8b105b34-637b-4e84-952c-6aa014133037",
   "metadata": {},
   "outputs": [],
   "source": [
    "from sklearn.datasets import load_boston  \n",
    "from sklearn.model_selection import train_test_split  \n",
    "from sklearn.neighbors import KNeighborsRegressor  \n",
    "from sklearn.metrics import mean_squared_error  \n",
    "\n",
    "# Load the boston dataset  \n",
    "boston = load_boston()  \n",
    "X = boston.data  \n",
    "y = boston.target  \n",
    "\n",
    "# Split the dataset into training and testing sets  \n",
    "X_train, X_test, y_train, y_test = train_test_split(X, y, test_size=0.2, random_state=42)  \n",
    "\n",
    "# Create KNN regressor  \n",
    "knn_regressor = KNeighborsRegressor(n_neighbors=3)  \n",
    "\n",
    "# Fit the model  \n",
    "knn_regressor.fit(X_train, y_train)  \n",
    "\n",
    "# Make predictions  \n",
    "y_pred = knn_regressor.predict(X_test)  \n",
    "\n",
    "# Calculate mean squared error  \n",
    "mse = mean_squared_error(y_test, y_pred)  \n",
    "print(f'Mean Squared Error of KNN Regressor: {mse:.2f}')"
   ]
  },
  {
   "cell_type": "markdown",
   "id": "b803422d-1ec6-4c94-a991-754410222636",
   "metadata": {},
   "source": [
    "**Q3. Write a Python code snippet to find the optimal value of K for the KNN classifier algorithm using\n",
    "cross-validation on load_iris dataset in sklearn.datasets.**"
   ]
  },
  {
   "cell_type": "code",
   "execution_count": 3,
   "id": "d83d8bd6-4122-4daf-8daa-d3163cc66df3",
   "metadata": {},
   "outputs": [
    {
     "name": "stdout",
     "output_type": "stream",
     "text": [
      "Optimal value of K: 6\n"
     ]
    }
   ],
   "source": [
    "from sklearn.model_selection import cross_val_score  \n",
    "import numpy as np  \n",
    "\n",
    "# Load the iris dataset  \n",
    "iris = load_iris()  \n",
    "X = iris.data  \n",
    "y = iris.target  \n",
    "\n",
    "# List to store accuracy for different values of k  \n",
    "k_values = range(1, 21)  \n",
    "mean_accuracies = []  \n",
    "\n",
    "# Perform cross-validation for different values of k  \n",
    "for k in k_values:  \n",
    "    knn_classifier = KNeighborsClassifier(n_neighbors=k)  \n",
    "    scores = cross_val_score(knn_classifier, X, y, cv=5)  \n",
    "    mean_accuracies.append(scores.mean())  \n",
    "\n",
    "# Find the optimal k  \n",
    "optimal_k = k_values[np.argmax(mean_accuracies)]  \n",
    "print(f'Optimal value of K: {optimal_k}')"
   ]
  },
  {
   "cell_type": "markdown",
   "id": "d89e5d7b-88e7-41a2-a0d8-d0ffe42168a3",
   "metadata": {},
   "source": [
    "**Q4. Implement the KNN regressor algorithm with feature scaling on load_boston dataset in\n",
    "sklearn.datasets.**"
   ]
  },
  {
   "cell_type": "code",
   "execution_count": null,
   "id": "7e66cc17-4e90-46a8-b45b-676364559a2d",
   "metadata": {},
   "outputs": [],
   "source": [
    "from sklearn.preprocessing import StandardScaler  \n",
    "\n",
    "# Load the boston dataset  \n",
    "boston = load_boston()  \n",
    "X = boston.data  \n",
    "y = boston.target  \n",
    "\n",
    "# Split the dataset into training and testing sets  \n",
    "X_train, X_test, y_train, y_test = train_test_split(X, y, test_size=0.2, random_state=42)  \n",
    "\n",
    "# Feature scaling  \n",
    "scaler = StandardScaler()  \n",
    "X_train_scaled = scaler.fit_transform(X_train)  \n",
    "X_test_scaled = scaler.transform(X_test)  \n",
    "\n",
    "# Create KNN regressor  \n",
    "knn_regressor = KNeighborsRegressor(n_neighbors=3)  \n",
    "\n",
    "# Fit the model  \n",
    "knn_regressor.fit(X_train_scaled, y_train)  \n",
    "\n",
    "# Make predictions  \n",
    "y_pred = knn_regressor.predict(X_test_scaled)  \n",
    "\n",
    "# Calculate mean squared error  \n",
    "mse = mean_squared_error(y_test, y_pred)  \n",
    "print(f'Mean Squared Error of KNN Regressor with Scaling: {mse:.2f}')"
   ]
  },
  {
   "cell_type": "markdown",
   "id": "693c5052-8b9d-4c62-a194-9ea5e37dfee5",
   "metadata": {},
   "source": [
    "**Q5. Write a Python code snippet to implement the KNN classifier algorithm with weighted voting on\n",
    "load_iris dataset in sklearn.datasets.**"
   ]
  },
  {
   "cell_type": "code",
   "execution_count": 5,
   "id": "9d7156de-0ea7-4166-811f-754bbed2a405",
   "metadata": {},
   "outputs": [
    {
     "name": "stdout",
     "output_type": "stream",
     "text": [
      "Accuracy of KNN Classifier with Weighted Voting: 1.00\n"
     ]
    }
   ],
   "source": [
    "# Load the iris dataset  \n",
    "iris = load_iris()  \n",
    "X = iris.data  \n",
    "y = iris.target  \n",
    "\n",
    "# Split the dataset into training and testing sets  \n",
    "X_train, X_test, y_train, y_test = train_test_split(X, y, test_size=0.2, random_state=42)  \n",
    "\n",
    "# Create KNN classifier with weighted voting  \n",
    "knn_classifier_weighted = KNeighborsClassifier(n_neighbors=3, weights='distance')  \n",
    "\n",
    "# Fit the model  \n",
    "knn_classifier_weighted.fit(X_train, y_train)  \n",
    "\n",
    "# Make predictions  \n",
    "y_pred_weighted = knn_classifier_weighted.predict(X_test)  \n",
    "\n",
    "# Calculate accuracy  \n",
    "accuracy_weighted = accuracy_score(y_test, y_pred_weighted)  \n",
    "print(f'Accuracy of KNN Classifier with Weighted Voting: {accuracy_weighted:.2f}')"
   ]
  },
  {
   "cell_type": "markdown",
   "id": "4b94b630-02d8-409b-bd7e-709b721d102c",
   "metadata": {},
   "source": [
    "**Q6. Implement a function to standardise the features before applying KNN classifier.**"
   ]
  },
  {
   "cell_type": "code",
   "execution_count": 6,
   "id": "06e203db-a3e0-4782-a110-d2365ae2b70e",
   "metadata": {},
   "outputs": [
    {
     "name": "stdout",
     "output_type": "stream",
     "text": [
      "Accuracy of KNN Classifier with Weighted Voting: 1.00\n"
     ]
    }
   ],
   "source": [
    "# Load the iris dataset  \n",
    "iris = load_iris()  \n",
    "X = iris.data  \n",
    "y = iris.target  \n",
    "\n",
    "# Split the dataset into training and testing sets  \n",
    "X_train, X_test, y_train, y_test = train_test_split(X, y, test_size=0.2, random_state=42)  \n",
    "\n",
    "# Create KNN classifier with weighted voting  \n",
    "knn_classifier_weighted = KNeighborsClassifier(n_neighbors=3, weights='distance')  \n",
    "\n",
    "# Fit the model  \n",
    "knn_classifier_weighted.fit(X_train, y_train)  \n",
    "\n",
    "# Make predictions  \n",
    "y_pred_weighted = knn_classifier_weighted.predict(X_test)  \n",
    "\n",
    "# Calculate accuracy  \n",
    "accuracy_weighted = accuracy_score(y_test, y_pred_weighted)  \n",
    "print(f'Accuracy of KNN Classifier with Weighted Voting: {accuracy_weighted:.2f}')"
   ]
  },
  {
   "cell_type": "markdown",
   "id": "00cd01e7-3b10-419e-9bb3-b712c447439d",
   "metadata": {},
   "source": [
    "*Q7. Write a Python function to calculate the euclidean distance between two points.**"
   ]
  },
  {
   "cell_type": "code",
   "execution_count": 7,
   "id": "12a1f082-af14-4704-a270-ef91f247d576",
   "metadata": {},
   "outputs": [
    {
     "name": "stdout",
     "output_type": "stream",
     "text": [
      "Euclidean Distance: 5.00\n"
     ]
    }
   ],
   "source": [
    "import numpy as np  \n",
    "\n",
    "def euclidean_distance(point1, point2):  \n",
    "    return np.sqrt(np.sum((point1 - point2) ** 2))  \n",
    "\n",
    "# Example usage  \n",
    "point_a = np.array([1, 2])  \n",
    "point_b = np.array([4, 6])  \n",
    "print(f'Euclidean Distance: {euclidean_distance(point_a, point_b):.2f}')"
   ]
  },
  {
   "cell_type": "markdown",
   "id": "21be3344-e3ff-445f-b0c1-2a2bb213fdec",
   "metadata": {},
   "source": [
    "**Q8. Write a Python function to calculate the manhattan distance between two points.**"
   ]
  },
  {
   "cell_type": "code",
   "execution_count": 8,
   "id": "0b3d9fae-e711-416f-b85f-ea2dc921bf14",
   "metadata": {},
   "outputs": [
    {
     "name": "stdout",
     "output_type": "stream",
     "text": [
      "Manhattan Distance: 7.00\n"
     ]
    }
   ],
   "source": [
    "def manhattan_distance(point1, point2):  \n",
    "    return np.sum(np.abs(point1 - point2))  \n",
    "\n",
    "# Example usage  \n",
    "print(f'Manhattan Distance: {manhattan_distance(point_a, point_b):.2f}')"
   ]
  }
 ],
 "metadata": {
  "kernelspec": {
   "display_name": "Python 3 (ipykernel)",
   "language": "python",
   "name": "python3"
  },
  "language_info": {
   "codemirror_mode": {
    "name": "ipython",
    "version": 3
   },
   "file_extension": ".py",
   "mimetype": "text/x-python",
   "name": "python",
   "nbconvert_exporter": "python",
   "pygments_lexer": "ipython3",
   "version": "3.10.8"
  }
 },
 "nbformat": 4,
 "nbformat_minor": 5
}
