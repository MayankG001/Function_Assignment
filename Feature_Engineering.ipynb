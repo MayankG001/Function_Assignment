{
 "cells": [
  {
   "cell_type": "markdown",
   "id": "411af40f-c12a-465b-acee-034d5191cef3",
   "metadata": {},
   "source": [
    "Q1: What are missing values in a dataset? Why is it essential to handle missing values? Name some algorithms that are not affected by missing values."
   ]
  },
  {
   "cell_type": "markdown",
   "id": "06e2effc-0dad-4767-848b-391adca9991e",
   "metadata": {},
   "source": [
    "* Missing values in a dataset refer to the absence of data points or entries in certain fields or features.\n",
    "* It is essential to handle missing values because they can lead to biased estimates, reduce the statistical power of the analysis, and lead to incorrect conclusions or model predictions.\n",
    "  * Algorithms that are not affected by missing values include:\n",
    "  * Decision Trees\n",
    "  * Random Forests\n",
    "  * K-Nearest Neighbors (KNN)\n",
    "  * Algorithms like XGBoost and LightGBM can handle missing values internally."
   ]
  },
  {
   "cell_type": "markdown",
   "id": "e8f3b841-cc50-43ea-bfb0-01e23baab0ad",
   "metadata": {},
   "source": [
    "Q2: List down techniques used to handle missing data. Give an example of each with python code."
   ]
  },
  {
   "cell_type": "code",
   "execution_count": 2,
   "id": "dd2dcbfb-aefd-48c1-8733-c047b02f6e94",
   "metadata": {},
   "outputs": [
    {
     "data": {
      "text/html": [
       "<div>\n",
       "<style scoped>\n",
       "    .dataframe tbody tr th:only-of-type {\n",
       "        vertical-align: middle;\n",
       "    }\n",
       "\n",
       "    .dataframe tbody tr th {\n",
       "        vertical-align: top;\n",
       "    }\n",
       "\n",
       "    .dataframe thead th {\n",
       "        text-align: right;\n",
       "    }\n",
       "</style>\n",
       "<table border=\"1\" class=\"dataframe\">\n",
       "  <thead>\n",
       "    <tr style=\"text-align: right;\">\n",
       "      <th></th>\n",
       "    </tr>\n",
       "  </thead>\n",
       "  <tbody>\n",
       "    <tr>\n",
       "      <th>0</th>\n",
       "    </tr>\n",
       "    <tr>\n",
       "      <th>1</th>\n",
       "    </tr>\n",
       "    <tr>\n",
       "      <th>2</th>\n",
       "    </tr>\n",
       "  </tbody>\n",
       "</table>\n",
       "</div>"
      ],
      "text/plain": [
       "Empty DataFrame\n",
       "Columns: []\n",
       "Index: [0, 1, 2]"
      ]
     },
     "execution_count": 2,
     "metadata": {},
     "output_type": "execute_result"
    }
   ],
   "source": [
    "#Removal: Remove rows or columns with missing values.\n",
    "\n",
    "\n",
    "import pandas as pd\n",
    "df = pd.DataFrame({'A': [1, 2, None], 'B': [4, None, 6]})\n",
    "df.dropna()  # Removes rows with missing values\n",
    "df.dropna(axis=1)  # Removes columns with missing values\n"
   ]
  },
  {
   "cell_type": "code",
   "execution_count": 3,
   "id": "eee0e5e1-c546-4731-aa25-b9410e0a0648",
   "metadata": {},
   "outputs": [
    {
     "data": {
      "text/html": [
       "<div>\n",
       "<style scoped>\n",
       "    .dataframe tbody tr th:only-of-type {\n",
       "        vertical-align: middle;\n",
       "    }\n",
       "\n",
       "    .dataframe tbody tr th {\n",
       "        vertical-align: top;\n",
       "    }\n",
       "\n",
       "    .dataframe thead th {\n",
       "        text-align: right;\n",
       "    }\n",
       "</style>\n",
       "<table border=\"1\" class=\"dataframe\">\n",
       "  <thead>\n",
       "    <tr style=\"text-align: right;\">\n",
       "      <th></th>\n",
       "      <th>A</th>\n",
       "      <th>B</th>\n",
       "    </tr>\n",
       "  </thead>\n",
       "  <tbody>\n",
       "    <tr>\n",
       "      <th>0</th>\n",
       "      <td>1.0</td>\n",
       "      <td>4.0</td>\n",
       "    </tr>\n",
       "    <tr>\n",
       "      <th>1</th>\n",
       "      <td>2.0</td>\n",
       "      <td>5.0</td>\n",
       "    </tr>\n",
       "    <tr>\n",
       "      <th>2</th>\n",
       "      <td>1.5</td>\n",
       "      <td>6.0</td>\n",
       "    </tr>\n",
       "  </tbody>\n",
       "</table>\n",
       "</div>"
      ],
      "text/plain": [
       "     A    B\n",
       "0  1.0  4.0\n",
       "1  2.0  5.0\n",
       "2  1.5  6.0"
      ]
     },
     "execution_count": 3,
     "metadata": {},
     "output_type": "execute_result"
    }
   ],
   "source": [
    "# Imputation: Replace missing values with a specific value (mean, median, mode, etc.).\n",
    "\n",
    "df.fillna(df.mean())  # Replaces missing values with the mean\n"
   ]
  },
  {
   "cell_type": "code",
   "execution_count": 4,
   "id": "5967babf-6030-48df-9693-acb55c159e44",
   "metadata": {},
   "outputs": [],
   "source": [
    "# Using Algorithms: Algorithms like KNN imputation.\n",
    "\n",
    "from sklearn.impute import KNNImputer\n",
    "imputer = KNNImputer(n_neighbors=2)\n",
    "df_imputed = imputer.fit_transform(df)\n"
   ]
  },
  {
   "cell_type": "markdown",
   "id": "61622f30-f9a7-497a-a6c2-28b25a71042a",
   "metadata": {},
   "source": [
    "Q3: Explain the imbalanced data. What will happen if imbalanced data is not handled?"
   ]
  },
  {
   "cell_type": "markdown",
   "id": "c7ec8559-42f2-4ae0-bc10-452d5a08af7c",
   "metadata": {},
   "source": [
    "* Imbalanced data refers to a dataset where the classes are not represented equally, often seen in classification problems.\n",
    "* If imbalanced data is not handled, it can lead to:\n",
    "  * Bias: The model will be biased towards the majority class.\n",
    "  * Poor Performance: The model may have poor performance metrics like precision, recall, and F1-score for the minority class.\n",
    "  * Misleading Accuracy: High overall accuracy but poor detection of the minority class."
   ]
  },
  {
   "cell_type": "markdown",
   "id": "4fc6efa9-1a59-4b75-856f-dbaef14045e2",
   "metadata": {},
   "source": [
    "Q4: What are Up-sampling and Down-sampling? Explain with an example when up-sampling and down-sampling are required."
   ]
  },
  {
   "cell_type": "code",
   "execution_count": null,
   "id": "d6a254c6-c112-486f-93bf-c668213fcf0a",
   "metadata": {},
   "outputs": [],
   "source": [
    "# Up-sampling: Increasing the number of samples in the minority class by replicating them.\n",
    "# Down-sampling: Reducing the number of samples in the majority class.\n",
    "\n",
    "from sklearn.utils import resample\n",
    "df_majority = df[df.Class == 0]\n",
    "df_minority = df[df.Class == 1]\n",
    "\n",
    "# Up-sample minority class\n",
    "df_minority_upsampled = resample(df_minority, replace=True, n_samples=len(df_majority))\n",
    "\n",
    "# Down-sample majority class\n",
    "df_majority_downsampled = resample(df_majority, replace=False, n_samples=len(df_minority))\n"
   ]
  },
  {
   "cell_type": "markdown",
   "id": "952cc63f-5e09-41fe-a832-6c5a3920d248",
   "metadata": {},
   "source": [
    "Q5: What is data Augmentation? Explain SMOTE."
   ]
  },
  {
   "cell_type": "markdown",
   "id": "6fc860dd-8341-45f5-b484-8e2796515393",
   "metadata": {},
   "source": [
    "* Data Augmentation: Techniques used to increase the diversity of data by adding slightly modified copies of already existing data or newly created synthetic data.\n",
    "* SMOTE (Synthetic Minority Over-sampling Technique): A method used to create synthetic samples for the minority class."
   ]
  },
  {
   "cell_type": "code",
   "execution_count": null,
   "id": "895ad0b9-00bc-410b-b1e4-931d3200b4d1",
   "metadata": {},
   "outputs": [],
   "source": [
    "from imblearn.over_sampling import SMOTE\n",
    "smote = SMOTE()\n",
    "X_resampled, y_resampled = smote.fit_resample(X, y)\n"
   ]
  },
  {
   "cell_type": "markdown",
   "id": "ac520197-7f27-41ec-95d9-28669b8bc0f8",
   "metadata": {},
   "source": [
    "Q6: What are outliers in a dataset? Why is it essential to handle outliers?"
   ]
  },
  {
   "cell_type": "markdown",
   "id": "740812a5-6c09-41e6-9613-f2edcbc51eef",
   "metadata": {},
   "source": [
    "* Outliers are data points that differ significantly from other observations.\n",
    "* Handling outliers is essential because they can:\n",
    "  * Skew and mislead the statistical analysis.\n",
    "  * Affect the performance of machine learning models.\n",
    "  * Indicate variability in the data, potential errors, or novel insights."
   ]
  },
  {
   "cell_type": "markdown",
   "id": "bcc5a46a-c618-4a57-ad71-0b481c87ac69",
   "metadata": {},
   "source": [
    "Q7: You are working on a project that requires analyzing customer data. However, you notice that some of the data is missing. What are some techniques you can use to handle the missing data in your analysis?\n"
   ]
  },
  {
   "cell_type": "markdown",
   "id": "d96dc2d9-7665-421f-ad9f-f15babd0f4e9",
   "metadata": {},
   "source": [
    "**Techniques:**\n",
    "  * Imputation using mean, median, or mode.\n",
    "  * Using algorithms like KNN or regression to predict and fill missing values.\n",
    "  * Removing rows or columns with a significant number of missing values.\n",
    "  * Using advanced imputation techniques like multiple imputation."
   ]
  },
  {
   "cell_type": "markdown",
   "id": "b1ee64fb-c7ed-421d-ab87-fe88242f7d66",
   "metadata": {},
   "source": [
    "Q8: You are working with a large dataset and find that a small percentage of the data is missing. What are some strategies you can use to determine if the missing data is missing at random or if there is a pattern to the missing data?"
   ]
  },
  {
   "cell_type": "markdown",
   "id": "ad8cf2f1-d243-44fe-b9e7-236367dbb704",
   "metadata": {},
   "source": [
    "**Strategies:**\n",
    "  * Missing Completely at Random (MCAR): Check if the missing values are randomly distributed by visual inspection or statistical       tests.\n",
    "  * Missing at Random (MAR): Analyze if the probability of missing data is related to other observed variables.\n",
    "  * Not Missing at Random (NMAR): Investigate patterns or correlations with missing data, using tests like Little’s MCAR test.\n",
    "  * Visualizations: Use heatmaps or scatter plots to identify patterns."
   ]
  },
  {
   "cell_type": "markdown",
   "id": "cbc3f8af-9d60-44ed-b25f-fdbbe537fc71",
   "metadata": {},
   "source": [
    "Q9: Suppose you are working on a medical diagnosis project and find that the majority of patients in the dataset do not have the condition of interest, while a small percentage do. What are some strategies you can use to evaluate the performance of your machine learning model on this imbalanced dataset?\n"
   ]
  },
  {
   "cell_type": "markdown",
   "id": "f77d1615-fb21-47a1-8b03-8761375c71c6",
   "metadata": {},
   "source": [
    "**Strategies:**\n",
    "  * Use performance metrics like precision, recall, F1-score, ROC-AUC instead of accuracy.\n",
    "  * Implement cross-validation techniques.\n",
    "  * Use stratified sampling to ensure representative distribution of classes.\n",
    "  * Apply up-sampling, down-sampling, or SMOTE to balance the classes."
   ]
  },
  {
   "cell_type": "markdown",
   "id": "94514415-e17a-4046-8fee-85f6eeba19c9",
   "metadata": {},
   "source": [
    "Q10: When attempting to estimate customer satisfaction for a project, you discover that the dataset is unbalanced, with the bulk of customers reporting being satisfied. What methods can you employ to balance the dataset and down-sample the majority class?\n"
   ]
  },
  {
   "cell_type": "code",
   "execution_count": null,
   "id": "b4c659b8-9888-45bf-b5de-00af905e0950",
   "metadata": {},
   "outputs": [],
   "source": [
    "# Down-sampling the majority class by randomly removing samples.\n",
    "\n",
    "df_majority_downsampled = resample(df_majority, replace=False, n_samples=len(df_minority))\n"
   ]
  },
  {
   "cell_type": "code",
   "execution_count": null,
   "id": "9dde7128-3810-4a0f-8f28-748d99ab6819",
   "metadata": {},
   "outputs": [],
   "source": [
    "# Generating synthetic data for the minority class using techniques like SMOTE.\n",
    "X_resampled, y_resampled = smote.fit_resample(X, y)\n"
   ]
  },
  {
   "cell_type": "markdown",
   "id": "606ec9bd-cfba-42d3-993e-d573371aa452",
   "metadata": {},
   "source": [
    "Q11: You discover that the dataset is unbalanced with a low percentage of occurrences while working on a project that requires you to estimate the occurrence of a rare event. What methods can you employ to balance the dataset and up-sample the minority class?\n"
   ]
  },
  {
   "cell_type": "markdown",
   "id": "448be171-43f0-4e40-9e20-bc51f06c25b4",
   "metadata": {},
   "source": [
    "**Methods:**\n",
    "\n",
    "* Up-sampling the minority class by duplicating samples or using SMOTE.\n",
    "* Creating synthetic data for the minority class.\n",
    "* Combining up-sampling and down-sampling to maintain a balanced dataset without overfitting.\n"
   ]
  },
  {
   "cell_type": "code",
   "execution_count": null,
   "id": "12d5f8ba-431c-434c-b28d-ca494aa046e1",
   "metadata": {},
   "outputs": [],
   "source": [
    "X_resampled, y_resampled = smote.fit_resample(X, y)\n"
   ]
  }
 ],
 "metadata": {
  "kernelspec": {
   "display_name": "Python 3 (ipykernel)",
   "language": "python",
   "name": "python3"
  },
  "language_info": {
   "codemirror_mode": {
    "name": "ipython",
    "version": 3
   },
   "file_extension": ".py",
   "mimetype": "text/x-python",
   "name": "python",
   "nbconvert_exporter": "python",
   "pygments_lexer": "ipython3",
   "version": "3.10.8"
  }
 },
 "nbformat": 4,
 "nbformat_minor": 5
}
