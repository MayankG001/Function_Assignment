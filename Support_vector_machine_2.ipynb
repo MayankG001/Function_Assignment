{
 "cells": [
  {
   "cell_type": "markdown",
   "id": "3fa04038-d116-4bd9-adc7-4b0a9d071e1d",
   "metadata": {},
   "source": [
    "**Q1. What is the relationship between polynomial functions and kernel functions in machine learning\n",
    "algorithms?**"
   ]
  },
  {
   "cell_type": "markdown",
   "id": "dba0a6f1-0ed0-4fd9-99e9-8a1c9083f8f7",
   "metadata": {},
   "source": [
    "Polynomial functions can be used as kernel functions in Support Vector Machines (SVM) to enable the algorithm to learn non-linear decision boundaries. The kernel trick allows SVM to operate in a high-dimensional space without explicitly transforming the data. The polynomial kernel computes the dot product of the input features raised to a certain degree, effectively allowing the SVM to fit a polynomial decision boundary in the original feature space."
   ]
  },
  {
   "cell_type": "markdown",
   "id": "cc8b45f7-25b9-4908-b44c-f069f8cbf0e9",
   "metadata": {},
   "source": [
    "**Q2. How can we implement an SVM with a polynomial kernel in Python using Scikit-learn?**"
   ]
  },
  {
   "cell_type": "code",
   "execution_count": 1,
   "id": "e8e96152-7d68-41bf-b966-c4eba7d1cfc7",
   "metadata": {},
   "outputs": [],
   "source": [
    "# To implement an SVM using Scikit-learn, you can follow these steps:\n",
    "# 1.Import Libraries:\n",
    "import numpy as np  \n",
    "import pandas as pd  \n",
    "from sklearn import datasets  \n",
    "from sklearn.model_selection import train_test_split  \n",
    "from sklearn.svm import SVC"
   ]
  },
  {
   "cell_type": "code",
   "execution_count": 2,
   "id": "4fcd927d-182a-4853-927b-6ae9bbc85169",
   "metadata": {},
   "outputs": [],
   "source": [
    "# 2. Load Dataset:\n",
    "iris = datasets.load_iris()  \n",
    "X = iris.data  \n",
    "y = iris.target"
   ]
  },
  {
   "cell_type": "code",
   "execution_count": 3,
   "id": "c3036012-fafe-4cc0-b59e-d5db0d9feece",
   "metadata": {},
   "outputs": [],
   "source": [
    "# 3.Split the Dataset:\n",
    "X_train, X_test, y_train, y_test = train_test_split(X, y, test_size=0.3, random_state=42)"
   ]
  },
  {
   "cell_type": "code",
   "execution_count": 4,
   "id": "a7f47fd5-3760-4da5-bf81-3016fb898ca3",
   "metadata": {},
   "outputs": [
    {
     "data": {
      "text/html": [
       "<style>#sk-container-id-1 {color: black;background-color: white;}#sk-container-id-1 pre{padding: 0;}#sk-container-id-1 div.sk-toggleable {background-color: white;}#sk-container-id-1 label.sk-toggleable__label {cursor: pointer;display: block;width: 100%;margin-bottom: 0;padding: 0.3em;box-sizing: border-box;text-align: center;}#sk-container-id-1 label.sk-toggleable__label-arrow:before {content: \"▸\";float: left;margin-right: 0.25em;color: #696969;}#sk-container-id-1 label.sk-toggleable__label-arrow:hover:before {color: black;}#sk-container-id-1 div.sk-estimator:hover label.sk-toggleable__label-arrow:before {color: black;}#sk-container-id-1 div.sk-toggleable__content {max-height: 0;max-width: 0;overflow: hidden;text-align: left;background-color: #f0f8ff;}#sk-container-id-1 div.sk-toggleable__content pre {margin: 0.2em;color: black;border-radius: 0.25em;background-color: #f0f8ff;}#sk-container-id-1 input.sk-toggleable__control:checked~div.sk-toggleable__content {max-height: 200px;max-width: 100%;overflow: auto;}#sk-container-id-1 input.sk-toggleable__control:checked~label.sk-toggleable__label-arrow:before {content: \"▾\";}#sk-container-id-1 div.sk-estimator input.sk-toggleable__control:checked~label.sk-toggleable__label {background-color: #d4ebff;}#sk-container-id-1 div.sk-label input.sk-toggleable__control:checked~label.sk-toggleable__label {background-color: #d4ebff;}#sk-container-id-1 input.sk-hidden--visually {border: 0;clip: rect(1px 1px 1px 1px);clip: rect(1px, 1px, 1px, 1px);height: 1px;margin: -1px;overflow: hidden;padding: 0;position: absolute;width: 1px;}#sk-container-id-1 div.sk-estimator {font-family: monospace;background-color: #f0f8ff;border: 1px dotted black;border-radius: 0.25em;box-sizing: border-box;margin-bottom: 0.5em;}#sk-container-id-1 div.sk-estimator:hover {background-color: #d4ebff;}#sk-container-id-1 div.sk-parallel-item::after {content: \"\";width: 100%;border-bottom: 1px solid gray;flex-grow: 1;}#sk-container-id-1 div.sk-label:hover label.sk-toggleable__label {background-color: #d4ebff;}#sk-container-id-1 div.sk-serial::before {content: \"\";position: absolute;border-left: 1px solid gray;box-sizing: border-box;top: 0;bottom: 0;left: 50%;z-index: 0;}#sk-container-id-1 div.sk-serial {display: flex;flex-direction: column;align-items: center;background-color: white;padding-right: 0.2em;padding-left: 0.2em;position: relative;}#sk-container-id-1 div.sk-item {position: relative;z-index: 1;}#sk-container-id-1 div.sk-parallel {display: flex;align-items: stretch;justify-content: center;background-color: white;position: relative;}#sk-container-id-1 div.sk-item::before, #sk-container-id-1 div.sk-parallel-item::before {content: \"\";position: absolute;border-left: 1px solid gray;box-sizing: border-box;top: 0;bottom: 0;left: 50%;z-index: -1;}#sk-container-id-1 div.sk-parallel-item {display: flex;flex-direction: column;z-index: 1;position: relative;background-color: white;}#sk-container-id-1 div.sk-parallel-item:first-child::after {align-self: flex-end;width: 50%;}#sk-container-id-1 div.sk-parallel-item:last-child::after {align-self: flex-start;width: 50%;}#sk-container-id-1 div.sk-parallel-item:only-child::after {width: 0;}#sk-container-id-1 div.sk-dashed-wrapped {border: 1px dashed gray;margin: 0 0.4em 0.5em 0.4em;box-sizing: border-box;padding-bottom: 0.4em;background-color: white;}#sk-container-id-1 div.sk-label label {font-family: monospace;font-weight: bold;display: inline-block;line-height: 1.2em;}#sk-container-id-1 div.sk-label-container {text-align: center;}#sk-container-id-1 div.sk-container {/* jupyter's `normalize.less` sets `[hidden] { display: none; }` but bootstrap.min.css set `[hidden] { display: none !important; }` so we also need the `!important` here to be able to override the default hidden behavior on the sphinx rendered scikit-learn.org. See: https://github.com/scikit-learn/scikit-learn/issues/21755 */display: inline-block !important;position: relative;}#sk-container-id-1 div.sk-text-repr-fallback {display: none;}</style><div id=\"sk-container-id-1\" class=\"sk-top-container\"><div class=\"sk-text-repr-fallback\"><pre>SVC(kernel=&#x27;linear&#x27;)</pre><b>In a Jupyter environment, please rerun this cell to show the HTML representation or trust the notebook. <br />On GitHub, the HTML representation is unable to render, please try loading this page with nbviewer.org.</b></div><div class=\"sk-container\" hidden><div class=\"sk-item\"><div class=\"sk-estimator sk-toggleable\"><input class=\"sk-toggleable__control sk-hidden--visually\" id=\"sk-estimator-id-1\" type=\"checkbox\" checked><label for=\"sk-estimator-id-1\" class=\"sk-toggleable__label sk-toggleable__label-arrow\">SVC</label><div class=\"sk-toggleable__content\"><pre>SVC(kernel=&#x27;linear&#x27;)</pre></div></div></div></div></div>"
      ],
      "text/plain": [
       "SVC(kernel='linear')"
      ]
     },
     "execution_count": 4,
     "metadata": {},
     "output_type": "execute_result"
    }
   ],
   "source": [
    "# 4.Train the SVM Classifier:\n",
    "model = SVC(kernel='linear')  # You can change the kernel to 'poly' for polynomial kernel  \n",
    "model.fit(X_train, y_train)"
   ]
  },
  {
   "cell_type": "code",
   "execution_count": 6,
   "id": "9158b6a5-a49e-4362-b3c3-9155b8b011aa",
   "metadata": {},
   "outputs": [],
   "source": [
    "# 5.Make Predictions:\n",
    "y_pred = model.predict(X_test)"
   ]
  },
  {
   "cell_type": "markdown",
   "id": "2c138c86-b69f-4aa3-a7c1-066768224264",
   "metadata": {},
   "source": [
    "**Q3. How does increasing the value of epsilon affect the number of support vectors in SVR?**"
   ]
  },
  {
   "cell_type": "markdown",
   "id": "2aa87f18-af99-4dc6-909d-29be3b223014",
   "metadata": {},
   "source": [
    "In Support Vector Regression (SVR), the epsilon parameter defines a margin of tolerance where no penalty is given to errors. Increasing epsilon results in a wider margin, which may lead to fewer support vectors and a simpler model. Conversely, a smaller epsilon allows more data points to be within the margin, potentially increasing the number of support vectors and making the model more complex."
   ]
  },
  {
   "cell_type": "markdown",
   "id": "6a9a754f-8d7a-43ed-9966-7e5424a51ede",
   "metadata": {},
   "source": [
    "**Q4. How does the choice of kernel function, C parameter, epsilon parameter, and gamma parameter\n",
    "affect the performance of Support Vector Regression (SVR)? Can you explain how each parameter works\n",
    "and provide examples of when you might want to increase or decrease its value?**"
   ]
  },
  {
   "cell_type": "markdown",
   "id": "87a20a18-89b1-4fee-92e3-b6e1a4d68dbe",
   "metadata": {},
   "source": [
    "1. Kernel Choice: The choice of kernel (e.g., linear, polynomial, RBF) affects the model's ability to capture the underlying data patterns. For example, the RBF kernel is effective for non-linear data.\n",
    "\n",
    "2. Hyperparameter Tuning: Hyperparameters like C (regularization) and epsilon can be tuned using techniques like GridSearchCV or RandomizedSearchCV to find the optimal values that improve model performance."
   ]
  },
  {
   "cell_type": "markdown",
   "id": "a71c89a1-005a-49b2-bccb-787deb3d057f",
   "metadata": {},
   "source": [
    "**Q5. Assignment:**"
   ]
  },
  {
   "cell_type": "markdown",
   "id": "b3b741f9-9e41-43f5-8617-2e57714fcdbc",
   "metadata": {},
   "source": [
    "**Implementation Steps**\n",
    "1. Import Necessary Libraries and Load Dataset:"
   ]
  },
  {
   "cell_type": "code",
   "execution_count": 7,
   "id": "131d8863-5b0d-439f-a6fa-f66e0c9a801e",
   "metadata": {},
   "outputs": [],
   "source": [
    "import pandas as pd  \n",
    "from sklearn import datasets  \n",
    "from sklearn.model_selection import train_test_split  \n",
    "from sklearn.svm import SVR  \n",
    "from sklearn.metrics import mean_squared_error  \n",
    "from sklearn.model_selection import GridSearchCV"
   ]
  },
  {
   "cell_type": "code",
   "execution_count": null,
   "id": "bcf688a4-d93f-4bfc-b5b5-e85b73e2db3f",
   "metadata": {},
   "outputs": [],
   "source": [
    "# 2.Preprocess the Data:\n",
    "# Load a dataset (e.g., Boston housing dataset)  \n",
    "boston = datasets.load_boston()  \n",
    "X = boston.data  \n",
    "y = boston.target  \n",
    "\n",
    "# Split the dataset  \n",
    "X_train, X_test, y_train, y_test = train_test_split(X, y, test_size=0.3, random_state=42)"
   ]
  },
  {
   "cell_type": "code",
   "execution_count": 9,
   "id": "c6afcd6c-d2a3-49a2-a00a-58d014cb05e3",
   "metadata": {},
   "outputs": [
    {
     "data": {
      "text/html": [
       "<style>#sk-container-id-2 {color: black;background-color: white;}#sk-container-id-2 pre{padding: 0;}#sk-container-id-2 div.sk-toggleable {background-color: white;}#sk-container-id-2 label.sk-toggleable__label {cursor: pointer;display: block;width: 100%;margin-bottom: 0;padding: 0.3em;box-sizing: border-box;text-align: center;}#sk-container-id-2 label.sk-toggleable__label-arrow:before {content: \"▸\";float: left;margin-right: 0.25em;color: #696969;}#sk-container-id-2 label.sk-toggleable__label-arrow:hover:before {color: black;}#sk-container-id-2 div.sk-estimator:hover label.sk-toggleable__label-arrow:before {color: black;}#sk-container-id-2 div.sk-toggleable__content {max-height: 0;max-width: 0;overflow: hidden;text-align: left;background-color: #f0f8ff;}#sk-container-id-2 div.sk-toggleable__content pre {margin: 0.2em;color: black;border-radius: 0.25em;background-color: #f0f8ff;}#sk-container-id-2 input.sk-toggleable__control:checked~div.sk-toggleable__content {max-height: 200px;max-width: 100%;overflow: auto;}#sk-container-id-2 input.sk-toggleable__control:checked~label.sk-toggleable__label-arrow:before {content: \"▾\";}#sk-container-id-2 div.sk-estimator input.sk-toggleable__control:checked~label.sk-toggleable__label {background-color: #d4ebff;}#sk-container-id-2 div.sk-label input.sk-toggleable__control:checked~label.sk-toggleable__label {background-color: #d4ebff;}#sk-container-id-2 input.sk-hidden--visually {border: 0;clip: rect(1px 1px 1px 1px);clip: rect(1px, 1px, 1px, 1px);height: 1px;margin: -1px;overflow: hidden;padding: 0;position: absolute;width: 1px;}#sk-container-id-2 div.sk-estimator {font-family: monospace;background-color: #f0f8ff;border: 1px dotted black;border-radius: 0.25em;box-sizing: border-box;margin-bottom: 0.5em;}#sk-container-id-2 div.sk-estimator:hover {background-color: #d4ebff;}#sk-container-id-2 div.sk-parallel-item::after {content: \"\";width: 100%;border-bottom: 1px solid gray;flex-grow: 1;}#sk-container-id-2 div.sk-label:hover label.sk-toggleable__label {background-color: #d4ebff;}#sk-container-id-2 div.sk-serial::before {content: \"\";position: absolute;border-left: 1px solid gray;box-sizing: border-box;top: 0;bottom: 0;left: 50%;z-index: 0;}#sk-container-id-2 div.sk-serial {display: flex;flex-direction: column;align-items: center;background-color: white;padding-right: 0.2em;padding-left: 0.2em;position: relative;}#sk-container-id-2 div.sk-item {position: relative;z-index: 1;}#sk-container-id-2 div.sk-parallel {display: flex;align-items: stretch;justify-content: center;background-color: white;position: relative;}#sk-container-id-2 div.sk-item::before, #sk-container-id-2 div.sk-parallel-item::before {content: \"\";position: absolute;border-left: 1px solid gray;box-sizing: border-box;top: 0;bottom: 0;left: 50%;z-index: -1;}#sk-container-id-2 div.sk-parallel-item {display: flex;flex-direction: column;z-index: 1;position: relative;background-color: white;}#sk-container-id-2 div.sk-parallel-item:first-child::after {align-self: flex-end;width: 50%;}#sk-container-id-2 div.sk-parallel-item:last-child::after {align-self: flex-start;width: 50%;}#sk-container-id-2 div.sk-parallel-item:only-child::after {width: 0;}#sk-container-id-2 div.sk-dashed-wrapped {border: 1px dashed gray;margin: 0 0.4em 0.5em 0.4em;box-sizing: border-box;padding-bottom: 0.4em;background-color: white;}#sk-container-id-2 div.sk-label label {font-family: monospace;font-weight: bold;display: inline-block;line-height: 1.2em;}#sk-container-id-2 div.sk-label-container {text-align: center;}#sk-container-id-2 div.sk-container {/* jupyter's `normalize.less` sets `[hidden] { display: none; }` but bootstrap.min.css set `[hidden] { display: none !important; }` so we also need the `!important` here to be able to override the default hidden behavior on the sphinx rendered scikit-learn.org. See: https://github.com/scikit-learn/scikit-learn/issues/21755 */display: inline-block !important;position: relative;}#sk-container-id-2 div.sk-text-repr-fallback {display: none;}</style><div id=\"sk-container-id-2\" class=\"sk-top-container\"><div class=\"sk-text-repr-fallback\"><pre>SVR()</pre><b>In a Jupyter environment, please rerun this cell to show the HTML representation or trust the notebook. <br />On GitHub, the HTML representation is unable to render, please try loading this page with nbviewer.org.</b></div><div class=\"sk-container\" hidden><div class=\"sk-item\"><div class=\"sk-estimator sk-toggleable\"><input class=\"sk-toggleable__control sk-hidden--visually\" id=\"sk-estimator-id-2\" type=\"checkbox\" checked><label for=\"sk-estimator-id-2\" class=\"sk-toggleable__label sk-toggleable__label-arrow\">SVR</label><div class=\"sk-toggleable__content\"><pre>SVR()</pre></div></div></div></div></div>"
      ],
      "text/plain": [
       "SVR()"
      ]
     },
     "execution_count": 9,
     "metadata": {},
     "output_type": "execute_result"
    }
   ],
   "source": [
    "# 3.Train the SVR Model:\n",
    "svr = SVR()  \n",
    "svr.fit(X_train, y_train)\n"
   ]
  },
  {
   "cell_type": "code",
   "execution_count": 10,
   "id": "4fb0dc3a-03bf-4e07-909f-a93d0a4f2502",
   "metadata": {},
   "outputs": [
    {
     "name": "stdout",
     "output_type": "stream",
     "text": [
      "Mean Squared Error: 0.030618079775968716\n"
     ]
    }
   ],
   "source": [
    "# 4.Evaluate the Classifier:\n",
    "\n",
    "y_pred = svr.predict(X_test)  \n",
    "mse = mean_squared_error(y_test, y_pred)  \n",
    "print(f'Mean Squared Error: {mse}')"
   ]
  },
  {
   "cell_type": "code",
   "execution_count": 11,
   "id": "f36299c5-2f0c-4147-b251-a88f7105f956",
   "metadata": {},
   "outputs": [
    {
     "name": "stdout",
     "output_type": "stream",
     "text": [
      "Best parameters: {'C': 10, 'epsilon': 0.1, 'kernel': 'rbf'}\n"
     ]
    }
   ],
   "source": [
    "# 5.Hyperparameter Tuning:\n",
    "param_grid = {  \n",
    "    'kernel': ['linear', 'poly', 'rbf'],  \n",
    "    'C': [0.1, 1, 10],  \n",
    "    'epsilon': [0.1, 0.2, 0.5]  \n",
    "}  \n",
    "grid_search = GridSearchCV(SVR(), param_grid, cv=5)  \n",
    "grid_search.fit(X_train, y_train)  \n",
    "print(f'Best parameters: {grid_search.best_params_}')"
   ]
  },
  {
   "cell_type": "code",
   "execution_count": 12,
   "id": "5fd2b596-a516-4e4a-9fb4-ad8dfc1411f0",
   "metadata": {},
   "outputs": [
    {
     "data": {
      "text/plain": [
       "['svr_model.pkl']"
      ]
     },
     "execution_count": 12,
     "metadata": {},
     "output_type": "execute_result"
    }
   ],
   "source": [
    "# 6.Save the Model for Future Use\n",
    "import joblib  \n",
    "joblib.dump(grid_search.best_estimator_, 'svr_model.pkl')"
   ]
  }
 ],
 "metadata": {
  "kernelspec": {
   "display_name": "Python 3 (ipykernel)",
   "language": "python",
   "name": "python3"
  },
  "language_info": {
   "codemirror_mode": {
    "name": "ipython",
    "version": 3
   },
   "file_extension": ".py",
   "mimetype": "text/x-python",
   "name": "python",
   "nbconvert_exporter": "python",
   "pygments_lexer": "ipython3",
   "version": "3.10.8"
  }
 },
 "nbformat": 4,
 "nbformat_minor": 5
}
