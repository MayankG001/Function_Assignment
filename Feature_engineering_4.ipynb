{
 "cells": [
  {
   "cell_type": "markdown",
   "id": "545a963e-9807-4625-9793-a29383f86939",
   "metadata": {},
   "source": [
    "**Q1. What is data encoding? How is it useful in data science?**\n"
   ]
  },
  {
   "cell_type": "markdown",
   "id": "4e98406f-dc5d-48d9-ab3c-46769ce49d24",
   "metadata": {},
   "source": [
    "Data encoding is the process of converting categorical data into a numerical format that can be used by machine learning algorithms. It is useful in data science because most algorithms require numerical input, and encoding allows for the representation of categorical variables in a way that preserves their information while making them interpretable by models.\n",
    "\n"
   ]
  },
  {
   "cell_type": "markdown",
   "id": "6d928cb3-0d33-460b-9b17-5ed230952fca",
   "metadata": {},
   "source": [
    "**Q2. What is nominal encoding? Provide an example of how you would use it in a real-world scenario.**\n"
   ]
  },
  {
   "cell_type": "markdown",
   "id": "ece5cf7e-2c8a-40da-8f3e-0d7689c35489",
   "metadata": {},
   "source": [
    "Nominal encoding is a method of converting categorical variables without any intrinsic order into numerical values. For example, if you have a dataset containing the colors of cars (e.g., red, blue, green), you could assign each color a unique integer: red = 1, blue = 2, green = 3. This encoding allows machine learning models to process the categorical data effectively.\n",
    "\n"
   ]
  },
  {
   "cell_type": "markdown",
   "id": "134f74a6-a4e8-41e2-976f-b391752b8c58",
   "metadata": {},
   "source": [
    "**Q3. In what situations is nominal encoding preferred over one-hot encoding? Provide a practical example.**"
   ]
  },
  {
   "cell_type": "markdown",
   "id": "79a16b0c-b1ac-49df-90b4-85e2a4337aae",
   "metadata": {},
   "source": [
    "Nominal encoding is preferred over one-hot encoding when dealing with high cardinality categorical variables, as one-hot encoding can lead to a significant increase in dimensionality. For instance, if you have a dataset with a \"Country\" feature containing 100 unique countries, one-hot encoding would create 100 new binary features, which can lead to sparse data and increased computational cost. Nominal encoding, on the other hand, would simply convert the countries into a single numerical feature.\n",
    "\n"
   ]
  },
  {
   "cell_type": "markdown",
   "id": "781845b7-be67-4ebf-966e-63945e6e75e2",
   "metadata": {},
   "source": [
    "**Q4. Suppose you have a dataset containing categorical data with 5 unique values. Which encoding\n",
    "technique would you use to transform this data into a format suitable for machine learning algorithms?\n",
    "Explain why you made this choice.**"
   ]
  },
  {
   "cell_type": "markdown",
   "id": "76bdefad-a0c7-4aaf-b2ea-359075f4af9b",
   "metadata": {},
   "source": [
    "To transform categorical data with 5 unique values using nominal encoding, I would assign each unique value a distinct integer. For example, if the values are {A, B, C, D, E}, I could encode them as follows: A = 0, B = 1, C = 2, D = 3, E = 4. This method is chosen because it simplifies the data while maintaining the categorical nature, making it easier for algorithms to interpret the information without creating additional features, as would be the case with one-hot encoding.\n",
    "\n"
   ]
  },
  {
   "cell_type": "markdown",
   "id": "53d5258c-0bbc-4a9c-abdd-c1bad9ae9205",
   "metadata": {},
   "source": [
    "**Q5. In a machine learning project, you have a dataset with 1000 rows and 5 columns. Two of the columns\n",
    "are categorical, and the remaining three columns are numerical. If you were to use nominal encoding to\n",
    "transform the categorical data, how many new columns would be created? Show your calculations.**"
   ]
  },
  {
   "cell_type": "markdown",
   "id": "84aa3802-383b-403c-a670-ddd66df7f704",
   "metadata": {},
   "source": [
    "If there are two categorical columns, and assuming each column has a unique number of categories (let's say the first has 3 categories and the second has 4 categories), nominal encoding would convert each categorical column into a single numerical column. Therefore, no new columns would be created; instead, the two categorical columns would be replaced by two numerical columns. The total number of columns would remain 5.\n",
    "\n"
   ]
  },
  {
   "cell_type": "code",
   "execution_count": 1,
   "id": "7f97c89e-5aaf-4884-aded-2be533018c06",
   "metadata": {},
   "outputs": [
    {
     "name": "stdout",
     "output_type": "stream",
     "text": [
      "     C   D    E  A_Blue  A_Green  A_Red  A_Yellow  B_Large  B_Medium  B_Small\n",
      "0  1.2  10  100       0        0      1         0        0         0        1\n",
      "1  2.3  20  200       1        0      0         0        0         1        0\n",
      "2  3.1  30  300       0        1      0         0        1         0        0\n",
      "3  4.0  40  400       0        0      0         1        0         0        1\n",
      "4  5.5  50  500       0        0      1         0        0         1        0\n",
      "5  6.7  60  600       0        1      0         0        1         0        0\n",
      "6  7.8  70  700       1        0      0         0        0         0        1\n",
      "7  8.9  80  800       0        0      0         1        0         1        0\n"
     ]
    }
   ],
   "source": [
    "import pandas as np\n",
    "import pandas as pd\n",
    "\n",
    "# Sample data\n",
    "data = pd.DataFrame({\n",
    "    'A': ['Red', 'Blue', 'Green', 'Yellow', 'Red', 'Green', 'Blue', 'Yellow'],\n",
    "    'B': ['Small', 'Medium', 'Large', 'Small', 'Medium', 'Large', 'Small', 'Medium'],\n",
    "    'C': [1.2, 2.3, 3.1, 4.0, 5.5, 6.7, 7.8, 8.9],\n",
    "    'D': [10, 20, 30, 40, 50, 60, 70, 80],\n",
    "    'E': [100, 200, 300, 400, 500, 600, 700, 800]\n",
    "})\n",
    "\n",
    "# One-hot encode categorical columns\n",
    "encoded_data = pd.get_dummies(data, columns=['A', 'B'])\n",
    "\n",
    "# Show the encoded data\n",
    "print(encoded_data)\n"
   ]
  },
  {
   "cell_type": "markdown",
   "id": "44320a36-83be-4dba-a105-bebf4563d4a1",
   "metadata": {},
   "source": [
    "**Q6. You are working with a dataset containing information about different types of animals, including their\n",
    "species, habitat, and diet. Which encoding technique would you use to transform the categorical data into\n",
    "a format suitable for machine learning algorithms? Justify your answer.**"
   ]
  },
  {
   "cell_type": "code",
   "execution_count": 2,
   "id": "29a4ce0e-7549-48bb-b546-3464b0f10052",
   "metadata": {},
   "outputs": [
    {
     "name": "stdout",
     "output_type": "stream",
     "text": [
      "   species_bird  species_fish  species_mammal  species_reptile  \\\n",
      "0             0             0               1                0   \n",
      "1             1             0               0                0   \n",
      "2             0             0               0                1   \n",
      "3             0             1               0                0   \n",
      "\n",
      "   habitat_desert  habitat_forest  habitat_freshwater  habitat_ocean  \\\n",
      "0               0               1                   0              0   \n",
      "1               1               0                   0              0   \n",
      "2               0               0                   0              1   \n",
      "3               0               0                   1              0   \n",
      "\n",
      "   diet_carnivore  diet_herbivore  diet_omnivore  \n",
      "0               0               1              0  \n",
      "1               1               0              0  \n",
      "2               0               0              1  \n",
      "3               0               1              0  \n"
     ]
    }
   ],
   "source": [
    "import pandas as pd\n",
    "\n",
    "data = pd.DataFrame({\n",
    "    'species': ['mammal', 'bird', 'reptile', 'fish'],\n",
    "    'habitat': ['forest', 'desert', 'ocean', 'freshwater'],\n",
    "    'diet': ['herbivore', 'carnivore', 'omnivore', 'herbivore']\n",
    "})\n",
    "\n",
    "# Apply one-hot encoding\n",
    "one_hot_encoded_data = pd.get_dummies(data)\n",
    "print(one_hot_encoded_data)\n"
   ]
  },
  {
   "cell_type": "markdown",
   "id": "9426c753-fd82-45aa-8d6c-9770f288f889",
   "metadata": {},
   "source": [
    "Q7. You are working on a project that involves predicting customer churn for a telecommunications company. The dataset contains 5 features, including the customer's gender, age, contract type, payment method, and tenure. Which encoding technique(s) would you use to transform the categorical data into a suitable format for machine learning algorithms? Provide a step-by-step explanation of how you would implement the encoding."
   ]
  },
  {
   "cell_type": "code",
   "execution_count": 3,
   "id": "bb1cc01c-26c0-479a-a13e-98b79508fab2",
   "metadata": {},
   "outputs": [
    {
     "name": "stdout",
     "output_type": "stream",
     "text": [
      "   gender  age  tenure  contract_type_Month-to-Month  contract_type_One Year  \\\n",
      "0       1   25      12                             1                       0   \n",
      "1       0   45      24                             0                       1   \n",
      "2       0   35      36                             0                       0   \n",
      "3       1   50      48                             1                       0   \n",
      "\n",
      "   contract_type_Two Year  payment_method_Bank Transfer  \\\n",
      "0                       0                             0   \n",
      "1                       0                             0   \n",
      "2                       1                             1   \n",
      "3                       0                             0   \n",
      "\n",
      "   payment_method_Credit Card  payment_method_Electronic Check  \\\n",
      "0                           0                                1   \n",
      "1                           0                                0   \n",
      "2                           0                                0   \n",
      "3                           1                                0   \n",
      "\n",
      "   payment_method_Mailed Check  \n",
      "0                            0  \n",
      "1                            1  \n",
      "2                            0  \n",
      "3                            0  \n"
     ]
    }
   ],
   "source": [
    "import pandas as pd\n",
    "from sklearn.preprocessing import LabelEncoder\n",
    "\n",
    "# Sample data\n",
    "data = pd.DataFrame({\n",
    "    'gender': ['Male', 'Female', 'Female', 'Male'],\n",
    "    'age': [25, 45, 35, 50],\n",
    "    'contract_type': ['Month-to-Month', 'One Year', 'Two Year', 'Month-to-Month'],\n",
    "    'payment_method': ['Electronic Check', 'Mailed Check', 'Bank Transfer', 'Credit Card'],\n",
    "    'tenure': [12, 24, 36, 48]\n",
    "})\n",
    "\n",
    "# Step 1: Label Encoding for 'gender'\n",
    "label_encoder = LabelEncoder()\n",
    "data['gender'] = label_encoder.fit_transform(data['gender'])\n",
    "\n",
    "# Step 2: One-Hot Encoding for 'contract_type' and 'payment_method'\n",
    "data = pd.get_dummies(data, columns=['contract_type', 'payment_method'])\n",
    "\n",
    "print(data)\n"
   ]
  }
 ],
 "metadata": {
  "kernelspec": {
   "display_name": "Python 3 (ipykernel)",
   "language": "python",
   "name": "python3"
  },
  "language_info": {
   "codemirror_mode": {
    "name": "ipython",
    "version": 3
   },
   "file_extension": ".py",
   "mimetype": "text/x-python",
   "name": "python",
   "nbconvert_exporter": "python",
   "pygments_lexer": "ipython3",
   "version": "3.10.8"
  }
 },
 "nbformat": 4,
 "nbformat_minor": 5
}
