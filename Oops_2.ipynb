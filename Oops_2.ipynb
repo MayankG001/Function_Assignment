{
 "cells": [
  {
   "cell_type": "markdown",
   "id": "85353279-3d37-4dab-b7e5-1db4f2a8a9c2",
   "metadata": {},
   "source": [
    "Q1, Create a vehicle class with an init method having instance variables as name_of_vehicle, max_speed\n",
    "and average_of_vehicle."
   ]
  },
  {
   "cell_type": "code",
   "execution_count": 1,
   "id": "3b2eef04-e10e-4288-a10b-ef009641aee6",
   "metadata": {},
   "outputs": [
    {
     "name": "stdout",
     "output_type": "stream",
     "text": [
      "Car\n",
      "180\n",
      "15\n"
     ]
    }
   ],
   "source": [
    "class Vehicle:\n",
    "    def __init__(self, name_of_vehicle, max_speed, average_of_vehicle):\n",
    "        self.name_of_vehicle = name_of_vehicle\n",
    "        self.max_speed = max_speed\n",
    "        self.average_of_vehicle = average_of_vehicle\n",
    "\n",
    "# Example usage\n",
    "v = Vehicle(\"Car\", 180, 15)\n",
    "print(v.name_of_vehicle)  # Car\n",
    "print(v.max_speed)        # 180\n",
    "print(v.average_of_vehicle)  # 15\n"
   ]
  },
  {
   "cell_type": "markdown",
   "id": "05887f5d-dffa-422e-be96-f567641b4075",
   "metadata": {},
   "source": [
    "Q2. Create a child class car from the vehicle class created in Que 1, which will inherit the vehicle class.\n",
    "Create a method named seating_capacity which takes capacity as an argument and returns the name of\n",
    "the vehicle and its seating capacity."
   ]
  },
  {
   "cell_type": "code",
   "execution_count": 2,
   "id": "d64ffbc6-1a0d-4e3b-b0fe-0019b89b75ba",
   "metadata": {},
   "outputs": [
    {
     "name": "stdout",
     "output_type": "stream",
     "text": [
      "The Car has a seating capacity of 5.\n"
     ]
    }
   ],
   "source": [
    "class Car(Vehicle):\n",
    "    def seating_capacity(self, capacity):\n",
    "        return f\"The {self.name_of_vehicle} has a seating capacity of {capacity}.\"\n",
    "\n",
    "# Example usage\n",
    "c = Car(\"Car\", 180, 15)\n",
    "print(c.seating_capacity(5))  # The Car has a seating capacity of 5.\n"
   ]
  },
  {
   "cell_type": "markdown",
   "id": "a40e65e2-0a9c-4af9-a80a-690bcce56692",
   "metadata": {},
   "source": [
    "Q3. What is multiple inheritance? Write a python code to demonstrate multiple inheritance."
   ]
  },
  {
   "cell_type": "code",
   "execution_count": 3,
   "id": "35e46ac5-bd9b-464b-952f-b16072897205",
   "metadata": {},
   "outputs": [
    {
     "name": "stdout",
     "output_type": "stream",
     "text": [
      "Car\n",
      "V8\n",
      "4\n"
     ]
    }
   ],
   "source": [
    "class Engine:\n",
    "    def __init__(self, engine_type):\n",
    "        self.engine_type = engine_type\n",
    "\n",
    "class Wheels:\n",
    "    def __init__(self, number_of_wheels):\n",
    "        self.number_of_wheels = number_of_wheels\n",
    "\n",
    "class Car(Vehicle, Engine, Wheels):\n",
    "    def __init__(self, name_of_vehicle, max_speed, average_of_vehicle, engine_type, number_of_wheels):\n",
    "        Vehicle.__init__(self, name_of_vehicle, max_speed, average_of_vehicle)\n",
    "        Engine.__init__(self, engine_type)\n",
    "        Wheels.__init__(self, number_of_wheels)\n",
    "\n",
    "# Example usage\n",
    "c = Car(\"Car\", 180, 15, \"V8\", 4)\n",
    "print(c.name_of_vehicle)      # Car\n",
    "print(c.engine_type)          # V8\n",
    "print(c.number_of_wheels)     # 4\n"
   ]
  },
  {
   "cell_type": "markdown",
   "id": "682346bd-048f-4599-857d-51848ffc82f8",
   "metadata": {},
   "source": [
    "Q4. What are getter and setter in python? Create a class and create a getter and a setter method in this\n",
    "class."
   ]
  },
  {
   "cell_type": "code",
   "execution_count": 4,
   "id": "bc51c1e2-210c-4c0b-9340-592a1085f55a",
   "metadata": {},
   "outputs": [
    {
     "name": "stdout",
     "output_type": "stream",
     "text": [
      "John\n",
      "Doe\n",
      "30\n",
      "35\n"
     ]
    }
   ],
   "source": [
    "class Person:\n",
    "    def __init__(self, name, age):\n",
    "        self._name = name\n",
    "        self._age = age\n",
    "\n",
    "    @property\n",
    "    def name(self):\n",
    "        return self._name\n",
    "\n",
    "    @name.setter\n",
    "    def name(self, value):\n",
    "        self._name = value\n",
    "\n",
    "    @property\n",
    "    def age(self):\n",
    "        return self._age\n",
    "\n",
    "    @age.setter\n",
    "    def age(self, value):\n",
    "        if value < 0:\n",
    "            raise ValueError(\"Age cannot be negative\")\n",
    "        self._age = value\n",
    "\n",
    "# Example usage\n",
    "p = Person(\"John\", 30)\n",
    "print(p.name)  # John\n",
    "p.name = \"Doe\"\n",
    "print(p.name)  # Doe\n",
    "print(p.age)   # 30\n",
    "p.age = 35\n",
    "print(p.age)   # 35\n"
   ]
  },
  {
   "cell_type": "markdown",
   "id": "efced8b5-8140-4b47-ada6-e997ab5705aa",
   "metadata": {},
   "source": [
    "Q5.What is method overriding in python? Write a python code to demonstrate method overriding."
   ]
  },
  {
   "cell_type": "code",
   "execution_count": 5,
   "id": "a90a0ace-80b9-4af8-ad4a-d1454cb5c631",
   "metadata": {},
   "outputs": [
    {
     "name": "stdout",
     "output_type": "stream",
     "text": [
      "Some sound\n",
      "Bark\n"
     ]
    }
   ],
   "source": [
    "class Animal:\n",
    "    def sound(self):\n",
    "        return \"Some sound\"\n",
    "\n",
    "class Dog(Animal):\n",
    "    def sound(self):\n",
    "        return \"Bark\"\n",
    "\n",
    "# Example usage\n",
    "a = Animal()\n",
    "print(a.sound())  # Some sound\n",
    "\n",
    "d = Dog()\n",
    "print(d.sound())  # Bark\n"
   ]
  }
 ],
 "metadata": {
  "kernelspec": {
   "display_name": "Python 3 (ipykernel)",
   "language": "python",
   "name": "python3"
  },
  "language_info": {
   "codemirror_mode": {
    "name": "ipython",
    "version": 3
   },
   "file_extension": ".py",
   "mimetype": "text/x-python",
   "name": "python",
   "nbconvert_exporter": "python",
   "pygments_lexer": "ipython3",
   "version": "3.10.8"
  }
 },
 "nbformat": 4,
 "nbformat_minor": 5
}
