{
 "cells": [
  {
   "cell_type": "markdown",
   "id": "6ce29bc1-e117-470c-a0fb-27112583b84d",
   "metadata": {},
   "source": [
    "**Q1: What is the KNN algorithm?**"
   ]
  },
  {
   "cell_type": "markdown",
   "id": "6f001eef-6a28-440e-87a1-e2a468fb6dbb",
   "metadata": {},
   "source": [
    "K-Nearest Neighbors (KNN) is a simple, non-parametric, and lazy learning algorithm used for classification and regression. It operates by finding the K nearest training examples in the feature space to the given query point and making predictions based on the labels (for classification) or average values (for regression) of these neighbors.\n",
    "\n"
   ]
  },
  {
   "cell_type": "markdown",
   "id": "c3e06e06-f502-4e8f-b078-b25253dbe6df",
   "metadata": {},
   "source": [
    "**Q2: How do you choose the value of K in KNN?**"
   ]
  },
  {
   "cell_type": "markdown",
   "id": "12ed6eeb-e4b1-42ec-8ee9-a438d7a4be10",
   "metadata": {},
   "source": [
    "Choosing the value of K in KNN involves balancing the bias-variance trade-off:\n",
    "\n",
    "* Small K values can lead to high variance and overfitting, as the model becomes sensitive to noise in the data.\n",
    "* Large K values can lead to high bias and underfitting, as the model becomes too smooth and may ignore important patterns.\n",
    "A common approach is to use cross-validation to test different K values and select the one that provides the best performance on the validation set."
   ]
  },
  {
   "cell_type": "markdown",
   "id": "0aa880a5-9ae6-47e1-8c3b-ee90a96963f1",
   "metadata": {},
   "source": [
    "**Q3: What is the difference between KNN classifier and KNN regressor?**"
   ]
  },
  {
   "cell_type": "markdown",
   "id": "2d0898bb-247f-43e5-81a1-fc2c040f1c1c",
   "metadata": {},
   "source": [
    "* KNN Classifier: Predicts the class label for a given input based on the majority class among its K nearest neighbors.\n",
    "* KNN Regressor: Predicts a continuous value for a given input by averaging the values of its K nearest neighbors."
   ]
  },
  {
   "cell_type": "markdown",
   "id": "402f1558-dac6-4106-88a1-6a6104d4d6a3",
   "metadata": {},
   "source": [
    "**Q4: How do you measure the performance of KNN?**"
   ]
  },
  {
   "cell_type": "markdown",
   "id": "4dee74f5-728f-454e-8444-53336ad4eb40",
   "metadata": {},
   "source": [
    "* Classification: Performance can be measured using metrics such as accuracy, precision, recall, F1-score, and confusion matrix.\n",
    "* Regression: Performance can be measured using metrics such as Mean Squared Error (MSE), Mean Absolute Error (MAE), and R-squared."
   ]
  },
  {
   "cell_type": "markdown",
   "id": "17da2a36-eb22-414c-95e8-5c69622a49d6",
   "metadata": {},
   "source": [
    "**Q5: What is the curse of dimensionality in KNN?**"
   ]
  },
  {
   "cell_type": "markdown",
   "id": "8f3c4a83-0809-4310-8a00-934e23e663ac",
   "metadata": {},
   "source": [
    "The curse of dimensionality refers to the phenomenon where the performance of KNN deteriorates as the number of dimensions (features) increases. In high-dimensional spaces, the distances between points become less meaningful because data points tend to become equidistant from each other, making it difficult for the KNN algorithm to identify meaningful neighbors.\n",
    "\n"
   ]
  },
  {
   "cell_type": "markdown",
   "id": "a5de7b12-5d0b-4247-970a-a06b8dd9c324",
   "metadata": {},
   "source": [
    "**Q6: How do you handle missing values in KNN?**"
   ]
  },
  {
   "cell_type": "markdown",
   "id": "b3ed2625-05f7-4140-9f8b-acdd1493cb10",
   "metadata": {},
   "source": [
    "Handling missing values in KNN can be done using:\n",
    "\n",
    "* Imputation: Filling in missing values with statistical measures (mean, median) or using models to predict the missing values.\n",
    "* Removing instances: Dropping instances with missing values, although this might not be feasible if too much data is lost.\n",
    "* Using algorithms: Employing algorithms that can handle missing values, such as k-Nearest Neighbor imputation, where missing values are filled using the average of the nearest neighbors."
   ]
  },
  {
   "cell_type": "markdown",
   "id": "4a5aac5a-0614-4e96-ba7a-c98e39bd904e",
   "metadata": {},
   "source": [
    "**Q7: Compare and contrast the performance of the KNN classifier and regressor. Which one is better for which type of problem?**"
   ]
  },
  {
   "cell_type": "markdown",
   "id": "04f17229-eb2d-4de3-893b-f8054e9021c7",
   "metadata": {},
   "source": [
    "* KNN Classifier: Suitable for classification tasks where the goal is to assign a label to an input. It performs well when there are clear decision boundaries and sufficient labeled data.\n",
    "* KNN Regressor: Suitable for regression tasks where the goal is to predict a continuous value. It works well when the relationship between input features and the target variable is smooth and not overly complex."
   ]
  },
  {
   "cell_type": "markdown",
   "id": "1ecc50bc-bb26-49d4-80d7-ad740a4a4e01",
   "metadata": {},
   "source": [
    "**Q8: What are the strengths and weaknesses of the KNN algorithm for classification and regression tasks, and how can these be addressed?**\n"
   ]
  },
  {
   "cell_type": "markdown",
   "id": "5ee2a0cc-ac61-4cbf-9e46-37c414a6ff90",
   "metadata": {},
   "source": [
    "`Strengths:`\n",
    "\n",
    "* Simple and easy to implement.\n",
    "* No assumptions about the underlying data distribution.\n",
    "* Can perform well with a large amount of data.\n",
    "\n",
    "`Weaknesses:`\n",
    "\n",
    "* Computationally expensive at prediction time, especially with large datasets.\n",
    "* Sensitive to the choice of K and the distance metric.\n",
    "* Can suffer from the curse of dimensionality.\n",
    "\n",
    "`Addressing weaknesses:`\n",
    "\n",
    "* Use dimensionality reduction techniques (e.g., PCA) to mitigate the curse of dimensionality.\n",
    "* Use efficient data structures (e.g., KD-trees, Ball-trees) to speed up neighbor searches.\n",
    "* Employ cross-validation to select the optimal K and distance metric.\n"
   ]
  },
  {
   "cell_type": "markdown",
   "id": "f4c6204b-94b3-4a47-8d2a-c0788908bf93",
   "metadata": {},
   "source": [
    "Q9: What is the difference between Euclidean distance and Manhattan distance in KNN?\n"
   ]
  },
  {
   "attachments": {
    "42fb2d30-0835-4dac-956a-5581e7675c34.png": {
     "image/png": "[encoded data removed]"
    },
    "892c466e-e8d1-49a2-8f75-a554b19e0a34.png": {
     "image/png": "[encoded data removed]"
    }
   },
   "cell_type": "markdown",
   "id": "a6f3c2f5-85ba-4887-8ef9-1c1650beee5e",
   "metadata": {},
   "source": [
    "* Euclidean Distance: Measures the straight-line distance between two points in Euclidean space. It is computed as the square root of the sum of the squared differences between corresponding features.\n",
    "\n",
    "![Screenshot 2024-08-04 182028.png](attachment:42fb2d30-0835-4dac-956a-5581e7675c34.png)\n",
    "\n",
    "* Manhattan Distance: Measures the distance between two points by summing the absolute differences between corresponding features.\n",
    "\n",
    "![Screenshot 2024-08-04 182033.png](attachment:892c466e-e8d1-49a2-8f75-a554b19e0a34.png)"
   ]
  },
  {
   "cell_type": "markdown",
   "id": "d33d6c60-ff96-40b7-8c59-7f62baa8391d",
   "metadata": {},
   "source": [
    "**Q10: What is the role of feature scaling in KNN?**"
   ]
  },
  {
   "cell_type": "markdown",
   "id": "4579c120-33ee-4567-908e-a30a51e90574",
   "metadata": {},
   "source": [
    "Feature scaling is crucial in KNN because the algorithm relies on distance calculations. Features with larger ranges can disproportionately influence the distance measurements, leading to biased results. Scaling features to a similar range (e.g., using standardization or normalization) ensures that each feature contributes equally to the distance calculations, improving the performance and reliability of the KNN algorithm.\n",
    "\n",
    "\n",
    "\n",
    "\n",
    "\n",
    "\n"
   ]
  }
 ],
 "metadata": {
  "kernelspec": {
   "display_name": "Python 3 (ipykernel)",
   "language": "python",
   "name": "python3"
  },
  "language_info": {
   "codemirror_mode": {
    "name": "ipython",
    "version": 3
   },
   "file_extension": ".py",
   "mimetype": "text/x-python",
   "name": "python",
   "nbconvert_exporter": "python",
   "pygments_lexer": "ipython3",
   "version": "3.10.8"
  }
 },
 "nbformat": 4,
 "nbformat_minor": 5
}
