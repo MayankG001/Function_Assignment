{
 "cells": [
  {
   "cell_type": "markdown",
   "id": "03e66f8a-c3e9-4a73-9de1-d219ab8412d9",
   "metadata": {},
   "source": [
    "Q1. What is an Exception in Python? Write the difference between Exceptions and Syntax errors."
   ]
  },
  {
   "cell_type": "markdown",
   "id": "1635cdbf-184e-4542-a385-a249a79486db",
   "metadata": {},
   "source": [
    "Exception: An exception is an event that occurs during the execution of a program that disrupts the normal flow of instructions. Exceptions can be handled using try-except blocks.\n",
    "\n",
    "`Difference between Exceptions and Syntax Errors:`\n",
    "\n",
    "* `Exceptions:`\n",
    "\n",
    "* Occur during runtime.\n",
    "* Can be handled using try-except blocks.\n",
    "* Examples include ZeroDivisionError, FileNotFoundError, etc.\n",
    "\n",
    "* `Syntax Errors:`\n",
    "\n",
    "* Occur when the code is not written correctly according to Python's syntax rules.\n",
    "* Detected during the parsing phase before execution.\n",
    "* Example: Missing a colon at the end of a function definition."
   ]
  },
  {
   "cell_type": "markdown",
   "id": "242d648e-aee1-4b24-b155-7c8ce3ac8f20",
   "metadata": {},
   "source": [
    "Q2. What happens if an exception is not handled? Explain with an example."
   ]
  },
  {
   "cell_type": "markdown",
   "id": "88c97d31-5726-48ff-b645-4a841ad5969e",
   "metadata": {},
   "source": [
    "If an exception is not handled, the program will terminate abruptly, and an error message will be displayed. This can lead to a poor user experience and loss of data."
   ]
  },
  {
   "cell_type": "code",
   "execution_count": 2,
   "id": "152da994-54ef-406c-81f6-2f18e7dcb013",
   "metadata": {},
   "outputs": [
    {
     "ename": "ZeroDivisionError",
     "evalue": "division by zero",
     "output_type": "error",
     "traceback": [
      "\u001b[0;31m---------------------------------------------------------------------------\u001b[0m",
      "\u001b[0;31mZeroDivisionError\u001b[0m                         Traceback (most recent call last)",
      "Cell \u001b[0;32mIn[2], line 5\u001b[0m\n\u001b[1;32m      2\u001b[0m     \u001b[38;5;28;01mreturn\u001b[39;00m a \u001b[38;5;241m/\u001b[39m b  \n\u001b[1;32m      4\u001b[0m \u001b[38;5;66;03m# This will raise a ZeroDivisionError  \u001b[39;00m\n\u001b[0;32m----> 5\u001b[0m result \u001b[38;5;241m=\u001b[39m \u001b[43mdivide\u001b[49m\u001b[43m(\u001b[49m\u001b[38;5;241;43m5\u001b[39;49m\u001b[43m,\u001b[49m\u001b[43m \u001b[49m\u001b[38;5;241;43m0\u001b[39;49m\u001b[43m)\u001b[49m  \n\u001b[1;32m      6\u001b[0m \u001b[38;5;28mprint\u001b[39m(result)  \u001b[38;5;66;03m# The program will terminate here with an error message.\u001b[39;00m\n",
      "Cell \u001b[0;32mIn[2], line 2\u001b[0m, in \u001b[0;36mdivide\u001b[0;34m(a, b)\u001b[0m\n\u001b[1;32m      1\u001b[0m \u001b[38;5;28;01mdef\u001b[39;00m \u001b[38;5;21mdivide\u001b[39m(a, b):  \n\u001b[0;32m----> 2\u001b[0m     \u001b[38;5;28;01mreturn\u001b[39;00m \u001b[43ma\u001b[49m\u001b[43m \u001b[49m\u001b[38;5;241;43m/\u001b[39;49m\u001b[43m \u001b[49m\u001b[43mb\u001b[49m\n",
      "\u001b[0;31mZeroDivisionError\u001b[0m: division by zero"
     ]
    }
   ],
   "source": [
    "def divide(a, b):  \n",
    "    return a / b  \n",
    "\n",
    "# This will raise a ZeroDivisionError  \n",
    "result = divide(5, 0)  \n",
    "print(result)  # The program will terminate here with an error message."
   ]
  },
  {
   "cell_type": "markdown",
   "id": "d3056aea-b6e7-48e0-b6ab-c4494fb783a2",
   "metadata": {},
   "source": [
    "Q3. Which Python statements are used to catch and handle exceptions? Explain with an example."
   ]
  },
  {
   "cell_type": "code",
   "execution_count": 4,
   "id": "a979e90c-dfe2-4ece-a388-601bb6523f3d",
   "metadata": {},
   "outputs": [
    {
     "name": "stdout",
     "output_type": "stream",
     "text": [
      "You cannot divide by zero!\n"
     ]
    }
   ],
   "source": [
    "# The try and except statements are used to catch and handle exceptions in Python.\n",
    "\n",
    "try:  \n",
    "    result = 10 / 0  # This will raise a ZeroDivisionError  \n",
    "except ZeroDivisionError:  \n",
    "    print(\"You cannot divide by zero!\")"
   ]
  },
  {
   "cell_type": "markdown",
   "id": "6ce61d83-15e1-4fad-9038-cfbebdb2de43",
   "metadata": {},
   "source": [
    "Q4. Explain with an example:"
   ]
  },
  {
   "cell_type": "markdown",
   "id": "8cfcc703-de85-4e04-8fc0-25c3c018917d",
   "metadata": {},
   "source": [
    "a. try and else\n",
    "The else block can be used after the except block. It runs if the code in the try block does not raise an exception.\n",
    "\n"
   ]
  },
  {
   "cell_type": "code",
   "execution_count": 5,
   "id": "ebdc0e66-6e22-4bdd-a996-cd5cd02f138d",
   "metadata": {},
   "outputs": [
    {
     "name": "stdout",
     "output_type": "stream",
     "text": [
      "The result is: 5.0\n"
     ]
    }
   ],
   "source": [
    "try:  \n",
    "    result = 10 / 2  \n",
    "except ZeroDivisionError:  \n",
    "    print(\"You cannot divide by zero!\")  \n",
    "else:  \n",
    "    print(\"The result is:\", result)  # This will execute if no exception occurs."
   ]
  },
  {
   "cell_type": "markdown",
   "id": "e3ecbfd1-db3f-4d6a-957a-5d467821f8c3",
   "metadata": {},
   "source": [
    "b. finally\n",
    "The finally block is executed no matter what, whether an exception occurs or not. It is often used for cleanup actions."
   ]
  },
  {
   "cell_type": "code",
   "execution_count": null,
   "id": "696573d4-9aa5-44e7-a57f-46e90aca160d",
   "metadata": {},
   "outputs": [],
   "source": [
    "try:  \n",
    "    file = open('example.txt', 'r')  \n",
    "    content = file.read()  \n",
    "except FileNotFoundError:  \n",
    "    print(\"File not found!\")  \n",
    "finally:  \n",
    "    file.close()  # This will execute regardless of whether an exception occurred."
   ]
  },
  {
   "cell_type": "markdown",
   "id": "51709ebf-053d-4a7d-8327-86dc6e39ca9e",
   "metadata": {},
   "source": [
    "c. raise\n",
    "The raise statement is used to raise an exception manually."
   ]
  },
  {
   "cell_type": "code",
   "execution_count": 7,
   "id": "df21e3e2-93e0-4a8d-8e30-2f514e94e761",
   "metadata": {},
   "outputs": [
    {
     "name": "stdout",
     "output_type": "stream",
     "text": [
      "Age must be at least 18.\n"
     ]
    }
   ],
   "source": [
    "def check_age(age):  \n",
    "    if age < 18:  \n",
    "        raise ValueError(\"Age must be at least 18.\")  \n",
    "    return \"Access granted.\"  \n",
    "\n",
    "try:  \n",
    "    print(check_age(15))  \n",
    "except ValueError as e:  \n",
    "    print(e)  # This will print: Age must be at least 18."
   ]
  },
  {
   "cell_type": "markdown",
   "id": "a41d1f57-de9f-49ea-9e23-c4856efc71ce",
   "metadata": {},
   "source": [
    "Q5. What are Custom Exceptions in Python? Why do we need Custom Exceptions? Explain with an example."
   ]
  },
  {
   "cell_type": "markdown",
   "id": "0846180c-0d4f-42a0-8ba9-8bd2c374f0ec",
   "metadata": {},
   "source": [
    "`Custom Exceptions:` Custom exceptions are user-defined exceptions that allow you to create specific error types for your application. They help in making the code more readable and manageable.\n",
    "\n",
    "Why we need Custom Exceptions:\n",
    "\n",
    "* To handle specific error conditions in a more controlled way.\n",
    "* To provide more meaningful error messages.\n",
    "* To separate different types of errors in your application."
   ]
  },
  {
   "cell_type": "code",
   "execution_count": 8,
   "id": "9be101be-6bdb-40de-aeaf-0f5484892470",
   "metadata": {},
   "outputs": [
    {
     "name": "stdout",
     "output_type": "stream",
     "text": [
      "Age must be at least 18.\n"
     ]
    }
   ],
   "source": [
    "class AgeError(Exception):  \n",
    "    pass  \n",
    "\n",
    "def check_age(age):  \n",
    "    if age < 18:  \n",
    "        raise AgeError(\"Age must be at least 18.\")  \n",
    "\n",
    "try:  \n",
    "    check_age(15)  \n",
    "except AgeError as e:  \n",
    "    print(e)  # This will print: Age must be at least 18."
   ]
  },
  {
   "cell_type": "markdown",
   "id": "5fb2eb44-368c-4bf1-a498-cf0177bf86bd",
   "metadata": {},
   "source": [
    "Q6. Create a custom exception class. Use this class to handle an exception."
   ]
  },
  {
   "cell_type": "code",
   "execution_count": 9,
   "id": "72b15ba1-9ae3-4252-abfe-103612399c59",
   "metadata": {},
   "outputs": [
    {
     "name": "stdout",
     "output_type": "stream",
     "text": [
      "Insufficient funds for this withdrawal.\n"
     ]
    }
   ],
   "source": [
    "class InsufficientFunds(Exception):  \n",
    "    pass  \n",
    "\n",
    "class BankAccount:  \n",
    "    def __init__(self, balance):  \n",
    "        self.balance = balance  \n",
    "\n",
    "    def withdraw(self, amount):  \n",
    "        if amount > self.balance:  \n",
    "            raise InsufficientFunds(\"Insufficient funds for this withdrawal.\")  \n",
    "        self.balance -= amount  \n",
    "        return self.balance  \n",
    "\n",
    "# Example usage  \n",
    "account = BankAccount(100)  \n",
    "\n",
    "try:  \n",
    "    account.withdraw(150)  \n",
    "except InsufficientFunds as e:  \n",
    "    print(e)  # This will print: Insufficient funds for this withdrawal."
   ]
  }
 ],
 "metadata": {
  "kernelspec": {
   "display_name": "Python 3 (ipykernel)",
   "language": "python",
   "name": "python3"
  },
  "language_info": {
   "codemirror_mode": {
    "name": "ipython",
    "version": 3
   },
   "file_extension": ".py",
   "mimetype": "text/x-python",
   "name": "python",
   "nbconvert_exporter": "python",
   "pygments_lexer": "ipython3",
   "version": "3.10.8"
  }
 },
 "nbformat": 4,
 "nbformat_minor": 5
}
