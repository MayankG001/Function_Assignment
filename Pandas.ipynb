{
 "cells": [
  {
   "cell_type": "markdown",
   "id": "c59b7b6d-fee2-4976-a2f0-b544b07161b7",
   "metadata": {},
   "source": [
    "Q1. Create a Pandas Series that contains the following data: 4, 8, 15, 16, 23, and 42. Then, print the series."
   ]
  },
  {
   "cell_type": "code",
   "execution_count": 1,
   "id": "d9b47ec5-637d-44f8-b9bb-a20cc5e166ff",
   "metadata": {},
   "outputs": [
    {
     "name": "stdout",
     "output_type": "stream",
     "text": [
      "Pandas Series:\n",
      "0     4\n",
      "1     8\n",
      "2    15\n",
      "3    16\n",
      "4    23\n",
      "5    42\n",
      "dtype: int64\n"
     ]
    }
   ],
   "source": [
    "import pandas as pd\n",
    "\n",
    "# Creating a Pandas Series\n",
    "data = [4, 8, 15, 16, 23, 42]\n",
    "series = pd.Series(data)\n",
    "print(\"Pandas Series:\")\n",
    "print(series)\n"
   ]
  },
  {
   "cell_type": "markdown",
   "id": "451e48c4-0b72-4dfe-b373-baedc256bd57",
   "metadata": {},
   "source": [
    "Q2. Create a variable of list type containing 10 elements in it, and apply pandas.Series function on the\n",
    "variable print it."
   ]
  },
  {
   "cell_type": "code",
   "execution_count": 2,
   "id": "dc048e8c-46c3-402a-8f14-016e19684f9b",
   "metadata": {},
   "outputs": [
    {
     "name": "stdout",
     "output_type": "stream",
     "text": [
      "\n",
      "Pandas Series from list:\n",
      "0     1\n",
      "1     2\n",
      "2     3\n",
      "3     4\n",
      "4     5\n",
      "5     6\n",
      "6     7\n",
      "7     8\n",
      "8     9\n",
      "9    10\n",
      "dtype: int64\n"
     ]
    }
   ],
   "source": [
    "# Creating a list\n",
    "list_data = [1, 2, 3, 4, 5, 6, 7, 8, 9, 10]\n",
    "\n",
    "# Converting the list to a Pandas Series\n",
    "series_from_list = pd.Series(list_data)\n",
    "print(\"\\nPandas Series from list:\")\n",
    "print(series_from_list)\n"
   ]
  },
  {
   "cell_type": "markdown",
   "id": "90e60702-83d8-4d75-b3ad-8a6a6161fe61",
   "metadata": {},
   "source": [
    "Q3. Create a Pandas DataFrame that contains the following data:\n",
    "    \n",
    "|Name|Age|Gender|\n",
    "|----|---|-----|\n",
    "|Alice|25|Female|\n",
    "|Bob|30|Male|\n",
    "|Claire|27|Female|\n"
   ]
  },
  {
   "cell_type": "code",
   "execution_count": 4,
   "id": "f6822591-5ef6-452a-89a0-02f6985ab155",
   "metadata": {},
   "outputs": [
    {
     "name": "stdout",
     "output_type": "stream",
     "text": [
      "\n",
      "Pandas DataFrame:\n",
      "     Name  Age  Gender\n",
      "0   Alice   25  Female\n",
      "1     Bob   30    Male\n",
      "2  Claire   27  Female\n"
     ]
    }
   ],
   "source": [
    "# Creating a DataFrame\n",
    "data = {\n",
    "    'Name': ['Alice', 'Bob', 'Claire'],\n",
    "    'Age': [25, 30, 27],\n",
    "    'Gender': ['Female', 'Male', 'Female']\n",
    "}\n",
    "\n",
    "df = pd.DataFrame(data)\n",
    "print(\"\\nPandas DataFrame:\")\n",
    "print(df)\n"
   ]
  },
  {
   "cell_type": "markdown",
   "id": "b8dbc249-62a8-445a-82db-6cab14415961",
   "metadata": {},
   "source": [
    "Q4. What is ‘DataFrame’ in pandas and how is it different from pandas.series? Explain with an example."
   ]
  },
  {
   "cell_type": "markdown",
   "id": "a002dccc-1b88-405f-a312-eb4f1de20cd8",
   "metadata": {},
   "source": [
    "A DataFrame in pandas is a two-dimensional, size-mutable, and heterogeneous tabular data structure with labeled axes (rows and columns). It is similar to a table in a database or an Excel spreadsheet.\n",
    "\n",
    "A Series is a one-dimensional array-like object that can hold any data type. It is essentially a single column of a DataFrame."
   ]
  },
  {
   "cell_type": "code",
   "execution_count": 5,
   "id": "677d4670-8a50-491e-a383-7c16271b9919",
   "metadata": {},
   "outputs": [
    {
     "name": "stdout",
     "output_type": "stream",
     "text": [
      "\n",
      "Series example:\n",
      "0    1\n",
      "1    2\n",
      "2    3\n",
      "3    4\n",
      "4    5\n",
      "dtype: int64\n",
      "\n",
      "DataFrame example:\n",
      "   Column1 Column2\n",
      "0        1       A\n",
      "1        2       B\n",
      "2        3       C\n",
      "3        4       D\n",
      "4        5       E\n"
     ]
    }
   ],
   "source": [
    "# Series example\n",
    "series_example = pd.Series([1, 2, 3, 4, 5])\n",
    "print(\"\\nSeries example:\")\n",
    "print(series_example)\n",
    "\n",
    "# DataFrame example\n",
    "df_example = pd.DataFrame({\n",
    "    'Column1': [1, 2, 3, 4, 5],\n",
    "    'Column2': ['A', 'B', 'C', 'D', 'E']\n",
    "})\n",
    "print(\"\\nDataFrame example:\")\n",
    "print(df_example)\n"
   ]
  },
  {
   "cell_type": "markdown",
   "id": "3b29bffb-4f02-4ffe-aa05-78495a571e51",
   "metadata": {},
   "source": [
    "Q5. What are some common functions you can use to manipulate data in a Pandas DataFrame? Can\n",
    "you give an example of when you might use one of these functions?"
   ]
  },
  {
   "cell_type": "code",
   "execution_count": 6,
   "id": "21e87868-a417-4688-b4de-6c0b47397fd4",
   "metadata": {},
   "outputs": [
    {
     "name": "stdout",
     "output_type": "stream",
     "text": [
      "\n",
      "Grouped Data:\n",
      "Gender\n",
      "Female    25.666667\n",
      "Male      30.000000\n",
      "Name: Age, dtype: float64\n"
     ]
    }
   ],
   "source": [
    "# Sample DataFrame\n",
    "data = {\n",
    "    'Name': ['Alice', 'Bob', 'Claire', 'Alice'],\n",
    "    'Age': [25, 30, 27, 25],\n",
    "    'Gender': ['Female', 'Male', 'Female', 'Female']\n",
    "}\n",
    "df = pd.DataFrame(data)\n",
    "\n",
    "# Using groupby() and mean() to find average age by gender\n",
    "grouped_data = df.groupby('Gender')['Age'].mean()\n",
    "print(\"\\nGrouped Data:\")\n",
    "print(grouped_data)\n"
   ]
  },
  {
   "cell_type": "markdown",
   "id": "480b0377-2a63-48a4-a7ca-fd06f2d26f8b",
   "metadata": {},
   "source": [
    "Q6. Which of the following is mutable in nature Series, DataFrame, Panel?"
   ]
  },
  {
   "cell_type": "markdown",
   "id": "c54d9845-9b27-4eee-b5c2-fcb151f3e5fc",
   "metadata": {},
   "source": [
    "* Series: Mutable\n",
    "* DataFrame: Mutable\n",
    "* Panel: Deprecated in pandas, so it is no longer used."
   ]
  },
  {
   "cell_type": "markdown",
   "id": "ebebcb2f-8808-4953-9922-c1ccde6962be",
   "metadata": {},
   "source": [
    "Q7. Create a DataFrame using multiple Series. Explain with an example."
   ]
  },
  {
   "cell_type": "code",
   "execution_count": 7,
   "id": "c391d6d9-2af0-428d-b4e9-0ef1ac93cf05",
   "metadata": {},
   "outputs": [
    {
     "name": "stdout",
     "output_type": "stream",
     "text": [
      "\n",
      "DataFrame from multiple Series:\n",
      "     Name  Age  Gender\n",
      "0   Alice   25  Female\n",
      "1     Bob   30    Male\n",
      "2  Claire   27  Female\n"
     ]
    }
   ],
   "source": [
    "# Creating multiple Series\n",
    "names = pd.Series(['Alice', 'Bob', 'Claire'])\n",
    "ages = pd.Series([25, 30, 27])\n",
    "genders = pd.Series(['Female', 'Male', 'Female'])\n",
    "\n",
    "# Creating a DataFrame using the Series\n",
    "df_from_series = pd.DataFrame({\n",
    "    'Name': names,\n",
    "    'Age': ages,\n",
    "    'Gender': genders\n",
    "})\n",
    "\n",
    "print(\"\\nDataFrame from multiple Series:\")\n",
    "print(df_from_series)\n"
   ]
  }
 ],
 "metadata": {
  "kernelspec": {
   "display_name": "Python 3 (ipykernel)",
   "language": "python",
   "name": "python3"
  },
  "language_info": {
   "codemirror_mode": {
    "name": "ipython",
    "version": 3
   },
   "file_extension": ".py",
   "mimetype": "text/x-python",
   "name": "python",
   "nbconvert_exporter": "python",
   "pygments_lexer": "ipython3",
   "version": "3.10.8"
  }
 },
 "nbformat": 4,
 "nbformat_minor": 5
}
