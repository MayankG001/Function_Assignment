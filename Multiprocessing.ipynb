{
 "cells": [
  {
   "cell_type": "markdown",
   "id": "46d066d8-2547-4e3b-81f1-a82e59d9f9e5",
   "metadata": {},
   "source": [
    "Q1. What is multiprocessing in Python? Why is it useful?"
   ]
  },
  {
   "cell_type": "markdown",
   "id": "ff5de28d-30c7-44d0-8f37-4405b1672eae",
   "metadata": {},
   "source": [
    "`Multiprocessing:` Multiprocessing is a programming technique that allows the execution of multiple processes simultaneously. Each process runs in its own memory space and can execute independently.\n",
    "\n",
    "`Why is it useful?:`\n",
    "\n",
    "* Parallelism: It allows for true parallel execution, making it suitable for CPU-bound tasks.\n",
    "* Isolation: Each process has its own memory space, which helps avoid issues related to shared memory and data corruption.\n",
    "* Improved Performance: It can significantly improve performance for tasks that require heavy computation."
   ]
  },
  {
   "cell_type": "markdown",
   "id": "2c797ac4-b6b6-48b1-bd9f-578e62a02322",
   "metadata": {},
   "source": [
    "Q2. What are the differences between multiprocessing and multithreading?"
   ]
  },
  {
   "cell_type": "markdown",
   "id": "0c33a7fb-a7da-4dde-a964-4e7268ec2112",
   "metadata": {},
   "source": [
    "| Feature |\tMultiprocessing |\tMultithreading |\n",
    "|---------|-----------------|------------------| \n",
    "| Execution |\tMultiple processes run in parallel |\tMultiple threads run in the same process |\n",
    "| Memory |\tEach process has its own memory space |\tThreads share the same memory space |\n",
    "| Performance |\tBetter for CPU-bound tasks |\tBetter for I/O-bound tasks |\n",
    "| Complexity |\tMore complex to manage inter-process communication |\tEasier to share data between threads |\n",
    "| Overhead |\tHigher overhead due to process creation\tLower overhead | due to thread creation |"
   ]
  },
  {
   "cell_type": "markdown",
   "id": "17e3417c-2981-4c0f-b05d-4c52e3263b74",
   "metadata": {},
   "source": [
    "Q3. Write a Python code to create a process using the multiprocessing module."
   ]
  },
  {
   "cell_type": "code",
   "execution_count": 3,
   "id": "d484b216-5655-4b4d-be00-0527830d65e4",
   "metadata": {},
   "outputs": [
    {
     "name": "stdout",
     "output_type": "stream",
     "text": [
      "Worker process is running.\n"
     ]
    }
   ],
   "source": [
    "import multiprocessing  \n",
    "\n",
    "def worker():  \n",
    "    print(\"Worker process is running.\")  \n",
    "\n",
    "if __name__ == \"__main__\":  \n",
    "    process = multiprocessing.Process(target=worker)  \n",
    "    process.start()  \n",
    "    process.join()"
   ]
  },
  {
   "cell_type": "markdown",
   "id": "833fa7ea-8b51-4aed-82d3-d252db33bb38",
   "metadata": {},
   "source": [
    "Q4. What is a multiprocessing pool in Python? Why is it used?"
   ]
  },
  {
   "cell_type": "markdown",
   "id": "5de91d04-6483-4729-aea3-cb07bcc609e8",
   "metadata": {},
   "source": [
    "`Multiprocessing Pool:` A multiprocessing pool is a way to manage multiple worker processes. It allows you to create a pool of processes that can execute tasks concurrently.\n",
    "\n",
    "`Why is it used?:`\n",
    "\n",
    "* Efficiency: It simplifies the management of multiple processes and allows for efficient task distribution.\n",
    "* Load Balancing: It automatically distributes tasks among available processes, balancing the load.\n",
    "* Resource Management: It helps manage system resources effectively by limiting the number of concurrent processes."
   ]
  },
  {
   "cell_type": "markdown",
   "id": "4a66e1e8-608f-49a8-a208-159c21b876bf",
   "metadata": {},
   "source": [
    "Q5. How can we create a pool of worker processes in Python using the multiprocessing module?"
   ]
  },
  {
   "cell_type": "code",
   "execution_count": 4,
   "id": "c1ef8b52-b1de-4047-89de-cd43ac8cd484",
   "metadata": {},
   "outputs": [
    {
     "name": "stdout",
     "output_type": "stream",
     "text": [
      "Worker 0 is done.\n",
      "Worker 1 is done.\n",
      "Worker 2 is done.\n",
      "Worker 3 is done.\n"
     ]
    }
   ],
   "source": [
    "import multiprocessing  \n",
    "\n",
    "def worker(num):  \n",
    "    return f\"Worker {num} is done.\"  \n",
    "\n",
    "if __name__ == \"__main__\":  \n",
    "    with multiprocessing.Pool(processes=4) as pool:  \n",
    "        results = pool.map(worker, range(4))  \n",
    "    for result in results:  \n",
    "        print(result)"
   ]
  },
  {
   "cell_type": "markdown",
   "id": "94e6a3c1-8235-4888-bfdc-8f5362ed76e4",
   "metadata": {},
   "source": [
    "Q6. Write a program to create 4 processes, each process should print a different number using the multiprocessing module in Python."
   ]
  },
  {
   "cell_type": "code",
   "execution_count": 5,
   "id": "c0d4b4cc-5f91-49fa-b0db-e322bff9d371",
   "metadata": {},
   "outputs": [
    {
     "name": "stdout",
     "output_type": "stream",
     "text": [
      "Process 0 is running.\n",
      "Process 1 is running.\n",
      "Process 2 is running.\n",
      "Process 3 is running.\n"
     ]
    }
   ],
   "source": [
    "import multiprocessing  \n",
    "\n",
    "def print_number(num):  \n",
    "    print(f\"Process {num} is running.\")  \n",
    "\n",
    "if __name__ == \"__main__\":  \n",
    "    processes = []  \n",
    "    for i in range(4):  \n",
    "        process = multiprocessing.Process(target=print_number, args=(i,))  \n",
    "        processes.append(process)  \n",
    "        process.start()  \n",
    "\n",
    "    for process in processes:  \n",
    "        process.join()"
   ]
  }
 ],
 "metadata": {
  "kernelspec": {
   "display_name": "Python 3 (ipykernel)",
   "language": "python",
   "name": "python3"
  },
  "language_info": {
   "codemirror_mode": {
    "name": "ipython",
    "version": 3
   },
   "file_extension": ".py",
   "mimetype": "text/x-python",
   "name": "python",
   "nbconvert_exporter": "python",
   "pygments_lexer": "ipython3",
   "version": "3.10.8"
  }
 },
 "nbformat": 4,
 "nbformat_minor": 5
}
