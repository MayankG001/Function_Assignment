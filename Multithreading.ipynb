{
 "cells": [
  {
   "cell_type": "markdown",
   "id": "2b0d111c-3adf-44aa-a8da-b31f3979f287",
   "metadata": {},
   "source": [
    "Q1. What is multithreading in Python? Why is it used? Name the module used to handle threads in Python."
   ]
  },
  {
   "cell_type": "markdown",
   "id": "773515f3-3fee-43ab-a3eb-7ca7be7a8e91",
   "metadata": {},
   "source": [
    "`Multithreading:` Multithreading is a programming technique that allows multiple threads to run concurrently within a single process. Each thread can perform tasks independently, which can lead to more efficient use of resources and improved performance, especially in I/O-bound applications.\n",
    "\n",
    "`Why is it used?:`\n",
    "\n",
    "* Concurrency: It allows multiple operations to run simultaneously, improving the responsiveness of applications.\n",
    "Resource Sharing: Threads share the same memory space, making it easier to share data between them.\n",
    "* Efficiency: It can lead to better CPU utilization, especially in I/O-bound tasks.\n",
    "\n",
    "`Module used:` The threading module is used to handle threads in Python."
   ]
  },
  {
   "cell_type": "markdown",
   "id": "46d8ef45-9e58-43b0-9658-6ec51f197043",
   "metadata": {},
   "source": [
    "Q2. Write the use of the following functions:\n"
   ]
  },
  {
   "cell_type": "markdown",
   "id": "d2add75c-5acd-4989-8392-b4c220d23f79",
   "metadata": {},
   "source": [
    "* activeCount()\n",
    "\n",
    "* currentThread()\n",
    "\n",
    "* enumerate()\n",
    "\n",
    "`activeCount():` Returns the number of Thread objects currently alive. This can be useful for monitoring the number of active threads in your application.\n",
    "\n",
    "`currentThread():` Returns the current Thread object, which represents the thread that is currently executing. This can be useful for debugging or logging purposes.\n",
    "\n",
    "`enumerate():` Returns a list of all Thread objects currently alive. This can be useful for tracking all active threads in your application."
   ]
  },
  {
   "cell_type": "markdown",
   "id": "04413542-50c5-4426-b279-831d730cedc5",
   "metadata": {},
   "source": [
    "Q3. Explain the following functions:\n",
    "run()\n",
    "\n",
    "* start()\n",
    "\n",
    "* join()\n",
    "\n",
    "* isAlive()"
   ]
  },
  {
   "cell_type": "markdown",
   "id": "3c216eda-8114-476c-b041-16f0d6a4be7d",
   "metadata": {},
   "source": [
    "`run():`This method is overridden in a subclass of Thread. It contains the code that will be executed when the thread is started. If you do not override this method, the thread will not perform any action.\n",
    "\n",
    "`start():` This method is called to start a thread. It invokes the run() method in a separate thread of control. Once start() is called, the thread is in the \"runnable\" state.\n",
    "\n",
    "`join():` This method is used to wait for a thread to complete its execution. When join() is called on a thread, the calling thread will be blocked until the thread whose join() method is called terminates.\n",
    "\n",
    "`isAlive():` This method returns True if the thread is still running and False if it has finished execution. It can be used to check the status of a thread."
   ]
  },
  {
   "cell_type": "markdown",
   "id": "6446fb98-ad6e-4998-ab58-861d8395c6ea",
   "metadata": {},
   "source": [
    "Q4. Write a Python program to create two threads. Thread one must print the list of squares and thread two must print the list of cubes.\n"
   ]
  },
  {
   "cell_type": "code",
   "execution_count": 1,
   "id": "cad8d8b9-d44d-4305-b43b-28496d77117f",
   "metadata": {},
   "outputs": [
    {
     "name": "stdout",
     "output_type": "stream",
     "text": [
      "Square of 1: 1\n",
      "Square of 2: 4\n",
      "Square of 3: 9\n",
      "Square of 4: 16\n",
      "Square of 5: 25\n",
      "Cube of 1: 1\n",
      "Cube of 2: 8\n",
      "Cube of 3: 27\n",
      "Cube of 4: 64\n",
      "Cube of 5: 125\n",
      "Both threads have finished execution.\n"
     ]
    }
   ],
   "source": [
    "import threading  \n",
    "\n",
    "def print_squares():  \n",
    "    for i in range(1, 6):  \n",
    "        print(f\"Square of {i}: {i**2}\")  \n",
    "\n",
    "def print_cubes():  \n",
    "    for i in range(1, 6):  \n",
    "        print(f\"Cube of {i}: {i**3}\")  \n",
    "\n",
    "# Creating threads  \n",
    "thread1 = threading.Thread(target=print_squares)  \n",
    "thread2 = threading.Thread(target=print_cubes)  \n",
    "\n",
    "# Starting threads  \n",
    "thread1.start()  \n",
    "thread2.start()  \n",
    "\n",
    "# Waiting for both threads to complete  \n",
    "thread1.join()  \n",
    "thread2.join()  \n",
    "\n",
    "print(\"Both threads have finished execution.\")"
   ]
  },
  {
   "cell_type": "markdown",
   "id": "d5fe1d7a-c6bd-4188-931a-b229bb262fe5",
   "metadata": {},
   "source": [
    "Q5. State advantages and disadvantages of multithreading."
   ]
  },
  {
   "cell_type": "markdown",
   "id": "7ae99408-2b5a-4b62-a0da-47dfe42c6864",
   "metadata": {},
   "source": [
    "`Advantages:`\n",
    "\n",
    "* Improved Performance: Multithreading can lead to better performance, especially in I/O-bound applications.\n",
    "* Responsiveness: Applications can remain responsive while performing background tasks.\n",
    "* Resource Sharing: Threads share the same memory space, making data sharing easier.\n",
    "\n",
    "`Disadvantages:`\n",
    "\n",
    "* Complexity: Writing multithreaded programs can be more complex and harder to debug.\n",
    "* Race Conditions: Multiple threads accessing shared data can lead to inconsistent results if not managed properly.\n",
    "* Overhead: Creating and managing threads can introduce overhead, which may negate performance benefits in CPU-bound tasks."
   ]
  },
  {
   "cell_type": "markdown",
   "id": "51ac9502-1ff0-405a-8e9d-20842b1c7822",
   "metadata": {},
   "source": [
    "Q6. Explain deadlocks and race conditions."
   ]
  },
  {
   "cell_type": "markdown",
   "id": "57781c48-7a1c-44b3-960f-ee0893a3a62b",
   "metadata": {},
   "source": [
    "* Deadlocks: A deadlock occurs when two or more threads are blocked forever, each waiting for the other to release a resource. This situation can arise when threads hold resources and wait for others, leading to a standstill.\n",
    "\n",
    "* Race Conditions: A race condition occurs when two or more threads access shared data and try to change it at the same time. If the threads are not synchronized properly, it can lead to inconsistent or incorrect results.\n",
    "\n"
   ]
  }
 ],
 "metadata": {
  "kernelspec": {
   "display_name": "Python 3 (ipykernel)",
   "language": "python",
   "name": "python3"
  },
  "language_info": {
   "codemirror_mode": {
    "name": "ipython",
    "version": 3
   },
   "file_extension": ".py",
   "mimetype": "text/x-python",
   "name": "python",
   "nbconvert_exporter": "python",
   "pygments_lexer": "ipython3",
   "version": "3.10.8"
  }
 },
 "nbformat": 4,
 "nbformat_minor": 5
}
