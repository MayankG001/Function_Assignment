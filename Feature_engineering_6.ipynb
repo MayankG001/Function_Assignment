{
 "cells": [
  {
   "cell_type": "markdown",
   "id": "84e4ed89-ec6e-47ad-a4af-304fbcf92d1b",
   "metadata": {},
   "source": [
    "**Q1. Pearson correlation coefficient is a measure of the linear relationship between two variables. Suppose\n",
    "you have collected data on the amount of time students spend studying for an exam and their final exam\n",
    "scores. Calculate the Pearson correlation coefficient between these two variables and interpret the result.**"
   ]
  },
  {
   "cell_type": "markdown",
   "id": "a01435b1-f303-4c44-a3d6-88f757330c68",
   "metadata": {},
   "source": [
    "To calculate the Pearson correlation coefficient, we need two sets of data. Let's assume we have the following data for time spent studying and final exam scores:"
   ]
  },
  {
   "cell_type": "markdown",
   "id": "3bced21d-9398-4371-9f07-6c82d7c74b2e",
   "metadata": {},
   "source": [
    "|Study Time (hours)| Final Exam Score|\n",
    "|-|--|\n",
    "|2|\t70|\n",
    "|3|\t75|\n",
    "|4|\t80|\n",
    "|5|\t85|\n",
    "|6|\t90|"
   ]
  },
  {
   "cell_type": "code",
   "execution_count": 1,
   "id": "3abb3efe-16ff-476e-b739-9bdd929a3ba3",
   "metadata": {},
   "outputs": [
    {
     "name": "stdout",
     "output_type": "stream",
     "text": [
      "Pearson Correlation Coefficient: 1.0\n"
     ]
    }
   ],
   "source": [
    "import numpy as np  \n",
    "import pandas as pd  \n",
    "\n",
    "# Sample data  \n",
    "data = {  \n",
    "    'Study Time': [2, 3, 4, 5, 6],  \n",
    "    'Final Exam Score': [70, 75, 80, 85, 90]  \n",
    "}  \n",
    "\n",
    "df = pd.DataFrame(data)  \n",
    "\n",
    "# Calculate Pearson correlation coefficient  \n",
    "pearson_corr = df.corr().iloc[0, 1]  \n",
    "print(\"Pearson Correlation Coefficient:\", pearson_corr)"
   ]
  },
  {
   "cell_type": "markdown",
   "id": "18417b6f-0ecd-40c6-b0c4-22aea294f0b3",
   "metadata": {},
   "source": [
    "**Q2. Spearman's rank correlation is a measure of the monotonic relationship between two variables.\n",
    "Suppose you have collected data on the amount of sleep individuals get each night and their overall job\n",
    "satisfaction level on a scale of 1 to 10. Calculate the Spearman's rank correlation between these two\n",
    "variables and interpret the result.**"
   ]
  },
  {
   "cell_type": "code",
   "execution_count": 2,
   "id": "4a0160b6-65c9-476d-bae2-b08f02ffbd1d",
   "metadata": {},
   "outputs": [
    {
     "name": "stdout",
     "output_type": "stream",
     "text": [
      "Spearman's Rank Correlation Coefficient: 1.0\n"
     ]
    }
   ],
   "source": [
    "# For Spearman's rank correlation, we will use the same data. The calculation can be done as follows:\n",
    "# Calculate Spearman's rank correlation coefficient  \n",
    "spearman_corr = df.corr(method='spearman').iloc[0, 1]  \n",
    "print(\"Spearman's Rank Correlation Coefficient:\", spearman_corr)\n"
   ]
  },
  {
   "cell_type": "markdown",
   "id": "5facb1e5-2d6a-441e-a399-0b7c1d84d698",
   "metadata": {},
   "source": [
    "**Q3. Suppose you are conducting a study to examine the relationship between the number of hours of\n",
    "exercise per week and body mass index (BMI) in a sample of adults. You collected data on both variables\n",
    "for 50 participants. Calculate the Pearson correlation coefficient and the Spearman's rank correlation\n",
    "between these two variables and compare the results.**"
   ]
  },
  {
   "cell_type": "markdown",
   "id": "455db1b7-2069-4d7f-8e2e-48814d64bbb2",
   "metadata": {},
   "source": [
    "**Assuming we have the following data for hours of sleep and BMI:**\n",
    "\n",
    "|Hours of Sleep| BMI|\n",
    "|---|--|\n",
    "|6|\t22|\n",
    "|7|\t24|\n",
    "|5|\t26|\n",
    "|8|\t21|\n",
    "|4|\t28|"
   ]
  },
  {
   "cell_type": "code",
   "execution_count": 3,
   "id": "c5662f7c-e935-4ec9-8632-78da874da41e",
   "metadata": {},
   "outputs": [
    {
     "name": "stdout",
     "output_type": "stream",
     "text": [
      "Pearson Correlation Coefficient: -0.8834522085987723\n"
     ]
    }
   ],
   "source": [
    "# Sample data  \n",
    "data = {  \n",
    "    'Hours of Sleep': [6, 7, 5, 8, 4],  \n",
    "    'BMI': [22, 24, 26, 21, 28]  \n",
    "}  \n",
    "\n",
    "df = pd.DataFrame(data)  \n",
    "\n",
    "# Calculate Pearson correlation coefficient  \n",
    "pearson_corr = df.corr().iloc[0, 1]  \n",
    "print(\"Pearson Correlation Coefficient:\", pearson_corr)"
   ]
  },
  {
   "cell_type": "markdown",
   "id": "9d190f7c-f2d8-4c77-9067-62e46e7dc4cb",
   "metadata": {},
   "source": [
    "**Q5. A survey was conducted to examine the relationship between age and preference for a particular\n",
    "brand of soft drink. The survey results are shown below:**"
   ]
  },
  {
   "cell_type": "markdown",
   "id": "b0b57d79-0a74-4178-a158-1beab0c5d2ee",
   "metadata": {},
   "source": [
    "Assuming we have the following data:\n",
    "\n",
    "|Age (Years)|\tSoft Drink Preference|\n",
    "|-|-|\n",
    "|25|\tCoke|\n",
    "|30|\tSprite|\n",
    "|27|\tMountain Dew|\n",
    "|22|\tPepsi|\n",
    "|35|\tCoke|"
   ]
  },
  {
   "cell_type": "code",
   "execution_count": 4,
   "id": "794df994-2e94-4273-8405-fe45f76ec514",
   "metadata": {},
   "outputs": [
    {
     "name": "stdout",
     "output_type": "stream",
     "text": [
      "Pearson Correlation Coefficient: -0.22376649789966654\n"
     ]
    }
   ],
   "source": [
    "from sklearn.preprocessing import LabelEncoder  \n",
    "\n",
    "# Sample data  \n",
    "data = {  \n",
    "    'Age': [25, 30, 27, 22, 35],  \n",
    "    'Soft Drink Preference': ['Coke', 'Sprite', 'Mountain Dew', 'Pepsi', 'Coke']  \n",
    "}  \n",
    "\n",
    "df = pd.DataFrame(data)  \n",
    "\n",
    "# Encode Soft Drink Preference  \n",
    "label_encoder = LabelEncoder()  \n",
    "df['Soft Drink Preference'] = label_encoder.fit_transform(df['Soft Drink Preference'])  \n",
    "\n",
    "# Calculate Pearson correlation coefficient  \n",
    "pearson_corr = df.corr().iloc[0, 1]  \n",
    "print(\"Pearson Correlation Coefficient:\", pearson_corr)"
   ]
  },
  {
   "cell_type": "markdown",
   "id": "95b38986-f000-4181-9229-54bf29e67f36",
   "metadata": {},
   "source": [
    "**Q6. A company is interested in examining the relationship between the number of sales calls made per day\n",
    "and the number of sales made per week. The company collected data on both variables from a sample of\n",
    "30 sales representatives. Calculate the Pearson correlation coefficient between these two variables.**"
   ]
  },
  {
   "cell_type": "markdown",
   "id": "9a654e5f-1437-42d2-a0b7-cbddcd64c5cc",
   "metadata": {},
   "source": [
    "Assuming we have the following data for sales made by two different variables:\n",
    "\n",
    "|Sales A|\tSales B|\n",
    "|-|-|\n",
    "|100|\t150|\n",
    "|200|\t250|\n",
    "|300|\t350|\n",
    "|400|\t450|\n",
    "|500|\t600|"
   ]
  },
  {
   "cell_type": "code",
   "execution_count": 5,
   "id": "643f47cf-c709-4376-9b58-617154be1f7c",
   "metadata": {},
   "outputs": [
    {
     "name": "stdout",
     "output_type": "stream",
     "text": [
      "Pearson Correlation Coefficient: 0.9958932064677037\n",
      "Pearson Correlation Coefficient: 0.9958932064677037\n"
     ]
    }
   ],
   "source": [
    "# Sample data  \n",
    "data = {  \n",
    "    'Sales A': [100, 200, 300, 400, 500],  \n",
    "    'Sales B': [150, 250, 350, 450, 600]  \n",
    "}  \n",
    "\n",
    "df = pd.DataFrame(data)  \n",
    "\n",
    "# Calculate Pearson correlation coefficient  \n",
    "pearson_corr = df.corr().iloc[0, 1]  \n",
    "print(\"Pearson Correlation Coefficient:\", pearson_corr)# Sample data  \n",
    "data = {  \n",
    "    'Sales A': [100, 200, 300, 400, 500],  \n",
    "    'Sales B': [150, 250, 350, 450, 600]  \n",
    "}  \n",
    "\n",
    "df = pd.DataFrame(data)  \n",
    "\n",
    "# Calculate Pearson correlation coefficient  \n",
    "pearson_corr = df.corr().iloc[0, 1]  \n",
    "print(\"Pearson Correlation Coefficient:\", pearson_corr)"
   ]
  }
 ],
 "metadata": {
  "kernelspec": {
   "display_name": "Python 3 (ipykernel)",
   "language": "python",
   "name": "python3"
  },
  "language_info": {
   "codemirror_mode": {
    "name": "ipython",
    "version": 3
   },
   "file_extension": ".py",
   "mimetype": "text/x-python",
   "name": "python",
   "nbconvert_exporter": "python",
   "pygments_lexer": "ipython3",
   "version": "3.10.8"
  }
 },
 "nbformat": 4,
 "nbformat_minor": 5
}
