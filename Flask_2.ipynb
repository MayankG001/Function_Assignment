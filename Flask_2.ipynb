{
 "cells": [
  {
   "cell_type": "markdown",
   "id": "5f78097b-b2c8-44a2-a923-390832dc5c62",
   "metadata": {},
   "source": [
    "Q1. Explain GET and POST methods."
   ]
  },
  {
   "cell_type": "markdown",
   "id": "71838c02-0581-4e48-ad23-359339bea419",
   "metadata": {},
   "source": [
    "`GET Method:`\n",
    "\n",
    "* The GET method is used to request data from a specified resource.\n",
    "* It appends data to the URL as query parameters, making it visible in the URL.\n",
    "* It is idempotent, meaning multiple identical requests should have the same effect as a single request.\n",
    "* Commonly used for retrieving data without causing any side effects.\n",
    "\n",
    "`POST Method:`\n",
    "\n",
    "* The POST method is used to send data to a server to create or update a resource.\n",
    "* It sends data in the body of the request, making it more secure for sensitive information.\n",
    "* It is not idempotent, meaning multiple identical requests can result in different outcomes.\n",
    "* Commonly used for submitting forms or uploading files."
   ]
  },
  {
   "cell_type": "markdown",
   "id": "a86e1b4b-42d9-48a4-9227-b560e43fc9ed",
   "metadata": {},
   "source": [
    "Q2. Why is request used in Flask?"
   ]
  },
  {
   "cell_type": "markdown",
   "id": "acfbac4c-a009-4ca6-abae-1463fbbb0b1c",
   "metadata": {},
   "source": [
    "The request object in Flask is used to access data sent with the HTTP request. It provides methods and attributes to retrieve data from the request, such as:\n",
    "\n",
    "* request.args: Access query parameters from the URL (GET requests).\n",
    "* request.form: Access form data submitted with POST requests.\n",
    "* request.json: Access JSON data sent in the request body.\n",
    "* request.method: Get the HTTP method used for the request (GET, POST, etc.)."
   ]
  },
  {
   "cell_type": "markdown",
   "id": "e196d778-e90e-4530-925d-37831214db8c",
   "metadata": {},
   "source": [
    "Q3. Why is redirect() used in Flask?"
   ]
  },
  {
   "cell_type": "markdown",
   "id": "d60b749a-8f45-4214-a3d5-5d7d2bff4337",
   "metadata": {},
   "source": [
    "The redirect() function in Flask is used to redirect the user to a different endpoint or URL. It is commonly used when:\n",
    "\n",
    "* You want to send users to a different page after a form submission.\n",
    "* You need to redirect users based on certain conditions (e.g., authentication).\n",
    "* It helps in managing the flow of the application by guiding users to the appropriate resources."
   ]
  },
  {
   "cell_type": "markdown",
   "id": "0e862f56-d8d7-4480-b315-109c41a2eddb",
   "metadata": {},
   "source": [
    "Q4. What are templates in Flask? Why is the render_template() function used?"
   ]
  },
  {
   "cell_type": "markdown",
   "id": "f07b548a-2fd5-44ec-b98e-fad4cf18aa09",
   "metadata": {},
   "source": [
    "`Templates in Flask:`\n",
    "\n",
    "* Templates are HTML files that allow you to separate the presentation layer from the application logic.\n",
    "* They enable dynamic content generation by embedding Python code within HTML using Jinja2 templating engine.\n",
    "\n",
    "`Why is render_template() used?:`\n",
    "\n",
    "* The render_template() function is used to render a template and return it as a response.\n",
    "* It allows you to pass data from your Flask application to the template, enabling dynamic content generation.\n",
    "* It simplifies the process of creating HTML responses by combining Python logic with HTML structure."
   ]
  },
  {
   "cell_type": "markdown",
   "id": "958e1380-b991-4791-b3b5-53161cb561c9",
   "metadata": {},
   "source": [
    "Q5. Create a simple API. Use Postman to test it. Attach the screenshot of the output in the Jupyter Notebook."
   ]
  },
  {
   "cell_type": "code",
   "execution_count": null,
   "id": "f827eb38-90eb-40be-8d2a-201f20528944",
   "metadata": {},
   "outputs": [],
   "source": [
    "from flask import Flask, jsonify, request  \n",
    "\n",
    "app = Flask(__name__)  \n",
    "\n",
    "# Sample data  \n",
    "data = {  \n",
    "    \"1\": {\"name\": \"Alice\", \"age\": 30},  \n",
    "    \"2\": {\"name\": \"Bob\", \"age\": 25}  \n",
    "}  \n",
    "\n",
    "@app.route('/api/users', methods=['GET'])  \n",
    "def get_users():  \n",
    "    return jsonify(data)  \n",
    "\n",
    "@app.route('/api/users/<user_id>', methods=['GET'])  \n",
    "def get_user(user_id):  \n",
    "    user = data.get(user_id)  \n",
    "    if user:  \n",
    "        return jsonify(user)  \n",
    "    return jsonify({\"error\": \"User not found\"}), 404  \n",
    "\n",
    "@app.route('/api/users', methods=['POST'])  \n",
    "def add_user():  \n",
    "    new_user = request.json  \n",
    "    user_id = str(len(data) + 1)  \n",
    "    data[user_id] = new_user  \n",
    "    return jsonify({\"id\": user_id, **new_user}), 201  \n",
    "\n",
    "if __name__ == '__main__':  \n",
    "    app.run(debug=True)"
   ]
  }
 ],
 "metadata": {
  "kernelspec": {
   "display_name": "Python 3 (ipykernel)",
   "language": "python",
   "name": "python3"
  },
  "language_info": {
   "codemirror_mode": {
    "name": "ipython",
    "version": 3
   },
   "file_extension": ".py",
   "mimetype": "text/x-python",
   "name": "python",
   "nbconvert_exporter": "python",
   "pygments_lexer": "ipython3",
   "version": "3.10.8"
  }
 },
 "nbformat": 4,
 "nbformat_minor": 5
}
