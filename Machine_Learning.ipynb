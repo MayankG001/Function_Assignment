{
 "cells": [
  {
   "cell_type": "markdown",
   "id": "64b2ff0c-94fa-47ea-9d15-adbc5e2da8bb",
   "metadata": {},
   "source": [
    "Q1. Explain the following with an example:\n",
    "1. Artificial intelligence\n",
    "2. Machine learning\n",
    "3. Deep learning"
   ]
  },
  {
   "cell_type": "markdown",
   "id": "cd44238a-ef9a-4578-9aad-f543a99a0dd1",
   "metadata": {},
   "source": [
    "1. Artificial Intelligence (AI):\n",
    "\n",
    "`Definition:` AI is the simulation of human intelligence processes by machines, especially computer systems.\n",
    "\n",
    "Example: Chatbots like Siri or Alexa that can understand and respond to human language.\n",
    "\n",
    "2. Machine Learning (ML):\n",
    "\n",
    "`Definition:` ML is a subset of AI that involves the use of algorithms and statistical models to enable a system to improve its performance on a task through experience.\n",
    "\n",
    "Example: Email spam filters that learn to identify and categorize emails as spam or not based on user input and data.\n",
    "\n",
    "3. Deep Learning (DL):\n",
    "\n",
    "`Definition:` DL is a subset of ML that uses neural networks with many layers (deep networks) to analyze various factors of data.\n",
    "\n",
    "Example: Image recognition systems that can identify objects and faces within pictures."
   ]
  },
  {
   "cell_type": "markdown",
   "id": "7dd12709-9093-4a21-b8da-3b5380de408b",
   "metadata": {},
   "source": [
    "Q2: What is supervised learning? List some examples of supervised learning."
   ]
  },
  {
   "cell_type": "markdown",
   "id": "4225dd4e-76e6-46b8-97ad-455f27639a07",
   "metadata": {},
   "source": [
    "Supervised learning is a type of machine learning where the model is trained on labeled data. The algorithm learns from the input-output pairs to make predictions.\n",
    "\n",
    "`Examples:`\n",
    "\n",
    "* Linear regression for predicting house prices.\n",
    "* Decision trees for classifying types of plants.\n",
    "* Support Vector Machines (SVM) for handwriting recognition.\n",
    "* Neural networks for speech recognition."
   ]
  },
  {
   "cell_type": "markdown",
   "id": "ef8e5193-a1e9-4f28-a69f-b16ca4e38434",
   "metadata": {},
   "source": [
    "Q3: What is unsupervised learning? List some examples of unsupervised learning."
   ]
  },
  {
   "cell_type": "markdown",
   "id": "b854ea51-0e4e-4737-bdc1-1405de30628e",
   "metadata": {},
   "source": [
    "Unsupervised learning is a type of machine learning where the model is trained on unlabeled data. The algorithm tries to learn the patterns and structure from the data without any specific output labels.\n",
    "\n",
    "`Examples:`\n",
    "\n",
    "* K-means clustering for customer segmentation.\n",
    "* Principal Component Analysis (PCA) for dimensionality reduction.\n",
    "* Anomaly detection in network security.\n",
    "* Association rule learning for market basket analysis."
   ]
  },
  {
   "cell_type": "markdown",
   "id": "b1a3a7fc-b853-453a-879a-88818d761497",
   "metadata": {},
   "source": [
    "Q4: What is the difference between AI, ML, DL, and DS?"
   ]
  },
  {
   "cell_type": "markdown",
   "id": "2704418b-d646-43f7-b871-5273e020f691",
   "metadata": {},
   "source": [
    "* AI (Artificial Intelligence): The broad field of creating intelligent machines that can perform tasks that typically require human intelligence.\n",
    "\n",
    "* ML (Machine Learning): A subset of AI focused on algorithms and statistical models that enable machines to learn from data.\n",
    "\n",
    "* DL (Deep Learning): A subset of ML that uses neural networks with many layers to learn from data.\n",
    "\n",
    "* DS (Data Science): An interdisciplinary field that uses scientific methods, processes, algorithms, and systems to extract knowledge and insights from structured and unstructured data."
   ]
  },
  {
   "cell_type": "markdown",
   "id": "47017218-3883-4dc0-8287-3527c9ea3596",
   "metadata": {},
   "source": [
    "Q5: What are the main differences between supervised, unsupervised, and semi-supervised learning?\n"
   ]
  },
  {
   "cell_type": "markdown",
   "id": "d7872e9d-4695-4123-ac4e-379dcaff106e",
   "metadata": {},
   "source": [
    "* Supervised Learning: Uses labeled data to train the model. Examples include classification and regression tasks.\n",
    "\n",
    "* Unsupervised Learning: Uses unlabeled data to find patterns or structure in the data. Examples include clustering and association tasks.\n",
    "\n",
    "* Semi-supervised Learning: Uses a small amount of labeled data and a large amount of unlabeled data to improve learning accuracy. It combines elements of both supervised and unsupervised learning."
   ]
  },
  {
   "cell_type": "markdown",
   "id": "f6c94331-06c3-44e9-9ac4-e5036043986b",
   "metadata": {},
   "source": [
    "Q6: What is train, test and validation split? Explain the importance of each term."
   ]
  },
  {
   "cell_type": "markdown",
   "id": "6838a8e0-1eb0-4e26-a5dc-4fabb7446f09",
   "metadata": {},
   "source": [
    "* Train Split: The portion of the dataset used to train the model. It is the data that the model learns from.\n",
    "* Validation Split: The portion of the dataset used to tune the hyperparameters of the model. It helps in evaluating the model’s performance during training.\n",
    "* Test Split: The portion of the dataset used to assess the final model’s performance. It provides an unbiased evaluation of the model.\n",
    "\n",
    "`Importance:`\n",
    "\n",
    "* Training Data: Crucial for the model to learn patterns.\n",
    "* Validation Data: Helps prevent overfitting and ensures the model generalizes well to unseen data.\n",
    "* Test Data: Measures the real-world performance of the model."
   ]
  },
  {
   "cell_type": "markdown",
   "id": "93fa9745-0ece-44db-b681-1ec8d02b92a0",
   "metadata": {},
   "source": [
    "Q7: How can unsupervised learning be used in anomaly detection?"
   ]
  },
  {
   "cell_type": "markdown",
   "id": "4dc4d94c-58d2-4a68-85de-ff982365ddbb",
   "metadata": {},
   "source": [
    "* Anomaly Detection: Unsupervised learning can identify unusual patterns that do not conform to expected behavior. This is useful in various applications such as fraud detection, network security, and fault detection in systems.\n",
    "\n",
    "`Example:`\n",
    "\n",
    "* Using clustering algorithms like K-means to detect outliers in data. Data points that do not fit well into any cluster can be considered anomalies."
   ]
  },
  {
   "cell_type": "markdown",
   "id": "dfa1e775-8094-4512-9647-1fd26e94ab45",
   "metadata": {},
   "source": [
    "Q8: List down some commonly used supervised learning algorithms and unsupervised learning algorithms."
   ]
  },
  {
   "cell_type": "markdown",
   "id": "845e4313-6858-4ce9-b18b-4825c9f64d9b",
   "metadata": {},
   "source": [
    "`Supervised Learning Algorithms:`\n",
    "\n",
    "* Linear Regression\n",
    "* Logistic Regression\n",
    "* Decision Trees\n",
    "* Random Forests\n",
    "* Support Vector Machines (SVM)\n",
    "* Neural Networks (e.g., CNN, RNN)\n",
    "\n",
    "`Unsupervised Learning Algorithms:`\n",
    "\n",
    "* K-means Clustering\n",
    "* Hierarchical Clustering\n",
    "* Principal Component Analysis (PCA)\n",
    "* Independent Component Analysis (ICA)\n",
    "* Association Rule Learning (e.g., Apriori algorithm)"
   ]
  }
 ],
 "metadata": {
  "kernelspec": {
   "display_name": "Python 3 (ipykernel)",
   "language": "python",
   "name": "python3"
  },
  "language_info": {
   "codemirror_mode": {
    "name": "ipython",
    "version": 3
   },
   "file_extension": ".py",
   "mimetype": "text/x-python",
   "name": "python",
   "nbconvert_exporter": "python",
   "pygments_lexer": "ipython3",
   "version": "3.10.8"
  }
 },
 "nbformat": 4,
 "nbformat_minor": 5
}
