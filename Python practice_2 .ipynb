{
 "cells": [
  {
   "cell_type": "markdown",
   "id": "488c5dd9-3df9-4e2d-ae9e-7d0fa2e757ab",
   "metadata": {},
   "source": [
    "Q1. You are writing code for a company. The requirement of the company is that you create a python\n",
    "function that will check whether the password entered by the user is correct or not. The function should\n",
    "take the password as input and return the string “Valid Password” if the entered password follows the\n",
    "below-given password guidelines else it should return “Invalid Password”.\n",
    "\n",
    "Note: \n",
    "1. The Password should contain at least two uppercase letters and at least two lowercase letters.\n",
    "2. The Password should contain at least a number and three special characters.\n",
    "3. The length of the password should be 10 characters long."
   ]
  },
  {
   "cell_type": "code",
   "execution_count": 2,
   "id": "5965b9ca-d3fe-4926-a1a1-73db5411f49c",
   "metadata": {},
   "outputs": [
    {
     "name": "stdout",
     "output_type": "stream",
     "text": [
      "Invalid Password\n",
      "Invalid Password\n"
     ]
    }
   ],
   "source": [
    "import re\n",
    "\n",
    "def validate_password(password):\n",
    "    if len(password) != 10:\n",
    "        return \"Invalid Password\"\n",
    "    if not re.search(r'[A-Z].*[A-Z]', password):\n",
    "        return \"Invalid Password\"\n",
    "    if not re.search(r'[a-z].*[a-z]', password):\n",
    "        return \"Invalid Password\"\n",
    "    if not re.search(r'\\d', password):\n",
    "        return \"Invalid Password\"\n",
    "    if not re.search(r'[^A-Za-z0-9]{3,}', password):\n",
    "        return \"Invalid Password\"\n",
    "    return \"Valid Password\"\n",
    "\n",
    "# Example Usage\n",
    "print(validate_password(\"Aa1!Aa1!Aa\"))  # Invalid Password\n",
    "print(validate_password(\"AAbb11!!!\"))  # Valid Password\n"
   ]
  },
  {
   "cell_type": "markdown",
   "id": "f316d57a-9603-4fe4-9079-2539fa14c5ae",
   "metadata": {},
   "source": [
    "Q2. Solve the below-given questions using at least one of the following:\n",
    "1. Lambda functioJ\n",
    "2. Filter functioJ\n",
    "3. Zap functioJ\n",
    "4. List ComprehensioI\n",
    "\n"
   ]
  },
  {
   "cell_type": "code",
   "execution_count": 3,
   "id": "e0d6532e-4ff1-48d2-a9e5-ddbbb5c2e0f0",
   "metadata": {},
   "outputs": [
    {
     "name": "stdout",
     "output_type": "stream",
     "text": [
      "True\n"
     ]
    }
   ],
   "source": [
    "\"1. Check if the string starts with a particular letter.\"\n",
    "\n",
    "string = \"apple\"\n",
    "starts_with_a = lambda s: s.startswith('a')\n",
    "print(starts_with_a(string))  # True\n",
    "\n"
   ]
  },
  {
   "cell_type": "code",
   "execution_count": 4,
   "id": "16bdd21b-fb3e-4eac-ad56-8960827488c1",
   "metadata": {},
   "outputs": [
    {
     "name": "stdout",
     "output_type": "stream",
     "text": [
      "True\n"
     ]
    }
   ],
   "source": [
    "\"2. Check if the string is numeric.\"\n",
    "\n",
    "string = \"12345\"\n",
    "is_numeric = lambda s: s.isnumeric()\n",
    "print(is_numeric(string))  # True\n"
   ]
  },
  {
   "cell_type": "code",
   "execution_count": 5,
   "id": "2e1815ad-9b05-4456-b0e2-4c36924aa90c",
   "metadata": {},
   "outputs": [
    {
     "name": "stdout",
     "output_type": "stream",
     "text": [
      "[('orange', 80), ('mango', 99), ('grapes', 1000)]\n"
     ]
    }
   ],
   "source": [
    "\"3. Sort a list of tuples having fruit names and their quantity.\"\n",
    "\n",
    "fruits = [(\"mango\", 99), (\"orange\", 80), (\"grapes\", 1000)]\n",
    "sorted_fruits = sorted(fruits, key=lambda x: x[1])\n",
    "print(sorted_fruits)  # [('orange', 80), ('mango', 99), ('grapes', 1000)]\n"
   ]
  },
  {
   "cell_type": "code",
   "execution_count": 6,
   "id": "5740e818-2b52-416e-9b5a-1b5e4800c65e",
   "metadata": {},
   "outputs": [
    {
     "name": "stdout",
     "output_type": "stream",
     "text": [
      "[1, 4, 9, 16, 25, 36, 49, 64, 81, 100]\n"
     ]
    }
   ],
   "source": [
    "\"4. Find the squares of numbers from 1 to 10.\"\n",
    "\n",
    "squares = list(map(lambda x: x**2, range(1, 11)))\n",
    "print(squares)  # [1, 4, 9, 16, 25, 36, 49, 64, 81, 100]\n"
   ]
  },
  {
   "cell_type": "code",
   "execution_count": 7,
   "id": "94b9034d-a76f-4ae3-a6b2-a6f5c2c458dd",
   "metadata": {},
   "outputs": [
    {
     "name": "stdout",
     "output_type": "stream",
     "text": [
      "[1.0, 1.26, 1.44, 1.59, 1.71, 1.82, 1.91, 2.0, 2.08, 2.15]\n"
     ]
    }
   ],
   "source": [
    "\"5. Find the cube root of numbers from 1 to 10.\"\n",
    "\n",
    "import math\n",
    "cube_roots = list(map(lambda x: round(x**(1/3), 2), range(1, 11)))\n",
    "print(cube_roots)  # [1.0, 1.26, 1.44, 1.59, 1.71, 1.82, 1.91, 2.0, 2.08, 2.15]\n"
   ]
  },
  {
   "cell_type": "code",
   "execution_count": 8,
   "id": "d4aaed1c-f798-477b-997a-639b7d912a14",
   "metadata": {},
   "outputs": [
    {
     "name": "stdout",
     "output_type": "stream",
     "text": [
      "True\n",
      "False\n"
     ]
    }
   ],
   "source": [
    "\"6. Check if a given number is even.\"\n",
    "\n",
    "is_even = lambda x: x % 2 == 0\n",
    "print(is_even(4))  # True\n",
    "print(is_even(5))  # False\n"
   ]
  },
  {
   "cell_type": "code",
   "execution_count": 9,
   "id": "23b66135-877f-414d-8a4f-850040c5472d",
   "metadata": {},
   "outputs": [
    {
     "name": "stdout",
     "output_type": "stream",
     "text": [
      "[1, 3, 5, 7, 9]\n"
     ]
    }
   ],
   "source": [
    "\"7. Filter odd numbers from the given list.\"\n",
    "\n",
    "numbers = [1, 2, 3, 4, 5, 6, 7, 8, 9, 10]\n",
    "odd_numbers = list(filter(lambda x: x % 2 != 0, numbers))\n",
    "print(odd_numbers)  # [1, 3, 5, 7, 9]\n"
   ]
  },
  {
   "cell_type": "code",
   "execution_count": 11,
   "id": "26e1a303-bc09-4bb6-9807-d41107aa6367",
   "metadata": {},
   "outputs": [
    {
     "name": "stdout",
     "output_type": "stream",
     "text": [
      "Positive numbers: [1, 2, 3, 4, 5, 6]\n",
      "Negative numbers: [-1, -2, -3, -4, -5]\n"
     ]
    }
   ],
   "source": [
    "\"8. Sort a list of integers into positive and negative integers lists.\"\n",
    "\n",
    "numbers = [1, 2, 3, 4, 5, 6, -1, -2, -3, -4, -5, 0]\n",
    "positive_numbers = list(filter(lambda x: x > 0, numbers))\n",
    "negative_numbers = list(filter(lambda x: x < 0, numbers))\n",
    "print(\"Positive numbers:\", positive_numbers)  # [1, 2, 3, 4, 5, 6]\n",
    "print(\"Negative numbers:\", negative_numbers)  # [-1, -2, -3, -4, -5]\n"
   ]
  }
 ],
 "metadata": {
  "kernelspec": {
   "display_name": "Python 3 (ipykernel)",
   "language": "python",
   "name": "python3"
  },
  "language_info": {
   "codemirror_mode": {
    "name": "ipython",
    "version": 3
   },
   "file_extension": ".py",
   "mimetype": "text/x-python",
   "name": "python",
   "nbconvert_exporter": "python",
   "pygments_lexer": "ipython3",
   "version": "3.10.8"
  }
 },
 "nbformat": 4,
 "nbformat_minor": 5
}
