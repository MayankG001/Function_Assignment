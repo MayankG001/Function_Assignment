{
 "cells": [
  {
   "cell_type": "markdown",
   "id": "cab0878f-085c-4e06-b5de-1f5d7a993cdb",
   "metadata": {},
   "source": [
    "**Q1. Explain the difference between simple linear regression and multiple linear regression. Provide an\n",
    "example of each.**"
   ]
  },
  {
   "cell_type": "markdown",
   "id": "47228a0c-3d62-417d-8f5f-27aacaf42b18",
   "metadata": {},
   "source": [
    "* Simple Linear Regression involves one independent variable and one dependent variable. It aims to model the relationship between the two by fitting a linear equation to observed data.\n",
    "\n",
    "`Example:` Predicting a person's weight based on their height.\n",
    "\n",
    "* Multiple Linear Regression involves two or more independent variables and one dependent variable. It extends simple linear regression by allowing for multiple predictors.\n",
    "\n",
    "`Example:` Predicting a person's weight based on height, age, and diet."
   ]
  },
  {
   "cell_type": "markdown",
   "id": "def70646-97db-4599-a6e7-5bb6e97b0d78",
   "metadata": {},
   "source": [
    "Q2. Discuss the assumptions of linear regression. How can you check whether these assumptions hold in\n",
    "a given dataset?"
   ]
  },
  {
   "cell_type": "markdown",
   "id": "bb36054a-13a2-411b-a73b-641f109eb184",
   "metadata": {},
   "source": [
    "`The main assumptions of linear regression include:`\n",
    "\n",
    "* Linearity: The relationship between the independent and dependent variables is linear.\n",
    "* Independence: Observations are independent of each other.\n",
    "* Homoscedasticity: The residuals (errors) have constant variance at all levels of the independent variable.\n",
    "* Normality: The residuals of the model are normally distributed.\n",
    "\n",
    "`Checking Assumptions:`\n",
    "\n",
    "* Linearity: Use scatter plots to visualize relationships.\n",
    "* Independence: Check for autocorrelation using the Durbin-Watson test.\n",
    "* Homoscedasticity: Plot residuals vs. fitted values; look for constant spread.\n",
    "* Normality: Use Q-Q plots or the Shapiro-Wilk test.\n"
   ]
  },
  {
   "cell_type": "markdown",
   "id": "997bab85-8160-43f0-bbc6-bc1fc36fddb6",
   "metadata": {},
   "source": [
    "Q3. How do you interpret the slope and intercept in a linear regression model? Provide an example using\n",
    "a real-world scenario."
   ]
  },
  {
   "cell_type": "markdown",
   "id": "96bfdb9e-7668-4b6a-a2de-11dc21e569ec",
   "metadata": {},
   "source": [
    "In a linear regression model, the slope represents the rate of change of the dependent variable (Y) with respect to the independent variable (X). The intercept is the value of the dependent variable when the independent variable is zero.\n",
    "\n",
    "`Example:` Suppose we are analyzing the relationship between hours studied (X) and test scores (Y). If the regression equation is \n",
    "𝑌\n",
    "=\n",
    "50\n",
    "+\n",
    "5\n",
    "𝑋\n",
    "Y=50+5X:\n",
    "\n",
    "* Slope (5): For every additional hour studied, the test score increases by 5 points.\n",
    "* Intercept (50): If no hours are studied (X=0), the expected test score is 50 points."
   ]
  },
  {
   "cell_type": "markdown",
   "id": "69356bba-5343-4478-a8ca-6f4ad45ee066",
   "metadata": {},
   "source": [
    "Q4. Explain the concept of gradient descent. How is it used in machine learning?"
   ]
  },
  {
   "cell_type": "markdown",
   "id": "052994ef-0d6a-468f-b8a5-30d719938ecd",
   "metadata": {},
   "source": [
    "**Gradient Descent** is an optimization algorithm used to minimize the cost function in machine learning models, including linear regression. It iteratively adjusts the parameters (slope and intercept) to find the minimum error.\n",
    "\n",
    "`Usage in Machine Learning:`\n",
    "\n",
    "* It helps in training models by updating weights based on the gradient of the loss function.\n",
    "* The learning rate determines the size of the steps taken towards the minimum."
   ]
  },
  {
   "cell_type": "markdown",
   "id": "2336179c-e874-4d6d-87c1-a0326cab9b36",
   "metadata": {},
   "source": [
    "Q5. Describe the multiple linear regression model. How does it differ from simple linear regression?"
   ]
  },
  {
   "cell_type": "markdown",
   "id": "869bd4cd-5119-48af-9888-525fa47d10e5",
   "metadata": {},
   "source": [
    "**Multiple Linear Regression** involves multiple independent variables, while Simple Linear Regression involves only one.\n",
    "\n",
    "`Differences:`\n",
    "\n",
    "* Complexity: Multiple regression can capture more complex relationships.\n",
    "* Interpretation: Coefficients in multiple regression indicate the effect of each variable while controlling for others."
   ]
  },
  {
   "cell_type": "markdown",
   "id": "6962e6dd-a04f-4251-b05b-c22d2ee926f3",
   "metadata": {},
   "source": [
    "Q6. Explain the concept of multicollinearity in multiple linear regression. How can you detect and\n",
    "address this issue?"
   ]
  },
  {
   "cell_type": "markdown",
   "id": "698f7fbd-d36d-4371-a16a-980c8386e7ae",
   "metadata": {},
   "source": [
    "**Multicollinearity** occurs when two or more independent variables are highly correlated, leading to unreliable coefficient estimates.\n",
    "\n",
    "`Detection:`\n",
    "\n",
    "* Variance Inflation Factor (VIF): A VIF value greater than 10 indicates high multicollinearity.\n",
    "* Correlation Matrix: Check for high correlation coefficients between independent variables."
   ]
  },
  {
   "cell_type": "markdown",
   "id": "03ce20f8-3c06-4de2-9df8-ad5ad3b91535",
   "metadata": {},
   "source": [
    "Q7. Describe the polynomial regression model. How is it different from linear regression?"
   ]
  },
  {
   "cell_type": "markdown",
   "id": "6b1f4d2b-ab0f-4a83-ba1b-e759c2310d72",
   "metadata": {},
   "source": [
    "**Polynomial Regression** is an extension of linear regression that models the relationship between the independent variable and the dependent variable as an nth degree polynomial.\n",
    "\n",
    "`Advantages:`\n",
    "\n",
    "* Can model non-linear relationships.\n",
    "* Provides a better fit for complex datasets.\n",
    "\n",
    "`Disadvantages:`\n",
    "\n",
    "* Risk of overfitting, especially with high-degree polynomials.\n",
    "* Increased complexity in interpretation.\n",
    "\n",
    "`When to Use:`\n",
    "\n",
    "* Use polynomial regression when the relationship between variables is non-linear and can be better captured with polynomial terms."
   ]
  }
 ],
 "metadata": {
  "kernelspec": {
   "display_name": "Python 3 (ipykernel)",
   "language": "python",
   "name": "python3"
  },
  "language_info": {
   "codemirror_mode": {
    "name": "ipython",
    "version": 3
   },
   "file_extension": ".py",
   "mimetype": "text/x-python",
   "name": "python",
   "nbconvert_exporter": "python",
   "pygments_lexer": "ipython3",
   "version": "3.10.8"
  }
 },
 "nbformat": 4,
 "nbformat_minor": 5
}
