{
 "cells": [
  {
   "cell_type": "markdown",
   "id": "695e71e9-b1cc-4d23-92fa-47f3bda1af94",
   "metadata": {},
   "source": [
    "Q1: Explain Class and Object with respect to Object-Oriented Programming. Give a suitable example."
   ]
  },
  {
   "cell_type": "markdown",
   "id": "00f8e03c-2315-456e-90f3-384e68260b9a",
   "metadata": {},
   "source": [
    "Class: A class is a blueprint for creating objects. It defines a set of attributes and methods that the created objects can use. A class encapsulates data for the object.\n",
    "\n",
    "Object: An object is an instance of a class. It is a concrete entity based on the class blueprint, containing real values instead of variables."
   ]
  },
  {
   "cell_type": "code",
   "execution_count": 1,
   "id": "1ac4f494-905d-401c-8d2d-e6b52564b99f",
   "metadata": {},
   "outputs": [
    {
     "name": "stdout",
     "output_type": "stream",
     "text": [
      "2020 Toyota Corolla\n"
     ]
    }
   ],
   "source": [
    "class Car:\n",
    "    def __init__(self, make, model, year):\n",
    "        self.make = make\n",
    "        self.model = model\n",
    "        self.year = year\n",
    "\n",
    "    def description(self):\n",
    "        return f\"{self.year} {self.make} {self.model}\"\n",
    "\n",
    "# Creating an object of the Car class\n",
    "my_car = Car(\"Toyota\", \"Corolla\", 2020)\n",
    "print(my_car.description())\n"
   ]
  },
  {
   "cell_type": "markdown",
   "id": "5a6750fd-1709-48e8-ad55-37382b8da1ea",
   "metadata": {},
   "source": [
    "Q2: Name the four pillars of OOPs."
   ]
  },
  {
   "cell_type": "markdown",
   "id": "d222c6b3-ed01-4a93-ba06-705afa39bbf3",
   "metadata": {},
   "source": [
    "1. Encapsulation: Encapsulation is the mechanism of hiding the internal state of an object and requiring all interaction to be performed through an object's methods. It helps in protecting the data from unintended interference and misuse.\n",
    "\n",
    "2. Inheritance: Inheritance allows a new class to inherit the attributes and methods of an existing class. This promotes code reusability.\n",
    "\n",
    "3. Polymorphism: Polymorphism allows methods to do different things based on the object it is acting upon. It includes method overriding (same method, different class) and method overloading (same method name, different parameters).\n",
    "\n",
    "4. Abstraction: Abstraction is the concept of hiding the complex implementation details and showing only the necessary features of an object. It helps in reducing programming complexity and effort."
   ]
  },
  {
   "cell_type": "markdown",
   "id": "60e0f574-f288-413a-a9e4-db04190f359e",
   "metadata": {},
   "source": [
    "Q3: Explain why the __init__() function is used. Give a suitable example."
   ]
  },
  {
   "cell_type": "markdown",
   "id": "667be0c3-59cb-45b8-a5fc-30ae78c59b94",
   "metadata": {},
   "source": [
    "The __init__() function in Python is a special method called a constructor. It is automatically invoked when an object of a class is instantiated. The __init__() method initializes the object's attributes and can take arguments to set the initial state of the object."
   ]
  },
  {
   "cell_type": "code",
   "execution_count": 2,
   "id": "f1db918e-25a9-45e1-b6ff-ae1e9752014f",
   "metadata": {},
   "outputs": [
    {
     "name": "stdout",
     "output_type": "stream",
     "text": [
      "Name: Alice, Age: 21\n"
     ]
    }
   ],
   "source": [
    "class Student:\n",
    "    def __init__(self, name, age):\n",
    "        self.name = name\n",
    "        self.age = age\n",
    "\n",
    "    def get_details(self):\n",
    "        return f\"Name: {self.name}, Age: {self.age}\"\n",
    "\n",
    "# Creating an object of the Student class\n",
    "student1 = Student(\"Alice\", 21)\n",
    "print(student1.get_details())\n"
   ]
  },
  {
   "cell_type": "markdown",
   "id": "72a023d2-6ce4-4408-beaf-f11487441296",
   "metadata": {},
   "source": [
    "Q4: Why self is used in OOPs?"
   ]
  },
  {
   "cell_type": "markdown",
   "id": "ec7836c2-6324-4a4a-8561-af8f326e7001",
   "metadata": {},
   "source": [
    "In Python, self is used in instance methods to refer to the instance of the class. It allows access to the attributes and methods of the class in object-oriented programming. By convention, self is the first parameter in instance methods."
   ]
  },
  {
   "cell_type": "code",
   "execution_count": 3,
   "id": "97b48e74-c779-4d83-a8da-250d97b3ddec",
   "metadata": {},
   "outputs": [
    {
     "name": "stdout",
     "output_type": "stream",
     "text": [
      "Buddy says Woof!\n"
     ]
    }
   ],
   "source": [
    "class Dog:\n",
    "    def __init__(self, name, breed):\n",
    "        self.name = name\n",
    "        self.breed = breed\n",
    "\n",
    "    def bark(self):\n",
    "        return f\"{self.name} says Woof!\"\n",
    "\n",
    "# Creating an object of the Dog class\n",
    "dog1 = Dog(\"Buddy\", \"Golden Retriever\")\n",
    "print(dog1.bark())\n"
   ]
  },
  {
   "cell_type": "markdown",
   "id": "db6df92e-37a8-4fef-834c-6083a98abbb7",
   "metadata": {},
   "source": [
    "Q5: What is inheritance? Give an example for each type of inheritance."
   ]
  },
  {
   "cell_type": "markdown",
   "id": "848b11ee-c350-4765-880e-45dda4712551",
   "metadata": {},
   "source": [
    "Inheritance is a feature in object-oriented programming that allows a class (child class) to inherit attributes and methods from another class (parent class). There are different types of inheritance:\n",
    "\n",
    "1. Single Inheritance: A child class inherits from a single parent class."
   ]
  },
  {
   "cell_type": "code",
   "execution_count": 4,
   "id": "401b8c34-3fe4-49b8-b324-68d22b5e28d4",
   "metadata": {},
   "outputs": [
    {
     "name": "stdout",
     "output_type": "stream",
     "text": [
      "Buddy says Woof!\n"
     ]
    }
   ],
   "source": [
    "class Animal:\n",
    "    def __init__(self, name):\n",
    "        self.name = name\n",
    "\n",
    "    def speak(self):\n",
    "        return f\"{self.name} makes a sound\"\n",
    "\n",
    "class Dog(Animal):\n",
    "    def speak(self):\n",
    "        return f\"{self.name} says Woof!\"\n",
    "\n",
    "# Creating an object of the Dog class\n",
    "dog = Dog(\"Buddy\")\n",
    "print(dog.speak())\n"
   ]
  },
  {
   "cell_type": "markdown",
   "id": "7c5aca8a-acfb-4bcc-b780-e835ef7d9e47",
   "metadata": {},
   "source": [
    "2. Multiple Inheritance: A child class inherits from multiple parent classes."
   ]
  },
  {
   "cell_type": "code",
   "execution_count": 5,
   "id": "a931220d-af7a-4fff-b997-8657f14e363e",
   "metadata": {},
   "outputs": [
    {
     "name": "stdout",
     "output_type": "stream",
     "text": [
      "Method A\n",
      "Method B\n"
     ]
    }
   ],
   "source": [
    "class A:\n",
    "    def method_a(self):\n",
    "        return \"Method A\"\n",
    "\n",
    "class B:\n",
    "    def method_b(self):\n",
    "        return \"Method B\"\n",
    "\n",
    "class C(A, B):\n",
    "    pass\n",
    "\n",
    "# Creating an object of the C class\n",
    "obj = C()\n",
    "print(obj.method_a())\n",
    "print(obj.method_b())\n"
   ]
  },
  {
   "cell_type": "markdown",
   "id": "fc6b555b-9e42-4367-a5ea-87203c91edf8",
   "metadata": {},
   "source": [
    "3. Multilevel Inheritance: A child class inherits from another child class."
   ]
  },
  {
   "cell_type": "code",
   "execution_count": 6,
   "id": "d4ceeddd-76fe-4943-92b2-c1501732e5c7",
   "metadata": {},
   "outputs": [
    {
     "name": "stdout",
     "output_type": "stream",
     "text": [
      "Buddy says Woof!\n",
      "True\n"
     ]
    }
   ],
   "source": [
    "class Animal:\n",
    "    def __init__(self, name):\n",
    "        self.name = name\n",
    "\n",
    "class Mammal(Animal):\n",
    "    def has_hair(self):\n",
    "        return True\n",
    "\n",
    "class Dog(Mammal):\n",
    "    def speak(self):\n",
    "        return f\"{self.name} says Woof!\"\n",
    "\n",
    "# Creating an object of the Dog class\n",
    "dog = Dog(\"Buddy\")\n",
    "print(dog.speak())\n",
    "print(dog.has_hair())\n"
   ]
  },
  {
   "cell_type": "markdown",
   "id": "5fa9a6c4-05df-45ad-9570-5ce821f13ade",
   "metadata": {},
   "source": [
    "4. Hierarchical Inheritance: Multiple child classes inherit from a single parent class."
   ]
  },
  {
   "cell_type": "code",
   "execution_count": 7,
   "id": "7b48aa69-f004-4816-8eb0-1cd556a9564a",
   "metadata": {},
   "outputs": [
    {
     "name": "stdout",
     "output_type": "stream",
     "text": [
      "Buddy says Woof!\n",
      "Whiskers says Meow!\n"
     ]
    }
   ],
   "source": [
    "class Animal:\n",
    "    def __init__(self, name):\n",
    "        self.name = name\n",
    "\n",
    "class Dog(Animal):\n",
    "    def speak(self):\n",
    "        return f\"{self.name} says Woof!\"\n",
    "\n",
    "class Cat(Animal):\n",
    "    def speak(self):\n",
    "        return f\"{self.name} says Meow!\"\n",
    "\n",
    "# Creating objects of Dog and Cat classes\n",
    "dog = Dog(\"Buddy\")\n",
    "cat = Cat(\"Whiskers\")\n",
    "print(dog.speak())\n",
    "print(cat.speak())\n"
   ]
  },
  {
   "cell_type": "markdown",
   "id": "5b03bae4-bea2-4e38-8b96-fee3be6e4de5",
   "metadata": {},
   "source": [
    "5. Hybrid Inheritance: A combination of two or more types of inheritance."
   ]
  },
  {
   "cell_type": "code",
   "execution_count": 8,
   "id": "f25ed712-8b0b-4c24-9df1-38bf7188867a",
   "metadata": {},
   "outputs": [
    {
     "name": "stdout",
     "output_type": "stream",
     "text": [
      "Method A\n",
      "Method B\n",
      "Method C\n"
     ]
    }
   ],
   "source": [
    "class A:\n",
    "    def method_a(self):\n",
    "        return \"Method A\"\n",
    "\n",
    "class B(A):\n",
    "    def method_b(self):\n",
    "        return \"Method B\"\n",
    "\n",
    "class C(A):\n",
    "    def method_c(self):\n",
    "        return \"Method C\"\n",
    "\n",
    "class D(B, C):\n",
    "    pass\n",
    "\n",
    "# Creating an object of the D class\n",
    "obj = D()\n",
    "print(obj.method_a())\n",
    "print(obj.method_b())\n",
    "print(obj.method_c())\n"
   ]
  }
 ],
 "metadata": {
  "kernelspec": {
   "display_name": "Python 3 (ipykernel)",
   "language": "python",
   "name": "python3"
  },
  "language_info": {
   "codemirror_mode": {
    "name": "ipython",
    "version": 3
   },
   "file_extension": ".py",
   "mimetype": "text/x-python",
   "name": "python",
   "nbconvert_exporter": "python",
   "pygments_lexer": "ipython3",
   "version": "3.10.8"
  }
 },
 "nbformat": 4,
 "nbformat_minor": 5
}
