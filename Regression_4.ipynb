{
 "cells": [
  {
   "cell_type": "markdown",
   "id": "b3282b37-e11c-4eb0-bd9e-3ba494fa85d6",
   "metadata": {},
   "source": [
    "Q1: What is Lasso Regression, and how does it differ from other regression techniques?\n"
   ]
  },
  {
   "attachments": {
    "afcd7069-ec73-473c-935b-b4c8ae20ba3b.png": {
     "image/png": "[encoded data removed]"
    }
   },
   "cell_type": "markdown",
   "id": "83ff01eb-cdc7-4491-8b2e-067eeefb6b09",
   "metadata": {},
   "source": [
    "Lasso Regression (Least Absolute Shrinkage and Selection Operator) is a type of linear regression that uses L1 regularization to enforce sparsity by shrinking some coefficients to zero, effectively performing feature selection.\n",
    "\n",
    "![Screenshot 2024-08-03 172646.png](attachment:afcd7069-ec73-473c-935b-b4c8ae20ba3b.png)\n",
    "\n",
    "`Where:`\n",
    "\n",
    "* RSS is the residual sum of squares.\n",
    "* 𝜆 is the regularization parameter.\n",
    "* 𝛽𝑗 are the coefficients.\n",
    "\n",
    "`Differences from other regression techniques:`\n",
    "\n",
    "* Ordinary Least Squares (OLS): Minimizes the sum of squared residuals without any penalty, leading to no feature selection.\n",
    "* Ridge Regression: Uses L2 regularization, penalizing the sum of squared coefficients, which shrinks coefficients but does not set any to zero.\n",
    "* Lasso Regression: Uses L1 regularization, penalizing the sum of the absolute values of coefficients, which can shrink some coefficients to zero, performing feature selection.\n",
    "\n",
    "\n"
   ]
  },
  {
   "cell_type": "markdown",
   "id": "daa3ce68-0272-4a70-8d9c-9431f12632c9",
   "metadata": {},
   "source": [
    "Q2: What is the main advantage of using Lasso Regression in feature selection?\n"
   ]
  },
  {
   "cell_type": "markdown",
   "id": "c4c0ce4f-52c4-41bb-b04a-01c182631773",
   "metadata": {},
   "source": [
    "The main advantage of using Lasso Regression in feature selection is its ability to automatically set some coefficients to zero, thus selecting a subset of the most important features and providing a simpler, more interpretable model.\n",
    "\n"
   ]
  },
  {
   "cell_type": "markdown",
   "id": "a5fc9074-30b3-4218-b08a-c10f9d077f45",
   "metadata": {},
   "source": [
    "Q3: How do you interpret the coefficients of a Lasso Regression model?\n"
   ]
  },
  {
   "cell_type": "markdown",
   "id": "05c28096-0caa-4f53-8285-e80d13b61625",
   "metadata": {},
   "source": [
    "The interpretation of coefficients in a Lasso Regression model is similar to that in OLS regression, with the additional context that some coefficients may be exactly zero due to the L1 regularization. Non-zero coefficients indicate the selected features that have a significant impact on the response variable, while zero coefficients indicate features that are excluded from the model.\n",
    "\n"
   ]
  },
  {
   "cell_type": "markdown",
   "id": "249528d9-fa99-4596-ba6c-cbd8318ca9a3",
   "metadata": {},
   "source": [
    "Q4: What are the tuning parameters that can be adjusted in Lasso Regression, and how do they affect the model's performance?\n"
   ]
  },
  {
   "cell_type": "markdown",
   "id": "79916afb-0bbd-463d-906f-1bbd31554949",
   "metadata": {},
   "source": [
    "The primary tuning parameter in Lasso Regression is the regularization parameter (λ). This parameter controls the strength of the penalty applied to the coefficients:\n",
    "\n",
    "* **High 𝜆:** Increases the penalty, leading to more coefficients being shrunk to zero, potentially increasing bias but reducing variance.\n",
    "* **Low λ:** Decreases the penalty, leading to fewer coefficients being shrunk to zero, potentially reducing bias but increasing variance."
   ]
  },
  {
   "cell_type": "markdown",
   "id": "f8c8333a-c271-4d08-8c84-2aafd3b16669",
   "metadata": {},
   "source": [
    "Q5: Can Lasso Regression be used for non-linear regression problems? If yes, how?\n"
   ]
  },
  {
   "cell_type": "markdown",
   "id": "e7e3de8a-d8d6-4711-b8a7-2baabe26652c",
   "metadata": {},
   "source": [
    "Lasso Regression is inherently a linear method. However, it can be extended to handle non-linear regression problems by using basis expansion techniques, such as polynomial features or interaction terms, which transform the original features into a higher-dimensional space where linear methods can be applied.\n",
    "\n"
   ]
  },
  {
   "cell_type": "markdown",
   "id": "37c8b6de-ba6d-4f0a-ac3a-5b2af5e8da97",
   "metadata": {},
   "source": [
    "Q6: What is the difference between Ridge Regression and Lasso Regression?\n"
   ]
  },
  {
   "cell_type": "markdown",
   "id": "55b65d5d-83d6-43c6-ad77-9508f1efb82b",
   "metadata": {},
   "source": [
    "`The main differences between Ridge Regression and Lasso Regression are:`\n",
    "\n",
    "**Regularization Type:**\n",
    "\n",
    "* Ridge Regression: Uses L2 regularization, penalizing the sum of squared coefficients.\n",
    "* Lasso Regression: Uses L1 regularization, penalizing the sum of the absolute values of coefficients.\n",
    "\n",
    "**Feature Selection:**\n",
    "\n",
    "* Ridge Regression: Shrinks coefficients but does not set any to zero, so it does not perform feature selection.\n",
    "* Lasso Regression: Can shrink some coefficients to zero, effectively performing feature selection."
   ]
  },
  {
   "cell_type": "markdown",
   "id": "395fd6d1-f38a-431d-acca-52cac028b7a2",
   "metadata": {},
   "source": [
    "Q7: Can Lasso Regression handle multicollinearity in the input features? If yes, how?\n"
   ]
  },
  {
   "cell_type": "markdown",
   "id": "a0803d47-40da-42a5-a9df-1e98f37f1010",
   "metadata": {},
   "source": [
    "Yes, Lasso Regression can handle multicollinearity. By shrinking some coefficients to zero, Lasso Regression can effectively select one feature among a group of highly correlated features, reducing multicollinearity. However, it may struggle when there are groups of highly correlated variables, as it tends to select one variable from the group and ignore others.\n",
    "\n"
   ]
  },
  {
   "cell_type": "markdown",
   "id": "8276321f-5c0d-4789-b396-d4da07365c0f",
   "metadata": {},
   "source": [
    "Q8: How do you choose the optimal value of the regularization parameter (lambda) in Lasso Regression?\n"
   ]
  },
  {
   "cell_type": "markdown",
   "id": "309ac60e-5339-4d94-b31e-fb50ba92d856",
   "metadata": {},
   "source": [
    "The optimal value of the regularization parameter (𝜆) in Lasso Regression is typically chosen using cross-validation. The process involves:\n",
    "\n",
    "* Splitting the data into training and validation sets.\n",
    "* Training multiple Lasso Regression models with different 𝜆 values.\n",
    "* Evaluating the performance of each model on the validation set.\n",
    "* Choosing the λ value that minimizes the validation error.\n",
    "\n",
    "This process helps in balancing the trade-off between bias and variance, ensuring the model is neither overfitting nor underfitting."
   ]
  }
 ],
 "metadata": {
  "kernelspec": {
   "display_name": "Python 3 (ipykernel)",
   "language": "python",
   "name": "python3"
  },
  "language_info": {
   "codemirror_mode": {
    "name": "ipython",
    "version": 3
   },
   "file_extension": ".py",
   "mimetype": "text/x-python",
   "name": "python",
   "nbconvert_exporter": "python",
   "pygments_lexer": "ipython3",
   "version": "3.10.8"
  }
 },
 "nbformat": 4,
 "nbformat_minor": 5
}
