{
 "cells": [
  {
   "cell_type": "markdown",
   "id": "4731e45f-250e-4d73-beae-e922bd2dcd36",
   "metadata": {},
   "source": [
    "Q1: Load the \"titanic\" dataset using the load_dataset function of seaborn. Use Plotly Express to plot a scatter plot for age and fare columns in the titanic dataset."
   ]
  },
  {
   "cell_type": "code",
   "execution_count": null,
   "id": "9a3988c0-19ee-45f7-8099-a87c002dea9d",
   "metadata": {},
   "outputs": [],
   "source": [
    "import seaborn as sns\n",
    "import plotly.express as px\n",
    "\n",
    "# Load the titanic dataset\n",
    "titanic = sns.load_dataset(\"titanic\")\n",
    "\n",
    "# Plotting scatter plot for age and fare columns\n",
    "fig = px.scatter(titanic, x='age', y='fare', title='Scatter Plot of Age vs Fare in Titanic Dataset')\n",
    "fig.show()\n"
   ]
  },
  {
   "cell_type": "markdown",
   "id": "9f838424-3d8b-47ee-bd4d-fc9cfa3e654c",
   "metadata": {},
   "source": [
    "Q2. Using the tips dataset in the Plotly library, plot a box plot using Plotly express."
   ]
  },
  {
   "cell_type": "code",
   "execution_count": null,
   "id": "aedc5ba1-10a2-4280-a36b-31ded2e4fe05",
   "metadata": {},
   "outputs": [],
   "source": [
    "import plotly.express as px\n",
    "\n",
    "# Load the tips dataset\n",
    "tips = px.data.tips()\n",
    "\n",
    "# Plotting box plot for tips dataset\n",
    "fig = px.box(tips, x='day', y='total_bill', title='Box Plot of Total Bill by Day in Tips Dataset')\n",
    "fig.show()\n"
   ]
  },
  {
   "cell_type": "markdown",
   "id": "71a34278-a511-42c7-8694-b771cb90cf6d",
   "metadata": {},
   "source": [
    "Q3. Using the tips dataset in the Plotly library, Plot a histogram for x= \"sex\" and y=\"total_bill\" column in\n",
    "the tips dataset. Also, use the \"smoker\" column with the pattern_shape parameter and the \"day\"\n",
    "column with the color parameter."
   ]
  },
  {
   "cell_type": "code",
   "execution_count": null,
   "id": "da1567c4-d40c-47a2-bb91-93b52a2bce8c",
   "metadata": {},
   "outputs": [],
   "source": [
    "# Plotting histogram for tips dataset\n",
    "fig = px.histogram(tips, x='sex', y='total_bill', color='day', pattern_shape='smoker',\n",
    "                   title='Histogram of Total Bill by Sex, Day, and Smoker Status in Tips Dataset')\n",
    "fig.show()\n"
   ]
  },
  {
   "cell_type": "markdown",
   "id": "c3c37400-b781-47f9-a17a-34416747cd03",
   "metadata": {},
   "source": [
    "Q4. Using the iris dataset in the Plotly library, Plot a scatter matrix plot, using the \"species\" column for\n",
    "the color parameter."
   ]
  },
  {
   "cell_type": "code",
   "execution_count": null,
   "id": "d3310bec-6354-4b53-8972-2a105eaa543e",
   "metadata": {},
   "outputs": [],
   "source": [
    "# Load the iris dataset\n",
    "iris = px.data.iris()\n",
    "\n",
    "# Plotting scatter matrix plot for iris dataset\n",
    "fig = px.scatter_matrix(iris, dimensions=[\"sepal_length\", \"sepal_width\", \"petal_length\", \"petal_width\"],\n",
    "                        color='species', title='Scatter Matrix Plot of Iris Dataset')\n",
    "fig.show()\n"
   ]
  },
  {
   "cell_type": "markdown",
   "id": "17dcde04-62b9-4fae-984e-4283593b06ff",
   "metadata": {},
   "source": [
    "Q5. What is Distplot? Using Plotly express, plot a distplot."
   ]
  },
  {
   "cell_type": "code",
   "execution_count": null,
   "id": "954acd8e-e956-4515-a060-3a5720009982",
   "metadata": {},
   "outputs": [],
   "source": [
    "import plotly.figure_factory as ff\n",
    "import numpy as np\n",
    "\n",
    "# Generate random data\n",
    "data = np.random.randn(1000)\n",
    "\n",
    "# Plotting distplot\n",
    "fig = ff.create_distplot([data], group_labels=['distplot'], bin_size=0.2)\n",
    "fig.update_layout(title='Distribution Plot (Distplot) using Plotly Express')\n",
    "fig.show()\n"
   ]
  }
 ],
 "metadata": {
  "kernelspec": {
   "display_name": "Python 3 (ipykernel)",
   "language": "python",
   "name": "python3"
  },
  "language_info": {
   "codemirror_mode": {
    "name": "ipython",
    "version": 3
   },
   "file_extension": ".py",
   "mimetype": "text/x-python",
   "name": "python",
   "nbconvert_exporter": "python",
   "pygments_lexer": "ipython3",
   "version": "3.10.8"
  }
 },
 "nbformat": 4,
 "nbformat_minor": 5
}
